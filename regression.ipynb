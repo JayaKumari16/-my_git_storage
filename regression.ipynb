{
 "cells": [
  {
   "cell_type": "code",
   "execution_count": null,
   "metadata": {},
   "outputs": [],
   "source": []
  },
  {
   "cell_type": "code",
   "execution_count": null,
   "metadata": {},
   "outputs": [],
   "source": []
  },
  {
   "cell_type": "code",
   "execution_count": null,
   "metadata": {},
   "outputs": [],
   "source": []
  },
  {
   "cell_type": "markdown",
   "metadata": {},
   "source": [
    "## Linear Regression on bank-additional-full dataset"
   ]
  },
  {
   "cell_type": "code",
   "execution_count": 2,
   "metadata": {},
   "outputs": [],
   "source": [
    "import pandas as pd\n",
    "import matplotlib.pyplot as plt\n",
    "%matplotlib inline\n",
    "import seaborn as sns\n",
    "import numpy as np\n",
    "df=pd.read_csv(\"bank-additional-full.csv\",sep=';')"
   ]
  },
  {
   "cell_type": "code",
   "execution_count": 3,
   "metadata": {},
   "outputs": [
    {
     "name": "stderr",
     "output_type": "stream",
     "text": [
      "C:\\Users\\jyaku\\Anaconda3\\lib\\site-packages\\dtale\\dash_application\\charts.py:13: UserWarning: \n",
      "The dash_core_components package is deprecated. Please replace\n",
      "`import dash_core_components as dcc` with `from dash import dcc`\n",
      "  import dash_core_components as dcc\n",
      "C:\\Users\\jyaku\\Anaconda3\\lib\\site-packages\\dtale\\dash_application\\charts.py:14: UserWarning: \n",
      "The dash_html_components package is deprecated. Please replace\n",
      "`import dash_html_components as html` with `from dash import html`\n",
      "  import dash_html_components as html\n"
     ]
    }
   ],
   "source": [
    "import dtale"
   ]
  },
  {
   "cell_type": "code",
   "execution_count": 4,
   "metadata": {},
   "outputs": [
    {
     "ename": "NameError",
     "evalue": "name 'df1' is not defined",
     "output_type": "error",
     "traceback": [
      "\u001b[1;31m---------------------------------------------------------------------------\u001b[0m",
      "\u001b[1;31mNameError\u001b[0m                                 Traceback (most recent call last)",
      "\u001b[1;32m<ipython-input-4-679e4f973d4d>\u001b[0m in \u001b[0;36m<module>\u001b[1;34m\u001b[0m\n\u001b[1;32m----> 1\u001b[1;33m \u001b[0mdtale\u001b[0m\u001b[1;33m.\u001b[0m\u001b[0mshow\u001b[0m\u001b[1;33m(\u001b[0m\u001b[0mdf1\u001b[0m\u001b[1;33m)\u001b[0m\u001b[1;33m\u001b[0m\u001b[1;33m\u001b[0m\u001b[0m\n\u001b[0m",
      "\u001b[1;31mNameError\u001b[0m: name 'df1' is not defined"
     ]
    }
   ],
   "source": [
    "dtale.show(df1)"
   ]
  },
  {
   "cell_type": "code",
   "execution_count": null,
   "metadata": {},
   "outputs": [],
   "source": [
    "df\n"
   ]
  },
  {
   "cell_type": "code",
   "execution_count": 6,
   "metadata": {},
   "outputs": [
    {
     "name": "stdout",
     "output_type": "stream",
     "text": [
      "       age  duration  campaign  pdays  previous  emp.var.rate  cons.price.idx  \\\n",
      "0       56       261         1    999         0           1.1          93.994   \n",
      "1       57       149         1    999         0           1.1          93.994   \n",
      "2       37       226         1    999         0           1.1          93.994   \n",
      "3       40       151         1    999         0           1.1          93.994   \n",
      "4       56       307         1    999         0           1.1          93.994   \n",
      "...    ...       ...       ...    ...       ...           ...             ...   \n",
      "41183   73       334         1    999         0          -1.1          94.767   \n",
      "41184   46       383         1    999         0          -1.1          94.767   \n",
      "41185   56       189         2    999         0          -1.1          94.767   \n",
      "41186   44       442         1    999         0          -1.1          94.767   \n",
      "41187   74       239         3    999         1          -1.1          94.767   \n",
      "\n",
      "       cons.conf.idx  euribor3m  nr.employed  \n",
      "0              -36.4      4.857       5191.0  \n",
      "1              -36.4      4.857       5191.0  \n",
      "2              -36.4      4.857       5191.0  \n",
      "3              -36.4      4.857       5191.0  \n",
      "4              -36.4      4.857       5191.0  \n",
      "...              ...        ...          ...  \n",
      "41183          -50.8      1.028       4963.6  \n",
      "41184          -50.8      1.028       4963.6  \n",
      "41185          -50.8      1.028       4963.6  \n",
      "41186          -50.8      1.028       4963.6  \n",
      "41187          -50.8      1.028       4963.6  \n",
      "\n",
      "[41188 rows x 10 columns]\n"
     ]
    }
   ],
   "source": [
    "numeric_data=df.select_dtypes(include=[np.number])\n",
    "categorical_data=df.select_dtypes(include=[np.object])\n",
    "print(numeric_data)"
   ]
  },
  {
   "cell_type": "code",
   "execution_count": null,
   "metadata": {},
   "outputs": [],
   "source": [
    "df1.tail(20)"
   ]
  },
  {
   "cell_type": "code",
   "execution_count": 91,
   "metadata": {},
   "outputs": [
    {
     "data": {
      "text/plain": [
       "(41188, 21)"
      ]
     },
     "execution_count": 91,
     "metadata": {},
     "output_type": "execute_result"
    }
   ],
   "source": [
    "df.shape"
   ]
  },
  {
   "cell_type": "code",
   "execution_count": 92,
   "metadata": {},
   "outputs": [
    {
     "data": {
      "text/html": [
       "<div>\n",
       "<style scoped>\n",
       "    .dataframe tbody tr th:only-of-type {\n",
       "        vertical-align: middle;\n",
       "    }\n",
       "\n",
       "    .dataframe tbody tr th {\n",
       "        vertical-align: top;\n",
       "    }\n",
       "\n",
       "    .dataframe thead th {\n",
       "        text-align: right;\n",
       "    }\n",
       "</style>\n",
       "<table border=\"1\" class=\"dataframe\">\n",
       "  <thead>\n",
       "    <tr style=\"text-align: right;\">\n",
       "      <th></th>\n",
       "      <th>age</th>\n",
       "      <th>duration</th>\n",
       "      <th>campaign</th>\n",
       "      <th>pdays</th>\n",
       "      <th>previous</th>\n",
       "      <th>emp.var.rate</th>\n",
       "      <th>cons.price.idx</th>\n",
       "      <th>cons.conf.idx</th>\n",
       "      <th>euribor3m</th>\n",
       "      <th>nr.employed</th>\n",
       "    </tr>\n",
       "  </thead>\n",
       "  <tbody>\n",
       "    <tr>\n",
       "      <th>count</th>\n",
       "      <td>41188.00000</td>\n",
       "      <td>41188.000000</td>\n",
       "      <td>41188.000000</td>\n",
       "      <td>41188.000000</td>\n",
       "      <td>41188.000000</td>\n",
       "      <td>41188.000000</td>\n",
       "      <td>41188.000000</td>\n",
       "      <td>41188.000000</td>\n",
       "      <td>41188.000000</td>\n",
       "      <td>41188.000000</td>\n",
       "    </tr>\n",
       "    <tr>\n",
       "      <th>mean</th>\n",
       "      <td>40.02406</td>\n",
       "      <td>258.285010</td>\n",
       "      <td>2.567593</td>\n",
       "      <td>962.475454</td>\n",
       "      <td>0.172963</td>\n",
       "      <td>0.081886</td>\n",
       "      <td>93.575664</td>\n",
       "      <td>-40.502600</td>\n",
       "      <td>3.621291</td>\n",
       "      <td>5167.035911</td>\n",
       "    </tr>\n",
       "    <tr>\n",
       "      <th>std</th>\n",
       "      <td>10.42125</td>\n",
       "      <td>259.279249</td>\n",
       "      <td>2.770014</td>\n",
       "      <td>186.910907</td>\n",
       "      <td>0.494901</td>\n",
       "      <td>1.570960</td>\n",
       "      <td>0.578840</td>\n",
       "      <td>4.628198</td>\n",
       "      <td>1.734447</td>\n",
       "      <td>72.251528</td>\n",
       "    </tr>\n",
       "    <tr>\n",
       "      <th>min</th>\n",
       "      <td>17.00000</td>\n",
       "      <td>0.000000</td>\n",
       "      <td>1.000000</td>\n",
       "      <td>0.000000</td>\n",
       "      <td>0.000000</td>\n",
       "      <td>-3.400000</td>\n",
       "      <td>92.201000</td>\n",
       "      <td>-50.800000</td>\n",
       "      <td>0.634000</td>\n",
       "      <td>4963.600000</td>\n",
       "    </tr>\n",
       "    <tr>\n",
       "      <th>25%</th>\n",
       "      <td>32.00000</td>\n",
       "      <td>102.000000</td>\n",
       "      <td>1.000000</td>\n",
       "      <td>999.000000</td>\n",
       "      <td>0.000000</td>\n",
       "      <td>-1.800000</td>\n",
       "      <td>93.075000</td>\n",
       "      <td>-42.700000</td>\n",
       "      <td>1.344000</td>\n",
       "      <td>5099.100000</td>\n",
       "    </tr>\n",
       "    <tr>\n",
       "      <th>50%</th>\n",
       "      <td>38.00000</td>\n",
       "      <td>180.000000</td>\n",
       "      <td>2.000000</td>\n",
       "      <td>999.000000</td>\n",
       "      <td>0.000000</td>\n",
       "      <td>1.100000</td>\n",
       "      <td>93.749000</td>\n",
       "      <td>-41.800000</td>\n",
       "      <td>4.857000</td>\n",
       "      <td>5191.000000</td>\n",
       "    </tr>\n",
       "    <tr>\n",
       "      <th>75%</th>\n",
       "      <td>47.00000</td>\n",
       "      <td>319.000000</td>\n",
       "      <td>3.000000</td>\n",
       "      <td>999.000000</td>\n",
       "      <td>0.000000</td>\n",
       "      <td>1.400000</td>\n",
       "      <td>93.994000</td>\n",
       "      <td>-36.400000</td>\n",
       "      <td>4.961000</td>\n",
       "      <td>5228.100000</td>\n",
       "    </tr>\n",
       "    <tr>\n",
       "      <th>max</th>\n",
       "      <td>98.00000</td>\n",
       "      <td>4918.000000</td>\n",
       "      <td>56.000000</td>\n",
       "      <td>999.000000</td>\n",
       "      <td>7.000000</td>\n",
       "      <td>1.400000</td>\n",
       "      <td>94.767000</td>\n",
       "      <td>-26.900000</td>\n",
       "      <td>5.045000</td>\n",
       "      <td>5228.100000</td>\n",
       "    </tr>\n",
       "  </tbody>\n",
       "</table>\n",
       "</div>"
      ],
      "text/plain": [
       "               age      duration      campaign         pdays      previous  \\\n",
       "count  41188.00000  41188.000000  41188.000000  41188.000000  41188.000000   \n",
       "mean      40.02406    258.285010      2.567593    962.475454      0.172963   \n",
       "std       10.42125    259.279249      2.770014    186.910907      0.494901   \n",
       "min       17.00000      0.000000      1.000000      0.000000      0.000000   \n",
       "25%       32.00000    102.000000      1.000000    999.000000      0.000000   \n",
       "50%       38.00000    180.000000      2.000000    999.000000      0.000000   \n",
       "75%       47.00000    319.000000      3.000000    999.000000      0.000000   \n",
       "max       98.00000   4918.000000     56.000000    999.000000      7.000000   \n",
       "\n",
       "       emp.var.rate  cons.price.idx  cons.conf.idx     euribor3m   nr.employed  \n",
       "count  41188.000000    41188.000000   41188.000000  41188.000000  41188.000000  \n",
       "mean       0.081886       93.575664     -40.502600      3.621291   5167.035911  \n",
       "std        1.570960        0.578840       4.628198      1.734447     72.251528  \n",
       "min       -3.400000       92.201000     -50.800000      0.634000   4963.600000  \n",
       "25%       -1.800000       93.075000     -42.700000      1.344000   5099.100000  \n",
       "50%        1.100000       93.749000     -41.800000      4.857000   5191.000000  \n",
       "75%        1.400000       93.994000     -36.400000      4.961000   5228.100000  \n",
       "max        1.400000       94.767000     -26.900000      5.045000   5228.100000  "
      ]
     },
     "execution_count": 92,
     "metadata": {},
     "output_type": "execute_result"
    }
   ],
   "source": [
    "df.describe()"
   ]
  },
  {
   "cell_type": "code",
   "execution_count": 93,
   "metadata": {},
   "outputs": [
    {
     "data": {
      "text/html": [
       "<div>\n",
       "<style scoped>\n",
       "    .dataframe tbody tr th:only-of-type {\n",
       "        vertical-align: middle;\n",
       "    }\n",
       "\n",
       "    .dataframe tbody tr th {\n",
       "        vertical-align: top;\n",
       "    }\n",
       "\n",
       "    .dataframe thead th {\n",
       "        text-align: right;\n",
       "    }\n",
       "</style>\n",
       "<table border=\"1\" class=\"dataframe\">\n",
       "  <thead>\n",
       "    <tr style=\"text-align: right;\">\n",
       "      <th></th>\n",
       "      <th>age</th>\n",
       "      <th>job</th>\n",
       "      <th>marital</th>\n",
       "      <th>education</th>\n",
       "      <th>default</th>\n",
       "      <th>housing</th>\n",
       "      <th>loan</th>\n",
       "      <th>contact</th>\n",
       "      <th>month</th>\n",
       "      <th>day_of_week</th>\n",
       "      <th>...</th>\n",
       "      <th>campaign</th>\n",
       "      <th>pdays</th>\n",
       "      <th>previous</th>\n",
       "      <th>poutcome</th>\n",
       "      <th>emp.var.rate</th>\n",
       "      <th>cons.price.idx</th>\n",
       "      <th>cons.conf.idx</th>\n",
       "      <th>euribor3m</th>\n",
       "      <th>nr.employed</th>\n",
       "      <th>y</th>\n",
       "    </tr>\n",
       "  </thead>\n",
       "  <tbody>\n",
       "    <tr>\n",
       "      <th>0</th>\n",
       "      <td>56</td>\n",
       "      <td>housemaid</td>\n",
       "      <td>married</td>\n",
       "      <td>basic.4y</td>\n",
       "      <td>no</td>\n",
       "      <td>no</td>\n",
       "      <td>no</td>\n",
       "      <td>telephone</td>\n",
       "      <td>may</td>\n",
       "      <td>mon</td>\n",
       "      <td>...</td>\n",
       "      <td>1</td>\n",
       "      <td>999</td>\n",
       "      <td>0</td>\n",
       "      <td>nonexistent</td>\n",
       "      <td>1.1</td>\n",
       "      <td>93.994</td>\n",
       "      <td>-36.4</td>\n",
       "      <td>4.857</td>\n",
       "      <td>5191.0</td>\n",
       "      <td>no</td>\n",
       "    </tr>\n",
       "    <tr>\n",
       "      <th>1</th>\n",
       "      <td>57</td>\n",
       "      <td>services</td>\n",
       "      <td>married</td>\n",
       "      <td>high.school</td>\n",
       "      <td>unknown</td>\n",
       "      <td>no</td>\n",
       "      <td>no</td>\n",
       "      <td>telephone</td>\n",
       "      <td>may</td>\n",
       "      <td>mon</td>\n",
       "      <td>...</td>\n",
       "      <td>1</td>\n",
       "      <td>999</td>\n",
       "      <td>0</td>\n",
       "      <td>nonexistent</td>\n",
       "      <td>1.1</td>\n",
       "      <td>93.994</td>\n",
       "      <td>-36.4</td>\n",
       "      <td>4.857</td>\n",
       "      <td>5191.0</td>\n",
       "      <td>no</td>\n",
       "    </tr>\n",
       "    <tr>\n",
       "      <th>2</th>\n",
       "      <td>37</td>\n",
       "      <td>services</td>\n",
       "      <td>married</td>\n",
       "      <td>high.school</td>\n",
       "      <td>no</td>\n",
       "      <td>yes</td>\n",
       "      <td>no</td>\n",
       "      <td>telephone</td>\n",
       "      <td>may</td>\n",
       "      <td>mon</td>\n",
       "      <td>...</td>\n",
       "      <td>1</td>\n",
       "      <td>999</td>\n",
       "      <td>0</td>\n",
       "      <td>nonexistent</td>\n",
       "      <td>1.1</td>\n",
       "      <td>93.994</td>\n",
       "      <td>-36.4</td>\n",
       "      <td>4.857</td>\n",
       "      <td>5191.0</td>\n",
       "      <td>no</td>\n",
       "    </tr>\n",
       "    <tr>\n",
       "      <th>3</th>\n",
       "      <td>40</td>\n",
       "      <td>admin.</td>\n",
       "      <td>married</td>\n",
       "      <td>basic.6y</td>\n",
       "      <td>no</td>\n",
       "      <td>no</td>\n",
       "      <td>no</td>\n",
       "      <td>telephone</td>\n",
       "      <td>may</td>\n",
       "      <td>mon</td>\n",
       "      <td>...</td>\n",
       "      <td>1</td>\n",
       "      <td>999</td>\n",
       "      <td>0</td>\n",
       "      <td>nonexistent</td>\n",
       "      <td>1.1</td>\n",
       "      <td>93.994</td>\n",
       "      <td>-36.4</td>\n",
       "      <td>4.857</td>\n",
       "      <td>5191.0</td>\n",
       "      <td>no</td>\n",
       "    </tr>\n",
       "    <tr>\n",
       "      <th>4</th>\n",
       "      <td>56</td>\n",
       "      <td>services</td>\n",
       "      <td>married</td>\n",
       "      <td>high.school</td>\n",
       "      <td>no</td>\n",
       "      <td>no</td>\n",
       "      <td>yes</td>\n",
       "      <td>telephone</td>\n",
       "      <td>may</td>\n",
       "      <td>mon</td>\n",
       "      <td>...</td>\n",
       "      <td>1</td>\n",
       "      <td>999</td>\n",
       "      <td>0</td>\n",
       "      <td>nonexistent</td>\n",
       "      <td>1.1</td>\n",
       "      <td>93.994</td>\n",
       "      <td>-36.4</td>\n",
       "      <td>4.857</td>\n",
       "      <td>5191.0</td>\n",
       "      <td>no</td>\n",
       "    </tr>\n",
       "  </tbody>\n",
       "</table>\n",
       "<p>5 rows × 21 columns</p>\n",
       "</div>"
      ],
      "text/plain": [
       "   age        job  marital    education  default housing loan    contact  \\\n",
       "0   56  housemaid  married     basic.4y       no      no   no  telephone   \n",
       "1   57   services  married  high.school  unknown      no   no  telephone   \n",
       "2   37   services  married  high.school       no     yes   no  telephone   \n",
       "3   40     admin.  married     basic.6y       no      no   no  telephone   \n",
       "4   56   services  married  high.school       no      no  yes  telephone   \n",
       "\n",
       "  month day_of_week  ...  campaign  pdays  previous     poutcome emp.var.rate  \\\n",
       "0   may         mon  ...         1    999         0  nonexistent          1.1   \n",
       "1   may         mon  ...         1    999         0  nonexistent          1.1   \n",
       "2   may         mon  ...         1    999         0  nonexistent          1.1   \n",
       "3   may         mon  ...         1    999         0  nonexistent          1.1   \n",
       "4   may         mon  ...         1    999         0  nonexistent          1.1   \n",
       "\n",
       "   cons.price.idx  cons.conf.idx  euribor3m  nr.employed   y  \n",
       "0          93.994          -36.4      4.857       5191.0  no  \n",
       "1          93.994          -36.4      4.857       5191.0  no  \n",
       "2          93.994          -36.4      4.857       5191.0  no  \n",
       "3          93.994          -36.4      4.857       5191.0  no  \n",
       "4          93.994          -36.4      4.857       5191.0  no  \n",
       "\n",
       "[5 rows x 21 columns]"
      ]
     },
     "execution_count": 93,
     "metadata": {},
     "output_type": "execute_result"
    }
   ],
   "source": [
    "df.head()"
   ]
  },
  {
   "cell_type": "code",
   "execution_count": 94,
   "metadata": {},
   "outputs": [],
   "source": [
    "df1=df.drop(['default','job','marital','education','contact','month','day_of_week','previous','poutcome','y','housing','loan'],axis=1)  "
   ]
  },
  {
   "cell_type": "code",
   "execution_count": 95,
   "metadata": {},
   "outputs": [
    {
     "data": {
      "text/plain": [
       "(41188, 9)"
      ]
     },
     "execution_count": 95,
     "metadata": {},
     "output_type": "execute_result"
    }
   ],
   "source": [
    "df1.shape"
   ]
  },
  {
   "cell_type": "code",
   "execution_count": 96,
   "metadata": {},
   "outputs": [
    {
     "data": {
      "text/html": [
       "<div>\n",
       "<style scoped>\n",
       "    .dataframe tbody tr th:only-of-type {\n",
       "        vertical-align: middle;\n",
       "    }\n",
       "\n",
       "    .dataframe tbody tr th {\n",
       "        vertical-align: top;\n",
       "    }\n",
       "\n",
       "    .dataframe thead th {\n",
       "        text-align: right;\n",
       "    }\n",
       "</style>\n",
       "<table border=\"1\" class=\"dataframe\">\n",
       "  <thead>\n",
       "    <tr style=\"text-align: right;\">\n",
       "      <th></th>\n",
       "      <th>age</th>\n",
       "      <th>duration</th>\n",
       "      <th>campaign</th>\n",
       "      <th>pdays</th>\n",
       "      <th>emp.var.rate</th>\n",
       "      <th>cons.price.idx</th>\n",
       "      <th>cons.conf.idx</th>\n",
       "      <th>euribor3m</th>\n",
       "      <th>nr.employed</th>\n",
       "    </tr>\n",
       "  </thead>\n",
       "  <tbody>\n",
       "    <tr>\n",
       "      <th>0</th>\n",
       "      <td>56</td>\n",
       "      <td>261</td>\n",
       "      <td>1</td>\n",
       "      <td>999</td>\n",
       "      <td>1.1</td>\n",
       "      <td>93.994</td>\n",
       "      <td>-36.4</td>\n",
       "      <td>4.857</td>\n",
       "      <td>5191.0</td>\n",
       "    </tr>\n",
       "    <tr>\n",
       "      <th>1</th>\n",
       "      <td>57</td>\n",
       "      <td>149</td>\n",
       "      <td>1</td>\n",
       "      <td>999</td>\n",
       "      <td>1.1</td>\n",
       "      <td>93.994</td>\n",
       "      <td>-36.4</td>\n",
       "      <td>4.857</td>\n",
       "      <td>5191.0</td>\n",
       "    </tr>\n",
       "    <tr>\n",
       "      <th>2</th>\n",
       "      <td>37</td>\n",
       "      <td>226</td>\n",
       "      <td>1</td>\n",
       "      <td>999</td>\n",
       "      <td>1.1</td>\n",
       "      <td>93.994</td>\n",
       "      <td>-36.4</td>\n",
       "      <td>4.857</td>\n",
       "      <td>5191.0</td>\n",
       "    </tr>\n",
       "    <tr>\n",
       "      <th>3</th>\n",
       "      <td>40</td>\n",
       "      <td>151</td>\n",
       "      <td>1</td>\n",
       "      <td>999</td>\n",
       "      <td>1.1</td>\n",
       "      <td>93.994</td>\n",
       "      <td>-36.4</td>\n",
       "      <td>4.857</td>\n",
       "      <td>5191.0</td>\n",
       "    </tr>\n",
       "    <tr>\n",
       "      <th>4</th>\n",
       "      <td>56</td>\n",
       "      <td>307</td>\n",
       "      <td>1</td>\n",
       "      <td>999</td>\n",
       "      <td>1.1</td>\n",
       "      <td>93.994</td>\n",
       "      <td>-36.4</td>\n",
       "      <td>4.857</td>\n",
       "      <td>5191.0</td>\n",
       "    </tr>\n",
       "    <tr>\n",
       "      <th>...</th>\n",
       "      <td>...</td>\n",
       "      <td>...</td>\n",
       "      <td>...</td>\n",
       "      <td>...</td>\n",
       "      <td>...</td>\n",
       "      <td>...</td>\n",
       "      <td>...</td>\n",
       "      <td>...</td>\n",
       "      <td>...</td>\n",
       "    </tr>\n",
       "    <tr>\n",
       "      <th>41183</th>\n",
       "      <td>73</td>\n",
       "      <td>334</td>\n",
       "      <td>1</td>\n",
       "      <td>999</td>\n",
       "      <td>-1.1</td>\n",
       "      <td>94.767</td>\n",
       "      <td>-50.8</td>\n",
       "      <td>1.028</td>\n",
       "      <td>4963.6</td>\n",
       "    </tr>\n",
       "    <tr>\n",
       "      <th>41184</th>\n",
       "      <td>46</td>\n",
       "      <td>383</td>\n",
       "      <td>1</td>\n",
       "      <td>999</td>\n",
       "      <td>-1.1</td>\n",
       "      <td>94.767</td>\n",
       "      <td>-50.8</td>\n",
       "      <td>1.028</td>\n",
       "      <td>4963.6</td>\n",
       "    </tr>\n",
       "    <tr>\n",
       "      <th>41185</th>\n",
       "      <td>56</td>\n",
       "      <td>189</td>\n",
       "      <td>2</td>\n",
       "      <td>999</td>\n",
       "      <td>-1.1</td>\n",
       "      <td>94.767</td>\n",
       "      <td>-50.8</td>\n",
       "      <td>1.028</td>\n",
       "      <td>4963.6</td>\n",
       "    </tr>\n",
       "    <tr>\n",
       "      <th>41186</th>\n",
       "      <td>44</td>\n",
       "      <td>442</td>\n",
       "      <td>1</td>\n",
       "      <td>999</td>\n",
       "      <td>-1.1</td>\n",
       "      <td>94.767</td>\n",
       "      <td>-50.8</td>\n",
       "      <td>1.028</td>\n",
       "      <td>4963.6</td>\n",
       "    </tr>\n",
       "    <tr>\n",
       "      <th>41187</th>\n",
       "      <td>74</td>\n",
       "      <td>239</td>\n",
       "      <td>3</td>\n",
       "      <td>999</td>\n",
       "      <td>-1.1</td>\n",
       "      <td>94.767</td>\n",
       "      <td>-50.8</td>\n",
       "      <td>1.028</td>\n",
       "      <td>4963.6</td>\n",
       "    </tr>\n",
       "  </tbody>\n",
       "</table>\n",
       "<p>41188 rows × 9 columns</p>\n",
       "</div>"
      ],
      "text/plain": [
       "       age  duration  campaign  pdays  emp.var.rate  cons.price.idx  \\\n",
       "0       56       261         1    999           1.1          93.994   \n",
       "1       57       149         1    999           1.1          93.994   \n",
       "2       37       226         1    999           1.1          93.994   \n",
       "3       40       151         1    999           1.1          93.994   \n",
       "4       56       307         1    999           1.1          93.994   \n",
       "...    ...       ...       ...    ...           ...             ...   \n",
       "41183   73       334         1    999          -1.1          94.767   \n",
       "41184   46       383         1    999          -1.1          94.767   \n",
       "41185   56       189         2    999          -1.1          94.767   \n",
       "41186   44       442         1    999          -1.1          94.767   \n",
       "41187   74       239         3    999          -1.1          94.767   \n",
       "\n",
       "       cons.conf.idx  euribor3m  nr.employed  \n",
       "0              -36.4      4.857       5191.0  \n",
       "1              -36.4      4.857       5191.0  \n",
       "2              -36.4      4.857       5191.0  \n",
       "3              -36.4      4.857       5191.0  \n",
       "4              -36.4      4.857       5191.0  \n",
       "...              ...        ...          ...  \n",
       "41183          -50.8      1.028       4963.6  \n",
       "41184          -50.8      1.028       4963.6  \n",
       "41185          -50.8      1.028       4963.6  \n",
       "41186          -50.8      1.028       4963.6  \n",
       "41187          -50.8      1.028       4963.6  \n",
       "\n",
       "[41188 rows x 9 columns]"
      ]
     },
     "execution_count": 96,
     "metadata": {},
     "output_type": "execute_result"
    }
   ],
   "source": [
    "df1"
   ]
  },
  {
   "cell_type": "code",
   "execution_count": 130,
   "metadata": {},
   "outputs": [
    {
     "data": {
      "text/plain": [
       "age               0\n",
       "duration          0\n",
       "campaign          0\n",
       "pdays             0\n",
       "emp.var.rate      0\n",
       "cons.price.idx    0\n",
       "cons.conf.idx     0\n",
       "euribor3m         0\n",
       "nr.employed       0\n",
       "dtype: int64"
      ]
     },
     "execution_count": 130,
     "metadata": {},
     "output_type": "execute_result"
    }
   ],
   "source": [
    "df1.isnull().sum()"
   ]
  },
  {
   "cell_type": "code",
   "execution_count": null,
   "metadata": {},
   "outputs": [],
   "source": []
  },
  {
   "cell_type": "code",
   "execution_count": 108,
   "metadata": {},
   "outputs": [
    {
     "data": {
      "text/plain": [
       "<bound method IndexOpsMixin.value_counts of 0        999\n",
       "1        999\n",
       "2        999\n",
       "3        999\n",
       "4        999\n",
       "        ... \n",
       "41183    999\n",
       "41184    999\n",
       "41185    999\n",
       "41186    999\n",
       "41187    999\n",
       "Name: pdays, Length: 41188, dtype: int64>"
      ]
     },
     "execution_count": 108,
     "metadata": {},
     "output_type": "execute_result"
    }
   ],
   "source": [
    "df1.pdays.value_counts"
   ]
  },
  {
   "cell_type": "code",
   "execution_count": 109,
   "metadata": {},
   "outputs": [
    {
     "data": {
      "text/plain": [
       "<bound method IndexOpsMixin.value_counts of 0        56\n",
       "1        57\n",
       "2        37\n",
       "3        40\n",
       "4        56\n",
       "         ..\n",
       "41183    73\n",
       "41184    46\n",
       "41185    56\n",
       "41186    44\n",
       "41187    74\n",
       "Name: age, Length: 41188, dtype: int64>"
      ]
     },
     "execution_count": 109,
     "metadata": {},
     "output_type": "execute_result"
    }
   ],
   "source": [
    "df1.age.value_counts"
   ]
  },
  {
   "cell_type": "code",
   "execution_count": 123,
   "metadata": {},
   "outputs": [
    {
     "data": {
      "text/plain": [
       "[<bound method IndexOpsMixin.value_counts of 0        1.1\n",
       " 1        1.1\n",
       " 2        1.1\n",
       " 3        1.1\n",
       " 4        1.1\n",
       "         ... \n",
       " 41183   -1.1\n",
       " 41184   -1.1\n",
       " 41185   -1.1\n",
       " 41186   -1.1\n",
       " 41187   -1.1\n",
       " Name: emp.var.rate, Length: 41188, dtype: float64>]"
      ]
     },
     "execution_count": 123,
     "metadata": {},
     "output_type": "execute_result"
    }
   ],
   "source": [
    "[df1['emp.var.rate'].value_counts]"
   ]
  },
  {
   "cell_type": "code",
   "execution_count": 122,
   "metadata": {
    "scrolled": false
   },
   "outputs": [
    {
     "data": {
      "text/plain": [
       "[<bound method IndexOpsMixin.value_counts of 0        93.994\n",
       " 1        93.994\n",
       " 2        93.994\n",
       " 3        93.994\n",
       " 4        93.994\n",
       "           ...  \n",
       " 41183    94.767\n",
       " 41184    94.767\n",
       " 41185    94.767\n",
       " 41186    94.767\n",
       " 41187    94.767\n",
       " Name: cons.price.idx, Length: 41188, dtype: float64>]"
      ]
     },
     "execution_count": 122,
     "metadata": {},
     "output_type": "execute_result"
    }
   ],
   "source": [
    "[df1['cons.price.idx'].value_counts]"
   ]
  },
  {
   "cell_type": "code",
   "execution_count": 124,
   "metadata": {},
   "outputs": [
    {
     "data": {
      "text/html": [
       "<div>\n",
       "<style scoped>\n",
       "    .dataframe tbody tr th:only-of-type {\n",
       "        vertical-align: middle;\n",
       "    }\n",
       "\n",
       "    .dataframe tbody tr th {\n",
       "        vertical-align: top;\n",
       "    }\n",
       "\n",
       "    .dataframe thead th {\n",
       "        text-align: right;\n",
       "    }\n",
       "</style>\n",
       "<table border=\"1\" class=\"dataframe\">\n",
       "  <thead>\n",
       "    <tr style=\"text-align: right;\">\n",
       "      <th></th>\n",
       "      <th>age</th>\n",
       "      <th>duration</th>\n",
       "      <th>campaign</th>\n",
       "      <th>pdays</th>\n",
       "      <th>emp.var.rate</th>\n",
       "      <th>cons.price.idx</th>\n",
       "      <th>cons.conf.idx</th>\n",
       "      <th>euribor3m</th>\n",
       "      <th>nr.employed</th>\n",
       "    </tr>\n",
       "  </thead>\n",
       "  <tbody>\n",
       "    <tr>\n",
       "      <th>age</th>\n",
       "      <td>1.000000</td>\n",
       "      <td>-0.000866</td>\n",
       "      <td>0.004594</td>\n",
       "      <td>-0.034369</td>\n",
       "      <td>-0.000371</td>\n",
       "      <td>0.000857</td>\n",
       "      <td>0.129372</td>\n",
       "      <td>0.010767</td>\n",
       "      <td>-0.017725</td>\n",
       "    </tr>\n",
       "    <tr>\n",
       "      <th>duration</th>\n",
       "      <td>-0.000866</td>\n",
       "      <td>1.000000</td>\n",
       "      <td>-0.071699</td>\n",
       "      <td>-0.047577</td>\n",
       "      <td>-0.027968</td>\n",
       "      <td>0.005312</td>\n",
       "      <td>-0.008173</td>\n",
       "      <td>-0.032897</td>\n",
       "      <td>-0.044703</td>\n",
       "    </tr>\n",
       "    <tr>\n",
       "      <th>campaign</th>\n",
       "      <td>0.004594</td>\n",
       "      <td>-0.071699</td>\n",
       "      <td>1.000000</td>\n",
       "      <td>0.052584</td>\n",
       "      <td>0.150754</td>\n",
       "      <td>0.127836</td>\n",
       "      <td>-0.013733</td>\n",
       "      <td>0.135133</td>\n",
       "      <td>0.144095</td>\n",
       "    </tr>\n",
       "    <tr>\n",
       "      <th>pdays</th>\n",
       "      <td>-0.034369</td>\n",
       "      <td>-0.047577</td>\n",
       "      <td>0.052584</td>\n",
       "      <td>1.000000</td>\n",
       "      <td>0.271004</td>\n",
       "      <td>0.078889</td>\n",
       "      <td>-0.091342</td>\n",
       "      <td>0.296899</td>\n",
       "      <td>0.372605</td>\n",
       "    </tr>\n",
       "    <tr>\n",
       "      <th>emp.var.rate</th>\n",
       "      <td>-0.000371</td>\n",
       "      <td>-0.027968</td>\n",
       "      <td>0.150754</td>\n",
       "      <td>0.271004</td>\n",
       "      <td>1.000000</td>\n",
       "      <td>0.775334</td>\n",
       "      <td>0.196041</td>\n",
       "      <td>0.972245</td>\n",
       "      <td>0.906970</td>\n",
       "    </tr>\n",
       "    <tr>\n",
       "      <th>cons.price.idx</th>\n",
       "      <td>0.000857</td>\n",
       "      <td>0.005312</td>\n",
       "      <td>0.127836</td>\n",
       "      <td>0.078889</td>\n",
       "      <td>0.775334</td>\n",
       "      <td>1.000000</td>\n",
       "      <td>0.058986</td>\n",
       "      <td>0.688230</td>\n",
       "      <td>0.522034</td>\n",
       "    </tr>\n",
       "    <tr>\n",
       "      <th>cons.conf.idx</th>\n",
       "      <td>0.129372</td>\n",
       "      <td>-0.008173</td>\n",
       "      <td>-0.013733</td>\n",
       "      <td>-0.091342</td>\n",
       "      <td>0.196041</td>\n",
       "      <td>0.058986</td>\n",
       "      <td>1.000000</td>\n",
       "      <td>0.277686</td>\n",
       "      <td>0.100513</td>\n",
       "    </tr>\n",
       "    <tr>\n",
       "      <th>euribor3m</th>\n",
       "      <td>0.010767</td>\n",
       "      <td>-0.032897</td>\n",
       "      <td>0.135133</td>\n",
       "      <td>0.296899</td>\n",
       "      <td>0.972245</td>\n",
       "      <td>0.688230</td>\n",
       "      <td>0.277686</td>\n",
       "      <td>1.000000</td>\n",
       "      <td>0.945154</td>\n",
       "    </tr>\n",
       "    <tr>\n",
       "      <th>nr.employed</th>\n",
       "      <td>-0.017725</td>\n",
       "      <td>-0.044703</td>\n",
       "      <td>0.144095</td>\n",
       "      <td>0.372605</td>\n",
       "      <td>0.906970</td>\n",
       "      <td>0.522034</td>\n",
       "      <td>0.100513</td>\n",
       "      <td>0.945154</td>\n",
       "      <td>1.000000</td>\n",
       "    </tr>\n",
       "  </tbody>\n",
       "</table>\n",
       "</div>"
      ],
      "text/plain": [
       "                     age  duration  campaign     pdays  emp.var.rate  \\\n",
       "age             1.000000 -0.000866  0.004594 -0.034369     -0.000371   \n",
       "duration       -0.000866  1.000000 -0.071699 -0.047577     -0.027968   \n",
       "campaign        0.004594 -0.071699  1.000000  0.052584      0.150754   \n",
       "pdays          -0.034369 -0.047577  0.052584  1.000000      0.271004   \n",
       "emp.var.rate   -0.000371 -0.027968  0.150754  0.271004      1.000000   \n",
       "cons.price.idx  0.000857  0.005312  0.127836  0.078889      0.775334   \n",
       "cons.conf.idx   0.129372 -0.008173 -0.013733 -0.091342      0.196041   \n",
       "euribor3m       0.010767 -0.032897  0.135133  0.296899      0.972245   \n",
       "nr.employed    -0.017725 -0.044703  0.144095  0.372605      0.906970   \n",
       "\n",
       "                cons.price.idx  cons.conf.idx  euribor3m  nr.employed  \n",
       "age                   0.000857       0.129372   0.010767    -0.017725  \n",
       "duration              0.005312      -0.008173  -0.032897    -0.044703  \n",
       "campaign              0.127836      -0.013733   0.135133     0.144095  \n",
       "pdays                 0.078889      -0.091342   0.296899     0.372605  \n",
       "emp.var.rate          0.775334       0.196041   0.972245     0.906970  \n",
       "cons.price.idx        1.000000       0.058986   0.688230     0.522034  \n",
       "cons.conf.idx         0.058986       1.000000   0.277686     0.100513  \n",
       "euribor3m             0.688230       0.277686   1.000000     0.945154  \n",
       "nr.employed           0.522034       0.100513   0.945154     1.000000  "
      ]
     },
     "execution_count": 124,
     "metadata": {},
     "output_type": "execute_result"
    }
   ],
   "source": [
    "cor=df1.corr()\n",
    "cor"
   ]
  },
  {
   "cell_type": "code",
   "execution_count": 125,
   "metadata": {
    "scrolled": true
   },
   "outputs": [
    {
     "data": {
      "image/png": "[encoded data removed]",
      "text/plain": [
       "<Figure size 720x720 with 2 Axes>"
      ]
     },
     "metadata": {
      "needs_background": "light"
     },
     "output_type": "display_data"
    }
   ],
   "source": [
    "plt.figure(figsize=(10,10))\n",
    "sns.heatmap(cor,annot=True)\n",
    "plt.show()"
   ]
  },
  {
   "cell_type": "code",
   "execution_count": 134,
   "metadata": {},
   "outputs": [],
   "source": [
    "### Target variable (cdata:image/png;base64,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ons.price.idx)\n",
    "### independent variable (emp.var.rate)"
   ]
  },
  {
   "cell_type": "code",
   "execution_count": 135,
   "metadata": {},
   "outputs": [
    {
     "data": {
      "text/plain": [
       "<matplotlib.axes._subplots.AxesSubplot at 0x24a61868220>"
      ]
     },
     "execution_count": 135,
     "metadata": {},
     "output_type": "execute_result"
    },
    {
     "data": {
      "image/png": "[encoded data removed]",
      "text/plain": [
       "<Figure size 432x288 with 1 Axes>"
      ]
     },
     "metadata": {
      "needs_background": "light"
     },
     "output_type": "display_data"
    }
   ],
   "source": [
    "sns.distplot(df1['cons.price.idx'])"
   ]
  },
  {
   "cell_type": "code",
   "execution_count": 136,
   "metadata": {},
   "outputs": [
    {
     "data": {
      "text/plain": [
       "<matplotlib.axes._subplots.AxesSubplot at 0x24a61a70b50>"
      ]
     },
     "execution_count": 136,
     "metadata": {},
     "output_type": "execute_result"
    },
    {
     "data": {
      "image/png": "[encoded data removed]",
      "text/plain": [
       "<Figure size 432x288 with 1 Axes>"
      ]
     },
     "metadata": {
      "needs_background": "light"
     },
     "output_type": "display_data"
    }
   ],
   "source": [
    "sns.boxplot(df1['cons.price.idx'])"
   ]
  },
  {
   "cell_type": "code",
   "execution_count": 148,
   "metadata": {},
   "outputs": [
    {
     "data": {
      "text/html": [
       "<div>\n",
       "<style scoped>\n",
       "    .dataframe tbody tr th:only-of-type {\n",
       "        vertical-align: middle;\n",
       "    }\n",
       "\n",
       "    .dataframe tbody tr th {\n",
       "        vertical-align: top;\n",
       "    }\n",
       "\n",
       "    .dataframe thead th {\n",
       "        text-align: right;\n",
       "    }\n",
       "</style>\n",
       "<table border=\"1\" class=\"dataframe\">\n",
       "  <thead>\n",
       "    <tr style=\"text-align: right;\">\n",
       "      <th></th>\n",
       "      <th>age</th>\n",
       "      <th>duration</th>\n",
       "      <th>campaign</th>\n",
       "      <th>pdays</th>\n",
       "      <th>emp.var.rate</th>\n",
       "      <th>cons.conf.idx</th>\n",
       "      <th>euribor3m</th>\n",
       "      <th>nr.employed</th>\n",
       "    </tr>\n",
       "  </thead>\n",
       "  <tbody>\n",
       "    <tr>\n",
       "      <th>0</th>\n",
       "      <td>56</td>\n",
       "      <td>261</td>\n",
       "      <td>1</td>\n",
       "      <td>999</td>\n",
       "      <td>1.1</td>\n",
       "      <td>-36.4</td>\n",
       "      <td>4.857</td>\n",
       "      <td>5191.0</td>\n",
       "    </tr>\n",
       "    <tr>\n",
       "      <th>1</th>\n",
       "      <td>57</td>\n",
       "      <td>149</td>\n",
       "      <td>1</td>\n",
       "      <td>999</td>\n",
       "      <td>1.1</td>\n",
       "      <td>-36.4</td>\n",
       "      <td>4.857</td>\n",
       "      <td>5191.0</td>\n",
       "    </tr>\n",
       "    <tr>\n",
       "      <th>2</th>\n",
       "      <td>37</td>\n",
       "      <td>226</td>\n",
       "      <td>1</td>\n",
       "      <td>999</td>\n",
       "      <td>1.1</td>\n",
       "      <td>-36.4</td>\n",
       "      <td>4.857</td>\n",
       "      <td>5191.0</td>\n",
       "    </tr>\n",
       "    <tr>\n",
       "      <th>3</th>\n",
       "      <td>40</td>\n",
       "      <td>151</td>\n",
       "      <td>1</td>\n",
       "      <td>999</td>\n",
       "      <td>1.1</td>\n",
       "      <td>-36.4</td>\n",
       "      <td>4.857</td>\n",
       "      <td>5191.0</td>\n",
       "    </tr>\n",
       "    <tr>\n",
       "      <th>4</th>\n",
       "      <td>56</td>\n",
       "      <td>307</td>\n",
       "      <td>1</td>\n",
       "      <td>999</td>\n",
       "      <td>1.1</td>\n",
       "      <td>-36.4</td>\n",
       "      <td>4.857</td>\n",
       "      <td>5191.0</td>\n",
       "    </tr>\n",
       "    <tr>\n",
       "      <th>...</th>\n",
       "      <td>...</td>\n",
       "      <td>...</td>\n",
       "      <td>...</td>\n",
       "      <td>...</td>\n",
       "      <td>...</td>\n",
       "      <td>...</td>\n",
       "      <td>...</td>\n",
       "      <td>...</td>\n",
       "    </tr>\n",
       "    <tr>\n",
       "      <th>41183</th>\n",
       "      <td>73</td>\n",
       "      <td>334</td>\n",
       "      <td>1</td>\n",
       "      <td>999</td>\n",
       "      <td>-1.1</td>\n",
       "      <td>-50.8</td>\n",
       "      <td>1.028</td>\n",
       "      <td>4963.6</td>\n",
       "    </tr>\n",
       "    <tr>\n",
       "      <th>41184</th>\n",
       "      <td>46</td>\n",
       "      <td>383</td>\n",
       "      <td>1</td>\n",
       "      <td>999</td>\n",
       "      <td>-1.1</td>\n",
       "      <td>-50.8</td>\n",
       "      <td>1.028</td>\n",
       "      <td>4963.6</td>\n",
       "    </tr>\n",
       "    <tr>\n",
       "      <th>41185</th>\n",
       "      <td>56</td>\n",
       "      <td>189</td>\n",
       "      <td>2</td>\n",
       "      <td>999</td>\n",
       "      <td>-1.1</td>\n",
       "      <td>-50.8</td>\n",
       "      <td>1.028</td>\n",
       "      <td>4963.6</td>\n",
       "    </tr>\n",
       "    <tr>\n",
       "      <th>41186</th>\n",
       "      <td>44</td>\n",
       "      <td>442</td>\n",
       "      <td>1</td>\n",
       "      <td>999</td>\n",
       "      <td>-1.1</td>\n",
       "      <td>-50.8</td>\n",
       "      <td>1.028</td>\n",
       "      <td>4963.6</td>\n",
       "    </tr>\n",
       "    <tr>\n",
       "      <th>41187</th>\n",
       "      <td>74</td>\n",
       "      <td>239</td>\n",
       "      <td>3</td>\n",
       "      <td>999</td>\n",
       "      <td>-1.1</td>\n",
       "      <td>-50.8</td>\n",
       "      <td>1.028</td>\n",
       "      <td>4963.6</td>\n",
       "    </tr>\n",
       "  </tbody>\n",
       "</table>\n",
       "<p>41188 rows × 8 columns</p>\n",
       "</div>"
      ],
      "text/plain": [
       "       age  duration  campaign  pdays  emp.var.rate  cons.conf.idx  euribor3m  \\\n",
       "0       56       261         1    999           1.1          -36.4      4.857   \n",
       "1       57       149         1    999           1.1          -36.4      4.857   \n",
       "2       37       226         1    999           1.1          -36.4      4.857   \n",
       "3       40       151         1    999           1.1          -36.4      4.857   \n",
       "4       56       307         1    999           1.1          -36.4      4.857   \n",
       "...    ...       ...       ...    ...           ...            ...        ...   \n",
       "41183   73       334         1    999          -1.1          -50.8      1.028   \n",
       "41184   46       383         1    999          -1.1          -50.8      1.028   \n",
       "41185   56       189         2    999          -1.1          -50.8      1.028   \n",
       "41186   44       442         1    999          -1.1          -50.8      1.028   \n",
       "41187   74       239         3    999          -1.1          -50.8      1.028   \n",
       "\n",
       "       nr.employed  \n",
       "0           5191.0  \n",
       "1           5191.0  \n",
       "2           5191.0  \n",
       "3           5191.0  \n",
       "4           5191.0  \n",
       "...            ...  \n",
       "41183       4963.6  \n",
       "41184       4963.6  \n",
       "41185       4963.6  \n",
       "41186       4963.6  \n",
       "41187       4963.6  \n",
       "\n",
       "[41188 rows x 8 columns]"
      ]
     },
     "execution_count": 148,
     "metadata": {},
     "output_type": "execute_result"
    }
   ],
   "source": [
    "x=df1.drop('cons.price.idx',axis=1)\n",
    "x"
   ]
  },
  {
   "cell_type": "code",
   "execution_count": 149,
   "metadata": {},
   "outputs": [
    {
     "data": {
      "text/plain": [
       "0        93.994\n",
       "1        93.994\n",
       "2        93.994\n",
       "3        93.994\n",
       "4        93.994\n",
       "          ...  \n",
       "41183    94.767\n",
       "41184    94.767\n",
       "41185    94.767\n",
       "41186    94.767\n",
       "41187    94.767\n",
       "Name: cons.price.idx, Length: 41188, dtype: float64"
      ]
     },
     "execution_count": 149,
     "metadata": {},
     "output_type": "execute_result"
    }
   ],
   "source": [
    "y=df1['cons.price.idx']\n",
    "y"
   ]
  },
  {
   "cell_type": "code",
   "execution_count": 150,
   "metadata": {},
   "outputs": [],
   "source": [
    "from sklearn.model_selection import train_test_split\n",
    "x_train,x_test,y_train,y_test=train_test_split(x,y,test_size=0.20,random_state=1)\n"
   ]
  },
  {
   "cell_type": "code",
   "execution_count": 151,
   "metadata": {},
   "outputs": [
    {
     "name": "stdout",
     "output_type": "stream",
     "text": [
      "(32950, 8)\n",
      "(8238, 8)\n",
      "(32950,)\n",
      "(8238,)\n"
     ]
    }
   ],
   "source": [
    "print(x_train.shape)\n",
    "print(x_test.shape)\n",
    "print(y_train.shape)\n",
    "print(y_test.shape)"
   ]
  },
  {
   "cell_type": "code",
   "execution_count": 152,
   "metadata": {},
   "outputs": [
    {
     "data": {
      "text/html": [
       "<div>\n",
       "<style scoped>\n",
       "    .dataframe tbody tr th:only-of-type {\n",
       "        vertical-align: middle;\n",
       "    }\n",
       "\n",
       "    .dataframe tbody tr th {\n",
       "        vertical-align: top;\n",
       "    }\n",
       "\n",
       "    .dataframe thead th {\n",
       "        text-align: right;\n",
       "    }\n",
       "</style>\n",
       "<table border=\"1\" class=\"dataframe\">\n",
       "  <thead>\n",
       "    <tr style=\"text-align: right;\">\n",
       "      <th></th>\n",
       "      <th>age</th>\n",
       "      <th>duration</th>\n",
       "      <th>campaign</th>\n",
       "      <th>pdays</th>\n",
       "      <th>emp.var.rate</th>\n",
       "      <th>cons.conf.idx</th>\n",
       "      <th>euribor3m</th>\n",
       "      <th>nr.employed</th>\n",
       "    </tr>\n",
       "  </thead>\n",
       "  <tbody>\n",
       "    <tr>\n",
       "      <th>count</th>\n",
       "      <td>32950.000000</td>\n",
       "      <td>32950.000000</td>\n",
       "      <td>32950.000000</td>\n",
       "      <td>32950.000000</td>\n",
       "      <td>32950.000000</td>\n",
       "      <td>32950.000000</td>\n",
       "      <td>32950.000000</td>\n",
       "      <td>32950.000000</td>\n",
       "    </tr>\n",
       "    <tr>\n",
       "      <th>mean</th>\n",
       "      <td>40.008983</td>\n",
       "      <td>257.705827</td>\n",
       "      <td>2.566464</td>\n",
       "      <td>962.927830</td>\n",
       "      <td>0.080252</td>\n",
       "      <td>-40.515645</td>\n",
       "      <td>3.619093</td>\n",
       "      <td>5166.973605</td>\n",
       "    </tr>\n",
       "    <tr>\n",
       "      <th>std</th>\n",
       "      <td>10.404819</td>\n",
       "      <td>259.640047</td>\n",
       "      <td>2.791031</td>\n",
       "      <td>185.792186</td>\n",
       "      <td>1.570781</td>\n",
       "      <td>4.627539</td>\n",
       "      <td>1.734807</td>\n",
       "      <td>72.281563</td>\n",
       "    </tr>\n",
       "    <tr>\n",
       "      <th>min</th>\n",
       "      <td>17.000000</td>\n",
       "      <td>0.000000</td>\n",
       "      <td>1.000000</td>\n",
       "      <td>0.000000</td>\n",
       "      <td>-3.400000</td>\n",
       "      <td>-50.800000</td>\n",
       "      <td>0.634000</td>\n",
       "      <td>4963.600000</td>\n",
       "    </tr>\n",
       "    <tr>\n",
       "      <th>25%</th>\n",
       "      <td>32.000000</td>\n",
       "      <td>102.000000</td>\n",
       "      <td>1.000000</td>\n",
       "      <td>999.000000</td>\n",
       "      <td>-1.800000</td>\n",
       "      <td>-42.700000</td>\n",
       "      <td>1.344000</td>\n",
       "      <td>5099.100000</td>\n",
       "    </tr>\n",
       "    <tr>\n",
       "      <th>50%</th>\n",
       "      <td>38.000000</td>\n",
       "      <td>179.000000</td>\n",
       "      <td>2.000000</td>\n",
       "      <td>999.000000</td>\n",
       "      <td>1.100000</td>\n",
       "      <td>-41.800000</td>\n",
       "      <td>4.857000</td>\n",
       "      <td>5191.000000</td>\n",
       "    </tr>\n",
       "    <tr>\n",
       "      <th>75%</th>\n",
       "      <td>47.000000</td>\n",
       "      <td>318.000000</td>\n",
       "      <td>3.000000</td>\n",
       "      <td>999.000000</td>\n",
       "      <td>1.400000</td>\n",
       "      <td>-36.400000</td>\n",
       "      <td>4.961000</td>\n",
       "      <td>5228.100000</td>\n",
       "    </tr>\n",
       "    <tr>\n",
       "      <th>max</th>\n",
       "      <td>98.000000</td>\n",
       "      <td>4918.000000</td>\n",
       "      <td>56.000000</td>\n",
       "      <td>999.000000</td>\n",
       "      <td>1.400000</td>\n",
       "      <td>-26.900000</td>\n",
       "      <td>5.045000</td>\n",
       "      <td>5228.100000</td>\n",
       "    </tr>\n",
       "  </tbody>\n",
       "</table>\n",
       "</div>"
      ],
      "text/plain": [
       "                age      duration      campaign         pdays  emp.var.rate  \\\n",
       "count  32950.000000  32950.000000  32950.000000  32950.000000  32950.000000   \n",
       "mean      40.008983    257.705827      2.566464    962.927830      0.080252   \n",
       "std       10.404819    259.640047      2.791031    185.792186      1.570781   \n",
       "min       17.000000      0.000000      1.000000      0.000000     -3.400000   \n",
       "25%       32.000000    102.000000      1.000000    999.000000     -1.800000   \n",
       "50%       38.000000    179.000000      2.000000    999.000000      1.100000   \n",
       "75%       47.000000    318.000000      3.000000    999.000000      1.400000   \n",
       "max       98.000000   4918.000000     56.000000    999.000000      1.400000   \n",
       "\n",
       "       cons.conf.idx     euribor3m   nr.employed  \n",
       "count   32950.000000  32950.000000  32950.000000  \n",
       "mean      -40.515645      3.619093   5166.973605  \n",
       "std         4.627539      1.734807     72.281563  \n",
       "min       -50.800000      0.634000   4963.600000  \n",
       "25%       -42.700000      1.344000   5099.100000  \n",
       "50%       -41.800000      4.857000   5191.000000  \n",
       "75%       -36.400000      4.961000   5228.100000  \n",
       "max       -26.900000      5.045000   5228.100000  "
      ]
     },
     "execution_count": 152,
     "metadata": {},
     "output_type": "execute_result"
    }
   ],
   "source": [
    "x_train.describe()"
   ]
  },
  {
   "cell_type": "code",
   "execution_count": 173,
   "metadata": {},
   "outputs": [
    {
     "data": {
      "text/html": [
       "<div>\n",
       "<style scoped>\n",
       "    .dataframe tbody tr th:only-of-type {\n",
       "        vertical-align: middle;\n",
       "    }\n",
       "\n",
       "    .dataframe tbody tr th {\n",
       "        vertical-align: top;\n",
       "    }\n",
       "\n",
       "    .dataframe thead th {\n",
       "        text-align: right;\n",
       "    }\n",
       "</style>\n",
       "<table border=\"1\" class=\"dataframe\">\n",
       "  <thead>\n",
       "    <tr style=\"text-align: right;\">\n",
       "      <th></th>\n",
       "      <th>age</th>\n",
       "      <th>duration</th>\n",
       "      <th>campaign</th>\n",
       "      <th>pdays</th>\n",
       "      <th>emp.var.rate</th>\n",
       "      <th>cons.conf.idx</th>\n",
       "      <th>euribor3m</th>\n",
       "      <th>nr.employed</th>\n",
       "    </tr>\n",
       "  </thead>\n",
       "  <tbody>\n",
       "    <tr>\n",
       "      <th>count</th>\n",
       "      <td>32950.000000</td>\n",
       "      <td>32950.000000</td>\n",
       "      <td>32950.000000</td>\n",
       "      <td>32950.000000</td>\n",
       "      <td>32950.000000</td>\n",
       "      <td>32950.000000</td>\n",
       "      <td>32950.000000</td>\n",
       "      <td>32950.000000</td>\n",
       "    </tr>\n",
       "    <tr>\n",
       "      <th>mean</th>\n",
       "      <td>40.008983</td>\n",
       "      <td>257.705827</td>\n",
       "      <td>2.566464</td>\n",
       "      <td>962.927830</td>\n",
       "      <td>0.080252</td>\n",
       "      <td>-40.515645</td>\n",
       "      <td>3.619093</td>\n",
       "      <td>5166.973605</td>\n",
       "    </tr>\n",
       "    <tr>\n",
       "      <th>std</th>\n",
       "      <td>10.404819</td>\n",
       "      <td>259.640047</td>\n",
       "      <td>2.791031</td>\n",
       "      <td>185.792186</td>\n",
       "      <td>1.570781</td>\n",
       "      <td>4.627539</td>\n",
       "      <td>1.734807</td>\n",
       "      <td>72.281563</td>\n",
       "    </tr>\n",
       "    <tr>\n",
       "      <th>min</th>\n",
       "      <td>17.000000</td>\n",
       "      <td>0.000000</td>\n",
       "      <td>1.000000</td>\n",
       "      <td>0.000000</td>\n",
       "      <td>-3.400000</td>\n",
       "      <td>-50.800000</td>\n",
       "      <td>0.634000</td>\n",
       "      <td>4963.600000</td>\n",
       "    </tr>\n",
       "    <tr>\n",
       "      <th>25%</th>\n",
       "      <td>32.000000</td>\n",
       "      <td>102.000000</td>\n",
       "      <td>1.000000</td>\n",
       "      <td>999.000000</td>\n",
       "      <td>-1.800000</td>\n",
       "      <td>-42.700000</td>\n",
       "      <td>1.344000</td>\n",
       "      <td>5099.100000</td>\n",
       "    </tr>\n",
       "    <tr>\n",
       "      <th>50%</th>\n",
       "      <td>38.000000</td>\n",
       "      <td>179.000000</td>\n",
       "      <td>2.000000</td>\n",
       "      <td>999.000000</td>\n",
       "      <td>1.100000</td>\n",
       "      <td>-41.800000</td>\n",
       "      <td>4.857000</td>\n",
       "      <td>5191.000000</td>\n",
       "    </tr>\n",
       "    <tr>\n",
       "      <th>75%</th>\n",
       "      <td>47.000000</td>\n",
       "      <td>318.000000</td>\n",
       "      <td>3.000000</td>\n",
       "      <td>999.000000</td>\n",
       "      <td>1.400000</td>\n",
       "      <td>-36.400000</td>\n",
       "      <td>4.961000</td>\n",
       "      <td>5228.100000</td>\n",
       "    </tr>\n",
       "    <tr>\n",
       "      <th>max</th>\n",
       "      <td>98.000000</td>\n",
       "      <td>4918.000000</td>\n",
       "      <td>56.000000</td>\n",
       "      <td>999.000000</td>\n",
       "      <td>1.400000</td>\n",
       "      <td>-26.900000</td>\n",
       "      <td>5.045000</td>\n",
       "      <td>5228.100000</td>\n",
       "    </tr>\n",
       "  </tbody>\n",
       "</table>\n",
       "</div>"
      ],
      "text/plain": [
       "                age      duration      campaign         pdays  emp.var.rate  \\\n",
       "count  32950.000000  32950.000000  32950.000000  32950.000000  32950.000000   \n",
       "mean      40.008983    257.705827      2.566464    962.927830      0.080252   \n",
       "std       10.404819    259.640047      2.791031    185.792186      1.570781   \n",
       "min       17.000000      0.000000      1.000000      0.000000     -3.400000   \n",
       "25%       32.000000    102.000000      1.000000    999.000000     -1.800000   \n",
       "50%       38.000000    179.000000      2.000000    999.000000      1.100000   \n",
       "75%       47.000000    318.000000      3.000000    999.000000      1.400000   \n",
       "max       98.000000   4918.000000     56.000000    999.000000      1.400000   \n",
       "\n",
       "       cons.conf.idx     euribor3m   nr.employed  \n",
       "count   32950.000000  32950.000000  32950.000000  \n",
       "mean      -40.515645      3.619093   5166.973605  \n",
       "std         4.627539      1.734807     72.281563  \n",
       "min       -50.800000      0.634000   4963.600000  \n",
       "25%       -42.700000      1.344000   5099.100000  \n",
       "50%       -41.800000      4.857000   5191.000000  \n",
       "75%       -36.400000      4.961000   5228.100000  \n",
       "max       -26.900000      5.045000   5228.100000  "
      ]
     },
     "execution_count": 173,
     "metadata": {},
     "output_type": "execute_result"
    }
   ],
   "source": [
    "x_train.describe()"
   ]
  },
  {
   "cell_type": "code",
   "execution_count": 153,
   "metadata": {},
   "outputs": [
    {
     "data": {
      "text/plain": [
       "count    32950.000000\n",
       "mean        93.575051\n",
       "std          0.578181\n",
       "min         92.201000\n",
       "25%         93.075000\n",
       "50%         93.749000\n",
       "75%         93.994000\n",
       "max         94.767000\n",
       "Name: cons.price.idx, dtype: float64"
      ]
     },
     "execution_count": 153,
     "metadata": {},
     "output_type": "execute_result"
    }
   ],
   "source": [
    "y_train.describe()"
   ]
  },
  {
   "cell_type": "code",
   "execution_count": 154,
   "metadata": {},
   "outputs": [
    {
     "data": {
      "text/plain": [
       "count    8238.000000\n",
       "mean       93.578117\n",
       "std         0.581496\n",
       "min        92.201000\n",
       "25%        93.075000\n",
       "50%        93.749000\n",
       "75%        93.994000\n",
       "max        94.767000\n",
       "Name: cons.price.idx, dtype: float64"
      ]
     },
     "execution_count": 154,
     "metadata": {},
     "output_type": "execute_result"
    }
   ],
   "source": [
    "y_test.describe()"
   ]
  },
  {
   "cell_type": "markdown",
   "metadata": {},
   "source": [
    "### Fitting a model"
   ]
  },
  {
   "cell_type": "code",
   "execution_count": 161,
   "metadata": {},
   "outputs": [],
   "source": [
    "from sklearn.linear_model import LinearRegression"
   ]
  },
  {
   "cell_type": "code",
   "execution_count": 162,
   "metadata": {},
   "outputs": [],
   "source": [
    "model=LinearRegression().fit(x_train,y_train)"
   ]
  },
  {
   "cell_type": "code",
   "execution_count": 168,
   "metadata": {},
   "outputs": [],
   "source": [
    "predictions=model.predict(x_test)"
   ]
  },
  {
   "cell_type": "code",
   "execution_count": 175,
   "metadata": {},
   "outputs": [],
   "source": [
    "from sklearn.metrics import r2_score,mean_squared_error"
   ]
  },
  {
   "cell_type": "code",
   "execution_count": 188,
   "metadata": {},
   "outputs": [
    {
     "data": {
      "text/plain": [
       "0.8410651493816343"
      ]
     },
     "execution_count": 188,
     "metadata": {},
     "output_type": "execute_result"
    }
   ],
   "source": [
    "# mse=mean_sqaured_error(y_test,predictions)\n",
    "r2_score(y_test,predictions) "
   ]
  },
  {
   "cell_type": "code",
   "execution_count": 187,
   "metadata": {},
   "outputs": [],
   "source": [
    "newconstant=x_train.copy()\n",
    "newconstant['constant']=1"
   ]
  },
  {
   "cell_type": "code",
   "execution_count": 182,
   "metadata": {},
   "outputs": [],
   "source": [
    "from statsmodels.api import OLS  # Ordinary least square\n",
    "m=OLS(y_train,newconstant).fit()"
   ]
  },
  {
   "cell_type": "code",
   "execution_count": 183,
   "metadata": {},
   "outputs": [
    {
     "data": {
      "text/plain": [
       "age               True\n",
       "duration          True\n",
       "campaign         False\n",
       "pdays            False\n",
       "emp.var.rate     False\n",
       "cons.conf.idx    False\n",
       "euribor3m        False\n",
       "nr.employed      False\n",
       "constant         False\n",
       "dtype: bool"
      ]
     },
     "execution_count": 183,
     "metadata": {},
     "output_type": "execute_result"
    }
   ],
   "source": [
    "m.pvalues>0.05\n"
   ]
  },
  {
   "cell_type": "code",
   "execution_count": 184,
   "metadata": {},
   "outputs": [
    {
     "data": {
      "text/html": [
       "<table class=\"simpletable\">\n",
       "<caption>OLS Regression Results</caption>\n",
       "<tr>\n",
       "  <th>Dep. Variable:</th>     <td>cons.price.idx</td>  <th>  R-squared:         </th> <td>   0.842</td> \n",
       "</tr>\n",
       "<tr>\n",
       "  <th>Model:</th>                   <td>OLS</td>       <th>  Adj. R-squared:    </th> <td>   0.842</td> \n",
       "</tr>\n",
       "<tr>\n",
       "  <th>Method:</th>             <td>Least Squares</td>  <th>  F-statistic:       </th> <td>2.198e+04</td>\n",
       "</tr>\n",
       "<tr>\n",
       "  <th>Date:</th>             <td>Wed, 29 Sep 2021</td> <th>  Prob (F-statistic):</th>  <td>  0.00</td>  \n",
       "</tr>\n",
       "<tr>\n",
       "  <th>Time:</th>                 <td>17:49:27</td>     <th>  Log-Likelihood:    </th> <td>  1722.6</td> \n",
       "</tr>\n",
       "<tr>\n",
       "  <th>No. Observations:</th>      <td> 32950</td>      <th>  AIC:               </th> <td>  -3427.</td> \n",
       "</tr>\n",
       "<tr>\n",
       "  <th>Df Residuals:</th>          <td> 32941</td>      <th>  BIC:               </th> <td>  -3352.</td> \n",
       "</tr>\n",
       "<tr>\n",
       "  <th>Df Model:</th>              <td>     8</td>      <th>                     </th>     <td> </td>    \n",
       "</tr>\n",
       "<tr>\n",
       "  <th>Covariance Type:</th>      <td>nonrobust</td>    <th>                     </th>     <td> </td>    \n",
       "</tr>\n",
       "</table>\n",
       "<table class=\"simpletable\">\n",
       "<tr>\n",
       "        <td></td>           <th>coef</th>     <th>std err</th>      <th>t</th>      <th>P>|t|</th>  <th>[0.025</th>    <th>0.975]</th>  \n",
       "</tr>\n",
       "<tr>\n",
       "  <th>age</th>           <td>    0.0002</td> <td>    0.000</td> <td>    1.695</td> <td> 0.090</td> <td>-3.26e-05</td> <td>    0.000</td>\n",
       "</tr>\n",
       "<tr>\n",
       "  <th>duration</th>      <td>  5.51e-06</td> <td> 4.89e-06</td> <td>    1.126</td> <td> 0.260</td> <td>-4.08e-06</td> <td> 1.51e-05</td>\n",
       "</tr>\n",
       "<tr>\n",
       "  <th>campaign</th>      <td>    0.0042</td> <td>    0.000</td> <td>    9.212</td> <td> 0.000</td> <td>    0.003</td> <td>    0.005</td>\n",
       "</tr>\n",
       "<tr>\n",
       "  <th>pdays</th>         <td>-6.392e-05</td> <td> 7.49e-06</td> <td>   -8.538</td> <td> 0.000</td> <td>-7.86e-05</td> <td>-4.92e-05</td>\n",
       "</tr>\n",
       "<tr>\n",
       "  <th>emp.var.rate</th>  <td>    0.4227</td> <td>    0.004</td> <td>  105.433</td> <td> 0.000</td> <td>    0.415</td> <td>    0.431</td>\n",
       "</tr>\n",
       "<tr>\n",
       "  <th>cons.conf.idx</th> <td>   -0.0411</td> <td>    0.000</td> <td> -106.967</td> <td> 0.000</td> <td>   -0.042</td> <td>   -0.040</td>\n",
       "</tr>\n",
       "<tr>\n",
       "  <th>euribor3m</th>     <td>    0.3813</td> <td>    0.005</td> <td>   69.582</td> <td> 0.000</td> <td>    0.371</td> <td>    0.392</td>\n",
       "</tr>\n",
       "<tr>\n",
       "  <th>nr.employed</th>   <td>   -0.0125</td> <td> 7.02e-05</td> <td> -178.008</td> <td> 0.000</td> <td>   -0.013</td> <td>   -0.012</td>\n",
       "</tr>\n",
       "<tr>\n",
       "  <th>constant</th>      <td>  155.1269</td> <td>    0.338</td> <td>  459.010</td> <td> 0.000</td> <td>  154.464</td> <td>  155.789</td>\n",
       "</tr>\n",
       "</table>\n",
       "<table class=\"simpletable\">\n",
       "<tr>\n",
       "  <th>Omnibus:</th>       <td>5813.214</td> <th>  Durbin-Watson:     </th> <td>   1.996</td>\n",
       "</tr>\n",
       "<tr>\n",
       "  <th>Prob(Omnibus):</th>  <td> 0.000</td>  <th>  Jarque-Bera (JB):  </th> <td>9474.109</td>\n",
       "</tr>\n",
       "<tr>\n",
       "  <th>Skew:</th>           <td> 1.219</td>  <th>  Prob(JB):          </th> <td>    0.00</td>\n",
       "</tr>\n",
       "<tr>\n",
       "  <th>Kurtosis:</th>       <td> 3.980</td>  <th>  Cond. No.          </th> <td>1.41e+06</td>\n",
       "</tr>\n",
       "</table><br/><br/>Warnings:<br/>[1] Standard Errors assume that the covariance matrix of the errors is correctly specified.<br/>[2] The condition number is large, 1.41e+06. This might indicate that there are<br/>strong multicollinearity or other numerical problems."
      ],
      "text/plain": [
       "<class 'statsmodels.iolib.summary.Summary'>\n",
       "\"\"\"\n",
       "                            OLS Regression Results                            \n",
       "==============================================================================\n",
       "Dep. Variable:         cons.price.idx   R-squared:                       0.842\n",
       "Model:                            OLS   Adj. R-squared:                  0.842\n",
       "Method:                 Least Squares   F-statistic:                 2.198e+04\n",
       "Date:                Wed, 29 Sep 2021   Prob (F-statistic):               0.00\n",
       "Time:                        17:49:27   Log-Likelihood:                 1722.6\n",
       "No. Observations:               32950   AIC:                            -3427.\n",
       "Df Residuals:                   32941   BIC:                            -3352.\n",
       "Df Model:                           8                                         \n",
       "Covariance Type:            nonrobust                                         \n",
       "=================================================================================\n",
       "                    coef    std err          t      P>|t|      [0.025      0.975]\n",
       "---------------------------------------------------------------------------------\n",
       "age               0.0002      0.000      1.695      0.090   -3.26e-05       0.000\n",
       "duration        5.51e-06   4.89e-06      1.126      0.260   -4.08e-06    1.51e-05\n",
       "campaign          0.0042      0.000      9.212      0.000       0.003       0.005\n",
       "pdays         -6.392e-05   7.49e-06     -8.538      0.000   -7.86e-05   -4.92e-05\n",
       "emp.var.rate      0.4227      0.004    105.433      0.000       0.415       0.431\n",
       "cons.conf.idx    -0.0411      0.000   -106.967      0.000      -0.042      -0.040\n",
       "euribor3m         0.3813      0.005     69.582      0.000       0.371       0.392\n",
       "nr.employed      -0.0125   7.02e-05   -178.008      0.000      -0.013      -0.012\n",
       "constant        155.1269      0.338    459.010      0.000     154.464     155.789\n",
       "==============================================================================\n",
       "Omnibus:                     5813.214   Durbin-Watson:                   1.996\n",
       "Prob(Omnibus):                  0.000   Jarque-Bera (JB):             9474.109\n",
       "Skew:                           1.219   Prob(JB):                         0.00\n",
       "Kurtosis:                       3.980   Cond. No.                     1.41e+06\n",
       "==============================================================================\n",
       "\n",
       "Warnings:\n",
       "[1] Standard Errors assume that the covariance matrix of the errors is correctly specified.\n",
       "[2] The condition number is large, 1.41e+06. This might indicate that there are\n",
       "strong multicollinearity or other numerical problems.\n",
       "\"\"\""
      ]
     },
     "execution_count": 184,
     "metadata": {},
     "output_type": "execute_result"
    }
   ],
   "source": [
    "m.summary()"
   ]
  },
  {
   "cell_type": "markdown",
   "metadata": {},
   "source": [
    "##### Here ,we can see that the value of Adj. R-squared: 0.842 which very close to 1 i.e., the model is fitted well and R-squared:0.842 "
   ]
  },
  {
   "cell_type": "code",
   "execution_count": null,
   "metadata": {},
   "outputs": [],
   "source": []
  }
 ],
 "metadata": {
  "kernelspec": {
   "display_name": "Python 3",
   "language": "python",
   "name": "python3"
  },
  "language_info": {
   "codemirror_mode": {
    "name": "ipython",
    "version": 3
   },
   "file_extension": ".py",
   "mimetype": "text/x-python",
   "name": "python",
   "nbconvert_exporter": "python",
   "pygments_lexer": "ipython3",
   "version": "3.8.3"
  }
 },
 "nbformat": 4,
 "nbformat_minor": 4
}
