{
 "cells": [
  {
   "cell_type": "code",
   "execution_count": 1,
   "metadata": {},
   "outputs": [],
   "source": [
    "import numpy as np\n",
    "import pandas as pd\n",
    "import matplotlib.pyplot as plt\n",
    "import seaborn as sns"
   ]
  },
  {
   "cell_type": "markdown",
   "metadata": {},
   "source": []
  },
  {
   "cell_type": "code",
   "execution_count": 35,
   "metadata": {},
   "outputs": [],
   "source": [
    "data=pd.read_excel('Admission_Updated.xlsx')#0,1"
   ]
  },
  {
   "cell_type": "code",
   "execution_count": 36,
   "metadata": {},
   "outputs": [
    {
     "data": {
      "text/html": [
       "<div>\n",
       "<style scoped>\n",
       "    .dataframe tbody tr th:only-of-type {\n",
       "        vertical-align: middle;\n",
       "    }\n",
       "\n",
       "    .dataframe tbody tr th {\n",
       "        vertical-align: top;\n",
       "    }\n",
       "\n",
       "    .dataframe thead th {\n",
       "        text-align: right;\n",
       "    }\n",
       "</style>\n",
       "<table border=\"1\" class=\"dataframe\">\n",
       "  <thead>\n",
       "    <tr style=\"text-align: right;\">\n",
       "      <th></th>\n",
       "      <th>SlNo</th>\n",
       "      <th>Gender</th>\n",
       "      <th>Percent_SSC</th>\n",
       "      <th>Board_SSC</th>\n",
       "      <th>Percent_HSC</th>\n",
       "      <th>Board_HSC</th>\n",
       "      <th>Stream_HSC</th>\n",
       "      <th>Percent_Degree</th>\n",
       "      <th>Course_Degree</th>\n",
       "      <th>Experience_Yrs</th>\n",
       "      <th>Entrance_Test</th>\n",
       "      <th>Percentile_ET</th>\n",
       "      <th>Percent_MBA</th>\n",
       "      <th>Specialization_MBA</th>\n",
       "      <th>Marks_Communication</th>\n",
       "      <th>Marks_Projectwork</th>\n",
       "      <th>Placement</th>\n",
       "      <th>Salary</th>\n",
       "    </tr>\n",
       "  </thead>\n",
       "  <tbody>\n",
       "    <tr>\n",
       "      <th>0</th>\n",
       "      <td>1</td>\n",
       "      <td>M</td>\n",
       "      <td>62.00</td>\n",
       "      <td>Others</td>\n",
       "      <td>88.00</td>\n",
       "      <td>Others</td>\n",
       "      <td>Commerce</td>\n",
       "      <td>52.00</td>\n",
       "      <td>Science</td>\n",
       "      <td>0</td>\n",
       "      <td>MAT</td>\n",
       "      <td>55.0</td>\n",
       "      <td>58.80</td>\n",
       "      <td>Marketing &amp; HR</td>\n",
       "      <td>50.0</td>\n",
       "      <td>65.0</td>\n",
       "      <td>Placed</td>\n",
       "      <td>270000</td>\n",
       "    </tr>\n",
       "    <tr>\n",
       "      <th>1</th>\n",
       "      <td>2</td>\n",
       "      <td>M</td>\n",
       "      <td>76.33</td>\n",
       "      <td>ICSE</td>\n",
       "      <td>75.33</td>\n",
       "      <td>Others</td>\n",
       "      <td>Science</td>\n",
       "      <td>75.48</td>\n",
       "      <td>Computer Applications</td>\n",
       "      <td>1</td>\n",
       "      <td>MAT</td>\n",
       "      <td>86.5</td>\n",
       "      <td>66.28</td>\n",
       "      <td>Marketing &amp; Finance</td>\n",
       "      <td>69.0</td>\n",
       "      <td>70.0</td>\n",
       "      <td>Placed</td>\n",
       "      <td>200000</td>\n",
       "    </tr>\n",
       "    <tr>\n",
       "      <th>2</th>\n",
       "      <td>3</td>\n",
       "      <td>M</td>\n",
       "      <td>72.00</td>\n",
       "      <td>Others</td>\n",
       "      <td>78.00</td>\n",
       "      <td>Others</td>\n",
       "      <td>Commerce</td>\n",
       "      <td>66.63</td>\n",
       "      <td>Engineering</td>\n",
       "      <td>0</td>\n",
       "      <td>NaN</td>\n",
       "      <td>0.0</td>\n",
       "      <td>52.91</td>\n",
       "      <td>Marketing &amp; Finance</td>\n",
       "      <td>50.0</td>\n",
       "      <td>61.0</td>\n",
       "      <td>Placed</td>\n",
       "      <td>240000</td>\n",
       "    </tr>\n",
       "    <tr>\n",
       "      <th>3</th>\n",
       "      <td>4</td>\n",
       "      <td>M</td>\n",
       "      <td>60.00</td>\n",
       "      <td>CBSE</td>\n",
       "      <td>63.00</td>\n",
       "      <td>CBSE</td>\n",
       "      <td>Arts</td>\n",
       "      <td>58.00</td>\n",
       "      <td>Management</td>\n",
       "      <td>0</td>\n",
       "      <td>MAT</td>\n",
       "      <td>75.0</td>\n",
       "      <td>57.80</td>\n",
       "      <td>Marketing &amp; Finance</td>\n",
       "      <td>54.0</td>\n",
       "      <td>66.0</td>\n",
       "      <td>Placed</td>\n",
       "      <td>250000</td>\n",
       "    </tr>\n",
       "    <tr>\n",
       "      <th>4</th>\n",
       "      <td>5</td>\n",
       "      <td>M</td>\n",
       "      <td>61.00</td>\n",
       "      <td>CBSE</td>\n",
       "      <td>55.00</td>\n",
       "      <td>ISC</td>\n",
       "      <td>Science</td>\n",
       "      <td>54.00</td>\n",
       "      <td>Engineering</td>\n",
       "      <td>1</td>\n",
       "      <td>MAT</td>\n",
       "      <td>66.0</td>\n",
       "      <td>59.43</td>\n",
       "      <td>Marketing &amp; HR</td>\n",
       "      <td>52.0</td>\n",
       "      <td>65.0</td>\n",
       "      <td>Placed</td>\n",
       "      <td>180000</td>\n",
       "    </tr>\n",
       "  </tbody>\n",
       "</table>\n",
       "</div>"
      ],
      "text/plain": [
       "   SlNo Gender  Percent_SSC Board_SSC  Percent_HSC Board_HSC Stream_HSC  \\\n",
       "0     1      M        62.00    Others        88.00    Others   Commerce   \n",
       "1     2      M        76.33      ICSE        75.33    Others    Science   \n",
       "2     3      M        72.00    Others        78.00    Others   Commerce   \n",
       "3     4      M        60.00      CBSE        63.00      CBSE       Arts   \n",
       "4     5      M        61.00      CBSE        55.00       ISC    Science   \n",
       "\n",
       "   Percent_Degree          Course_Degree  Experience_Yrs Entrance_Test  \\\n",
       "0           52.00                Science               0           MAT   \n",
       "1           75.48  Computer Applications               1           MAT   \n",
       "2           66.63            Engineering               0           NaN   \n",
       "3           58.00             Management               0           MAT   \n",
       "4           54.00            Engineering               1           MAT   \n",
       "\n",
       "   Percentile_ET  Percent_MBA   Specialization_MBA  Marks_Communication  \\\n",
       "0           55.0        58.80       Marketing & HR                 50.0   \n",
       "1           86.5        66.28  Marketing & Finance                 69.0   \n",
       "2            0.0        52.91  Marketing & Finance                 50.0   \n",
       "3           75.0        57.80  Marketing & Finance                 54.0   \n",
       "4           66.0        59.43       Marketing & HR                 52.0   \n",
       "\n",
       "   Marks_Projectwork Placement  Salary  \n",
       "0               65.0    Placed  270000  \n",
       "1               70.0    Placed  200000  \n",
       "2               61.0    Placed  240000  \n",
       "3               66.0    Placed  250000  \n",
       "4               65.0    Placed  180000  "
      ]
     },
     "execution_count": 36,
     "metadata": {},
     "output_type": "execute_result"
    }
   ],
   "source": [
    "data.head()"
   ]
  },
  {
   "cell_type": "code",
   "execution_count": 37,
   "metadata": {},
   "outputs": [
    {
     "data": {
      "text/plain": [
       "(638, 18)"
      ]
     },
     "execution_count": 37,
     "metadata": {},
     "output_type": "execute_result"
    }
   ],
   "source": [
    "#2A\n",
    "data.shape# THERE ARE 638 ROWS AND 18 COLUMNS"
   ]
  },
  {
   "cell_type": "code",
   "execution_count": 38,
   "metadata": {},
   "outputs": [
    {
     "name": "stdout",
     "output_type": "stream",
     "text": [
      "<class 'pandas.core.frame.DataFrame'>\n",
      "RangeIndex: 638 entries, 0 to 637\n",
      "Data columns (total 18 columns):\n",
      " #   Column               Non-Null Count  Dtype  \n",
      "---  ------               --------------  -----  \n",
      " 0   SlNo                 638 non-null    int64  \n",
      " 1   Gender               638 non-null    object \n",
      " 2   Percent_SSC          638 non-null    float64\n",
      " 3   Board_SSC            638 non-null    object \n",
      " 4   Percent_HSC          638 non-null    float64\n",
      " 5   Board_HSC            638 non-null    object \n",
      " 6   Stream_HSC           638 non-null    object \n",
      " 7   Percent_Degree       638 non-null    float64\n",
      " 8   Course_Degree        638 non-null    object \n",
      " 9   Experience_Yrs       638 non-null    int64  \n",
      " 10  Entrance_Test        557 non-null    object \n",
      " 11  Percentile_ET        638 non-null    float64\n",
      " 12  Percent_MBA          638 non-null    float64\n",
      " 13  Specialization_MBA   622 non-null    object \n",
      " 14  Marks_Communication  638 non-null    float64\n",
      " 15  Marks_Projectwork    638 non-null    float64\n",
      " 16  Placement            638 non-null    object \n",
      " 17  Salary               638 non-null    int64  \n",
      "dtypes: float64(7), int64(3), object(8)\n",
      "memory usage: 89.8+ KB\n"
     ]
    }
   ],
   "source": [
    "data.info()"
   ]
  },
  {
   "cell_type": "code",
   "execution_count": 39,
   "metadata": {},
   "outputs": [],
   "source": [
    "# THERE ARE 7 FLOAT,3 INT AND 8 OBJECT VARIABLES PRESENT IN DATA"
   ]
  },
  {
   "cell_type": "code",
   "execution_count": 40,
   "metadata": {},
   "outputs": [
    {
     "data": {
      "text/html": [
       "<div>\n",
       "<style scoped>\n",
       "    .dataframe tbody tr th:only-of-type {\n",
       "        vertical-align: middle;\n",
       "    }\n",
       "\n",
       "    .dataframe tbody tr th {\n",
       "        vertical-align: top;\n",
       "    }\n",
       "\n",
       "    .dataframe thead th {\n",
       "        text-align: right;\n",
       "    }\n",
       "</style>\n",
       "<table border=\"1\" class=\"dataframe\">\n",
       "  <thead>\n",
       "    <tr style=\"text-align: right;\">\n",
       "      <th></th>\n",
       "      <th>SlNo</th>\n",
       "      <th>Percent_SSC</th>\n",
       "      <th>Percent_HSC</th>\n",
       "      <th>Percent_Degree</th>\n",
       "      <th>Experience_Yrs</th>\n",
       "      <th>Percentile_ET</th>\n",
       "      <th>Percent_MBA</th>\n",
       "      <th>Marks_Communication</th>\n",
       "      <th>Marks_Projectwork</th>\n",
       "      <th>Salary</th>\n",
       "    </tr>\n",
       "  </thead>\n",
       "  <tbody>\n",
       "    <tr>\n",
       "      <th>count</th>\n",
       "      <td>638.000000</td>\n",
       "      <td>638.000000</td>\n",
       "      <td>638.000000</td>\n",
       "      <td>638.000000</td>\n",
       "      <td>638.000000</td>\n",
       "      <td>638.00000</td>\n",
       "      <td>638.000000</td>\n",
       "      <td>638.000000</td>\n",
       "      <td>638.000000</td>\n",
       "      <td>638.000000</td>\n",
       "    </tr>\n",
       "    <tr>\n",
       "      <th>mean</th>\n",
       "      <td>319.500000</td>\n",
       "      <td>64.483511</td>\n",
       "      <td>63.825172</td>\n",
       "      <td>63.560846</td>\n",
       "      <td>0.545455</td>\n",
       "      <td>58.78290</td>\n",
       "      <td>62.610611</td>\n",
       "      <td>61.545768</td>\n",
       "      <td>66.082806</td>\n",
       "      <td>237541.692790</td>\n",
       "    </tr>\n",
       "    <tr>\n",
       "      <th>std</th>\n",
       "      <td>184.319017</td>\n",
       "      <td>10.966776</td>\n",
       "      <td>11.452802</td>\n",
       "      <td>10.311266</td>\n",
       "      <td>0.700058</td>\n",
       "      <td>26.18736</td>\n",
       "      <td>8.487143</td>\n",
       "      <td>11.640961</td>\n",
       "      <td>9.732895</td>\n",
       "      <td>145160.746448</td>\n",
       "    </tr>\n",
       "    <tr>\n",
       "      <th>min</th>\n",
       "      <td>1.000000</td>\n",
       "      <td>37.000000</td>\n",
       "      <td>38.000000</td>\n",
       "      <td>7.000000</td>\n",
       "      <td>0.000000</td>\n",
       "      <td>0.00000</td>\n",
       "      <td>38.000000</td>\n",
       "      <td>35.000000</td>\n",
       "      <td>37.000000</td>\n",
       "      <td>0.000000</td>\n",
       "    </tr>\n",
       "    <tr>\n",
       "      <th>25%</th>\n",
       "      <td>160.250000</td>\n",
       "      <td>56.000000</td>\n",
       "      <td>54.000000</td>\n",
       "      <td>56.095000</td>\n",
       "      <td>0.000000</td>\n",
       "      <td>51.00000</td>\n",
       "      <td>56.637500</td>\n",
       "      <td>53.000000</td>\n",
       "      <td>59.000000</td>\n",
       "      <td>162000.000000</td>\n",
       "    </tr>\n",
       "    <tr>\n",
       "      <th>50%</th>\n",
       "      <td>319.500000</td>\n",
       "      <td>64.600000</td>\n",
       "      <td>63.000000</td>\n",
       "      <td>63.450000</td>\n",
       "      <td>0.000000</td>\n",
       "      <td>64.00000</td>\n",
       "      <td>61.360000</td>\n",
       "      <td>59.000000</td>\n",
       "      <td>67.000000</td>\n",
       "      <td>250000.000000</td>\n",
       "    </tr>\n",
       "    <tr>\n",
       "      <th>75%</th>\n",
       "      <td>478.750000</td>\n",
       "      <td>73.760000</td>\n",
       "      <td>73.000000</td>\n",
       "      <td>71.000000</td>\n",
       "      <td>1.000000</td>\n",
       "      <td>75.50000</td>\n",
       "      <td>67.772500</td>\n",
       "      <td>69.000000</td>\n",
       "      <td>73.000000</td>\n",
       "      <td>320000.000000</td>\n",
       "    </tr>\n",
       "    <tr>\n",
       "      <th>max</th>\n",
       "      <td>638.000000</td>\n",
       "      <td>88.800000</td>\n",
       "      <td>94.700000</td>\n",
       "      <td>94.700000</td>\n",
       "      <td>3.000000</td>\n",
       "      <td>99.00000</td>\n",
       "      <td>89.000000</td>\n",
       "      <td>99.000000</td>\n",
       "      <td>94.700000</td>\n",
       "      <td>940000.000000</td>\n",
       "    </tr>\n",
       "  </tbody>\n",
       "</table>\n",
       "</div>"
      ],
      "text/plain": [
       "             SlNo  Percent_SSC  Percent_HSC  Percent_Degree  Experience_Yrs  \\\n",
       "count  638.000000   638.000000   638.000000      638.000000      638.000000   \n",
       "mean   319.500000    64.483511    63.825172       63.560846        0.545455   \n",
       "std    184.319017    10.966776    11.452802       10.311266        0.700058   \n",
       "min      1.000000    37.000000    38.000000        7.000000        0.000000   \n",
       "25%    160.250000    56.000000    54.000000       56.095000        0.000000   \n",
       "50%    319.500000    64.600000    63.000000       63.450000        0.000000   \n",
       "75%    478.750000    73.760000    73.000000       71.000000        1.000000   \n",
       "max    638.000000    88.800000    94.700000       94.700000        3.000000   \n",
       "\n",
       "       Percentile_ET  Percent_MBA  Marks_Communication  Marks_Projectwork  \\\n",
       "count      638.00000   638.000000           638.000000         638.000000   \n",
       "mean        58.78290    62.610611            61.545768          66.082806   \n",
       "std         26.18736     8.487143            11.640961           9.732895   \n",
       "min          0.00000    38.000000            35.000000          37.000000   \n",
       "25%         51.00000    56.637500            53.000000          59.000000   \n",
       "50%         64.00000    61.360000            59.000000          67.000000   \n",
       "75%         75.50000    67.772500            69.000000          73.000000   \n",
       "max         99.00000    89.000000            99.000000          94.700000   \n",
       "\n",
       "              Salary  \n",
       "count     638.000000  \n",
       "mean   237541.692790  \n",
       "std    145160.746448  \n",
       "min         0.000000  \n",
       "25%    162000.000000  \n",
       "50%    250000.000000  \n",
       "75%    320000.000000  \n",
       "max    940000.000000  "
      ]
     },
     "execution_count": 40,
     "metadata": {},
     "output_type": "execute_result"
    }
   ],
   "source": [
    "#2B\n",
    "data.describe()# Five Point Summary"
   ]
  },
  {
   "cell_type": "code",
   "execution_count": 41,
   "metadata": {},
   "outputs": [],
   "source": [
    "# 2C\n",
    "# summarize observations of categorical variables for no of categories,no of categories,% in each categories"
   ]
  },
  {
   "cell_type": "code",
   "execution_count": 42,
   "metadata": {},
   "outputs": [
    {
     "name": "stdout",
     "output_type": "stream",
     "text": [
      "the % of gender is: \n",
      "M    54.545455\n",
      "F    45.454545\n",
      "Name: Gender, dtype: float64\n",
      "\n",
      "\n",
      "the % of Board_SSC is: \n",
      "Others    60.344828\n",
      "ICSE      21.316614\n",
      "CBSE      18.338558\n",
      "Name: Board_SSC, dtype: float64\n",
      "\n",
      "\n",
      "the % of Board_HSC is: \n",
      "Others    44.043887\n",
      "CBSE      33.385580\n",
      "ISC       22.570533\n",
      "Name: Board_HSC, dtype: float64\n",
      "\n",
      "\n",
      "the % of Stream_HSC is: \n",
      "Commerce    44.514107\n",
      "Science     33.385580\n",
      "Arts        22.100313\n",
      "Name: Stream_HSC, dtype: float64\n",
      "\n",
      "\n",
      "the % of Course_degree is: \n",
      "Management               39.498433\n",
      "Engineering              21.943574\n",
      "Commerce                 18.338558\n",
      "Science                  10.188088\n",
      "Computer Applications     7.210031\n",
      "Arts                      2.037618\n",
      "Others                    0.783699\n",
      "Name: Course_Degree, dtype: float64\n",
      "\n",
      "\n",
      "the % of Entrance_test is: \n",
      "MAT      79.174147\n",
      "CAT       7.001795\n",
      "K-MAT     6.642729\n",
      "PGCET     6.283662\n",
      "GCET      0.359066\n",
      "G-SAT     0.179533\n",
      "G-MAT     0.179533\n",
      "XAT       0.179533\n",
      "Name: Entrance_Test, dtype: float64\n",
      "\n",
      "\n",
      "the % of Specialisation MBA is: \n",
      "Marketing & Finance        43.247588\n",
      "Marketing & HR             28.617363\n",
      "Operations & Management    14.630225\n",
      "Marketing & IB             13.504823\n",
      "Name: Specialization_MBA, dtype: float64\n",
      "\n",
      "\n",
      "the % of Placements is: \n",
      "Placed        82.445141\n",
      "Not Placed    17.554859\n",
      "Name: Placement, dtype: float64\n"
     ]
    }
   ],
   "source": [
    "print('the % of gender is: ')\n",
    "print(data.Gender.value_counts(1)*100)\n",
    "print('\\n')\n",
    "print('the % of Board_SSC is: ')\n",
    "print(data.Board_SSC.value_counts(1)*100)\n",
    "print('\\n')\n",
    "print('the % of Board_HSC is: ')\n",
    "print(data.Board_HSC.value_counts(1)*100)\n",
    "print('\\n')\n",
    "print('the % of Stream_HSC is: ')\n",
    "print(data.Stream_HSC.value_counts(1)*100)\n",
    "print('\\n')\n",
    "print('the % of Course_degree is: ')\n",
    "print(data.Course_Degree.value_counts(1)*100)\n",
    "print('\\n')\n",
    "print('the % of Entrance_test is: ')\n",
    "print(data.Entrance_Test.value_counts(1)*100)\n",
    "print('\\n')\n",
    "print('the % of Specialisation MBA is: ')\n",
    "print(data.Specialization_MBA.value_counts(1)*100)\n",
    "print('\\n')\n",
    "print('the % of Placements is: ')\n",
    "print(data.Placement.value_counts(1)*100)"
   ]
  },
  {
   "cell_type": "code",
   "execution_count": 43,
   "metadata": {},
   "outputs": [
    {
     "name": "stderr",
     "output_type": "stream",
     "text": [
      "C:\\Users\\Acer4\\anaconda3\\lib\\site-packages\\seaborn\\distributions.py:2551: FutureWarning: `distplot` is a deprecated function and will be removed in a future version. Please adapt your code to use either `displot` (a figure-level function with similar flexibility) or `histplot` (an axes-level function for histograms).\n",
      "  warnings.warn(msg, FutureWarning)\n"
     ]
    },
    {
     "data": {
      "text/plain": [
       "<AxesSubplot:xlabel='Salary', ylabel='Density'>"
      ]
     },
     "execution_count": 43,
     "metadata": {},
     "output_type": "execute_result"
    },
    {
     "data": {
      "image/png": "[encoded data removed]",
      "text/plain": [
       "<Figure size 432x288 with 1 Axes>"
      ]
     },
     "metadata": {
      "needs_background": "light"
     },
     "output_type": "display_data"
    }
   ],
   "source": [
    "#4A\n",
    "sns.distplot(data['Salary'])"
   ]
  },
  {
   "cell_type": "code",
   "execution_count": 44,
   "metadata": {},
   "outputs": [],
   "source": [
    "# TARGET VARIABLE SEEMS TO BE RIGHT SKEWED AS PER THE PLOT"
   ]
  },
  {
   "cell_type": "code",
   "execution_count": 12,
   "metadata": {},
   "outputs": [
    {
     "data": {
      "text/plain": [
       "ShapiroResult(statistic=0.9392697215080261, pvalue=1.830479280114485e-15)"
      ]
     },
     "execution_count": 12,
     "metadata": {},
     "output_type": "execute_result"
    }
   ],
   "source": [
    "from scipy.stats import shapiro\n",
    "shapiro(data[\"Salary\"])"
   ]
  },
  {
   "cell_type": "code",
   "execution_count": 13,
   "metadata": {},
   "outputs": [],
   "source": [
    "#The p value is less than 0.05  hence salary is not normally distributed"
   ]
  },
  {
   "cell_type": "code",
   "execution_count": 14,
   "metadata": {},
   "outputs": [],
   "source": [
    "import seaborn as sns\n",
    "import matplotlib.pyplot as plt"
   ]
  },
  {
   "cell_type": "code",
   "execution_count": 45,
   "metadata": {},
   "outputs": [
    {
     "data": {
      "text/plain": [
       "<AxesSubplot:xlabel='Salary', ylabel='Density'>"
      ]
     },
     "execution_count": 45,
     "metadata": {},
     "output_type": "execute_result"
    },
    {
     "data": {
      "image/png": "[encoded data removed]",
      "text/plain": [
       "<Figure size 432x288 with 1 Axes>"
      ]
     },
     "metadata": {
      "needs_background": "light"
     },
     "output_type": "display_data"
    }
   ],
   "source": [
    "sns.kdeplot(data[\"Salary\"]**(1/3))"
   ]
  },
  {
   "cell_type": "markdown",
   "metadata": {},
   "source": [
    "We can rectify the distribution of target variable by doing cube route "
   ]
  },
  {
   "cell_type": "code",
   "execution_count": null,
   "metadata": {},
   "outputs": [],
   "source": [
    "#OUTLIER DETECTION\n",
    "#4C\n"
   ]
  },
  {
   "cell_type": "code",
   "execution_count": 47,
   "metadata": {},
   "outputs": [
    {
     "name": "stderr",
     "output_type": "stream",
     "text": [
      "C:\\Users\\Acer4\\anaconda3\\lib\\site-packages\\seaborn\\_decorators.py:36: FutureWarning: Pass the following variable as a keyword arg: x. From version 0.12, the only valid positional argument will be `data`, and passing other arguments without an explicit keyword will result in an error or misinterpretation.\n",
      "  warnings.warn(\n"
     ]
    },
    {
     "data": {
      "image/png": "[encoded data removed]",
      "text/plain": [
       "<Figure size 432x288 with 1 Axes>"
      ]
     },
     "metadata": {
      "needs_background": "light"
     },
     "output_type": "display_data"
    },
    {
     "name": "stderr",
     "output_type": "stream",
     "text": [
      "C:\\Users\\Acer4\\anaconda3\\lib\\site-packages\\seaborn\\_decorators.py:36: FutureWarning: Pass the following variable as a keyword arg: x. From version 0.12, the only valid positional argument will be `data`, and passing other arguments without an explicit keyword will result in an error or misinterpretation.\n",
      "  warnings.warn(\n"
     ]
    },
    {
     "data": {
      "image/png": "[encoded data removed]",
      "text/plain": [
       "<Figure size 432x288 with 1 Axes>"
      ]
     },
     "metadata": {
      "needs_background": "light"
     },
     "output_type": "display_data"
    },
    {
     "name": "stderr",
     "output_type": "stream",
     "text": [
      "C:\\Users\\Acer4\\anaconda3\\lib\\site-packages\\seaborn\\_decorators.py:36: FutureWarning: Pass the following variable as a keyword arg: x. From version 0.12, the only valid positional argument will be `data`, and passing other arguments without an explicit keyword will result in an error or misinterpretation.\n",
      "  warnings.warn(\n"
     ]
    },
    {
     "data": {
      "image/png": "[encoded data removed]",
      "text/plain": [
       "<Figure size 432x288 with 1 Axes>"
      ]
     },
     "metadata": {
      "needs_background": "light"
     },
     "output_type": "display_data"
    },
    {
     "name": "stderr",
     "output_type": "stream",
     "text": [
      "C:\\Users\\Acer4\\anaconda3\\lib\\site-packages\\seaborn\\_decorators.py:36: FutureWarning: Pass the following variable as a keyword arg: x. From version 0.12, the only valid positional argument will be `data`, and passing other arguments without an explicit keyword will result in an error or misinterpretation.\n",
      "  warnings.warn(\n"
     ]
    },
    {
     "data": {
      "image/png": "[encoded data removed]",
      "text/plain": [
       "<Figure size 432x288 with 1 Axes>"
      ]
     },
     "metadata": {
      "needs_background": "light"
     },
     "output_type": "display_data"
    },
    {
     "name": "stderr",
     "output_type": "stream",
     "text": [
      "C:\\Users\\Acer4\\anaconda3\\lib\\site-packages\\seaborn\\_decorators.py:36: FutureWarning: Pass the following variable as a keyword arg: x. From version 0.12, the only valid positional argument will be `data`, and passing other arguments without an explicit keyword will result in an error or misinterpretation.\n",
      "  warnings.warn(\n"
     ]
    },
    {
     "data": {
      "image/png": "[encoded data removed]",
      "text/plain": [
       "<Figure size 432x288 with 1 Axes>"
      ]
     },
     "metadata": {
      "needs_background": "light"
     },
     "output_type": "display_data"
    },
    {
     "name": "stderr",
     "output_type": "stream",
     "text": [
      "C:\\Users\\Acer4\\anaconda3\\lib\\site-packages\\seaborn\\_decorators.py:36: FutureWarning: Pass the following variable as a keyword arg: x. From version 0.12, the only valid positional argument will be `data`, and passing other arguments without an explicit keyword will result in an error or misinterpretation.\n",
      "  warnings.warn(\n"
     ]
    },
    {
     "data": {
      "image/png": "[encoded data removed]",
      "text/plain": [
       "<Figure size 432x288 with 1 Axes>"
      ]
     },
     "metadata": {
      "needs_background": "light"
     },
     "output_type": "display_data"
    },
    {
     "name": "stderr",
     "output_type": "stream",
     "text": [
      "C:\\Users\\Acer4\\anaconda3\\lib\\site-packages\\seaborn\\_decorators.py:36: FutureWarning: Pass the following variable as a keyword arg: x. From version 0.12, the only valid positional argument will be `data`, and passing other arguments without an explicit keyword will result in an error or misinterpretation.\n",
      "  warnings.warn(\n"
     ]
    },
    {
     "data": {
      "image/png": "[encoded data removed]",
      "text/plain": [
       "<Figure size 432x288 with 1 Axes>"
      ]
     },
     "metadata": {
      "needs_background": "light"
     },
     "output_type": "display_data"
    },
    {
     "name": "stderr",
     "output_type": "stream",
     "text": [
      "C:\\Users\\Acer4\\anaconda3\\lib\\site-packages\\seaborn\\_decorators.py:36: FutureWarning: Pass the following variable as a keyword arg: x. From version 0.12, the only valid positional argument will be `data`, and passing other arguments without an explicit keyword will result in an error or misinterpretation.\n",
      "  warnings.warn(\n"
     ]
    },
    {
     "data": {
      "image/png": "[encoded data removed]",
      "text/plain": [
       "<Figure size 432x288 with 1 Axes>"
      ]
     },
     "metadata": {
      "needs_background": "light"
     },
     "output_type": "display_data"
    },
    {
     "name": "stderr",
     "output_type": "stream",
     "text": [
      "C:\\Users\\Acer4\\anaconda3\\lib\\site-packages\\seaborn\\_decorators.py:36: FutureWarning: Pass the following variable as a keyword arg: x. From version 0.12, the only valid positional argument will be `data`, and passing other arguments without an explicit keyword will result in an error or misinterpretation.\n",
      "  warnings.warn(\n"
     ]
    },
    {
     "data": {
      "image/png": "[encoded data removed]",
      "text/plain": [
       "<Figure size 432x288 with 1 Axes>"
      ]
     },
     "metadata": {
      "needs_background": "light"
     },
     "output_type": "display_data"
    },
    {
     "name": "stderr",
     "output_type": "stream",
     "text": [
      "C:\\Users\\Acer4\\anaconda3\\lib\\site-packages\\seaborn\\_decorators.py:36: FutureWarning: Pass the following variable as a keyword arg: x. From version 0.12, the only valid positional argument will be `data`, and passing other arguments without an explicit keyword will result in an error or misinterpretation.\n",
      "  warnings.warn(\n"
     ]
    },
    {
     "data": {
      "image/png": "[encoded data removed]",
      "text/plain": [
       "<Figure size 432x288 with 1 Axes>"
      ]
     },
     "metadata": {
      "needs_background": "light"
     },
     "output_type": "display_data"
    }
   ],
   "source": [
    "nums=data.select_dtypes(include=[\"float64\",\"int64\"])\n",
    "for i in nums.columns:\n",
    "    sns.boxplot(data[i])\n",
    "    plt.show()\n",
    "\n"
   ]
  },
  {
   "cell_type": "markdown",
   "metadata": {},
   "source": [
    "# as we can see that target variables have outliers.we can say that target variable is right skewed,also there is outliers present in marks communication,and single value outlier in marks_projectwork also there is ouliers present in percent_mba"
   ]
  },
  {
   "cell_type": "code",
   "execution_count": null,
   "metadata": {},
   "outputs": [],
   "source": [
    "\n",
    "# 4B\n",
    "data.isnull().sum()[data.isnull().sum()!=0] # There are null variables in 81 entrance test,16 specialization mba"
   ]
  },
  {
   "cell_type": "markdown",
   "metadata": {},
   "source": [
    "# plotting a box plot to check target variable association with variable having null value"
   ]
  },
  {
   "cell_type": "code",
   "execution_count": 1,
   "metadata": {},
   "outputs": [
    {
     "ename": "NameError",
     "evalue": "name 'sns' is not defined",
     "output_type": "error",
     "traceback": [
      "\u001b[1;31m---------------------------------------------------------------------------\u001b[0m",
      "\u001b[1;31mNameError\u001b[0m                                 Traceback (most recent call last)",
      "\u001b[1;32m<ipython-input-1-ea3ee866f403>\u001b[0m in \u001b[0;36m<module>\u001b[1;34m\u001b[0m\n\u001b[1;32m----> 1\u001b[1;33m \u001b[0msns\u001b[0m\u001b[1;33m.\u001b[0m\u001b[0mboxplot\u001b[0m\u001b[1;33m(\u001b[0m\u001b[0my\u001b[0m\u001b[1;33m=\u001b[0m\u001b[0mdata\u001b[0m\u001b[1;33m[\u001b[0m\u001b[1;34m'Entrance_Test'\u001b[0m\u001b[1;33m]\u001b[0m\u001b[1;33m,\u001b[0m\u001b[0mx\u001b[0m\u001b[1;33m=\u001b[0m\u001b[0mdata\u001b[0m\u001b[1;33m[\u001b[0m\u001b[1;34m'Salary'\u001b[0m\u001b[1;33m]\u001b[0m\u001b[1;33m)\u001b[0m\u001b[1;33m\u001b[0m\u001b[1;33m\u001b[0m\u001b[0m\n\u001b[0m",
      "\u001b[1;31mNameError\u001b[0m: name 'sns' is not defined"
     ]
    }
   ],
   "source": [
    "sns.boxplot(y=data['Entrance_Test'],x=data['Salary'])"
   ]
  },
  {
   "cell_type": "code",
   "execution_count": null,
   "metadata": {},
   "outputs": [],
   "source": [
    "# AS WE CAN SEE THAT ENTRANCE_TEST IS SIGNIFICANT SO WE WILL FILL THE MISSING VALUES "
   ]
  },
  {
   "cell_type": "code",
   "execution_count": null,
   "metadata": {},
   "outputs": [],
   "source": [
    "data[\"Entrance_Test\"].fillna(data[\"Entrance_Test\"].mode()[0],inplace=True)"
   ]
  },
  {
   "cell_type": "code",
   "execution_count": null,
   "metadata": {},
   "outputs": [],
   "source": [
    "data[\"Specialization_MBA\"].value_counts()"
   ]
  },
  {
   "cell_type": "code",
   "execution_count": null,
   "metadata": {},
   "outputs": [],
   "source": [
    "data[\"Specialization_MBA\"].fillna(data[\"Specialization_MBA\"].mode()[0],inplace=True)"
   ]
  },
  {
   "cell_type": "code",
   "execution_count": null,
   "metadata": {},
   "outputs": [],
   "source": [
    "sns.boxplot(y=data['Specialization_MBA'],x=data['Salary'])"
   ]
  },
  {
   "cell_type": "code",
   "execution_count": null,
   "metadata": {},
   "outputs": [],
   "source": [
    "# AS WE CAN SEE THAT MBA_SPECIALIZATION IS SIGNIFICANT SO WE WILL FILL THE MISSING VALUES "
   ]
  },
  {
   "cell_type": "markdown",
   "metadata": {},
   "source": []
  },
  {
   "cell_type": "code",
   "execution_count": null,
   "metadata": {},
   "outputs": [],
   "source": [
    "sns.boxplot(data[\"Percentile_ET\"]**1.4)"
   ]
  },
  {
   "cell_type": "code",
   "execution_count": null,
   "metadata": {},
   "outputs": [],
   "source": [
    "sns.boxplot((data[\"Marks_Communication\"]**0.28))"
   ]
  },
  {
   "cell_type": "code",
   "execution_count": null,
   "metadata": {},
   "outputs": [],
   "source": [
    "sns.boxplot((data[\"Marks_Projectwork\"]**1.15))"
   ]
  },
  {
   "cell_type": "markdown",
   "metadata": {},
   "source": [
    "# question 3 plot correlation"
   ]
  },
  {
   "cell_type": "code",
   "execution_count": 17,
   "metadata": {},
   "outputs": [
    {
     "data": {
      "text/html": [
       "<div>\n",
       "<style scoped>\n",
       "    .dataframe tbody tr th:only-of-type {\n",
       "        vertical-align: middle;\n",
       "    }\n",
       "\n",
       "    .dataframe tbody tr th {\n",
       "        vertical-align: top;\n",
       "    }\n",
       "\n",
       "    .dataframe thead th {\n",
       "        text-align: right;\n",
       "    }\n",
       "</style>\n",
       "<table border=\"1\" class=\"dataframe\">\n",
       "  <thead>\n",
       "    <tr style=\"text-align: right;\">\n",
       "      <th></th>\n",
       "      <th>SlNo</th>\n",
       "      <th>Percent_SSC</th>\n",
       "      <th>Percent_HSC</th>\n",
       "      <th>Percent_Degree</th>\n",
       "      <th>Experience_Yrs</th>\n",
       "      <th>Percentile_ET</th>\n",
       "      <th>Percent_MBA</th>\n",
       "      <th>Marks_Communication</th>\n",
       "      <th>Marks_Projectwork</th>\n",
       "      <th>Salary</th>\n",
       "    </tr>\n",
       "  </thead>\n",
       "  <tbody>\n",
       "    <tr>\n",
       "      <th>SlNo</th>\n",
       "      <td>1.000000</td>\n",
       "      <td>-0.010839</td>\n",
       "      <td>-0.033880</td>\n",
       "      <td>0.085249</td>\n",
       "      <td>0.105141</td>\n",
       "      <td>0.174163</td>\n",
       "      <td>0.136243</td>\n",
       "      <td>0.157284</td>\n",
       "      <td>-0.216046</td>\n",
       "      <td>0.091374</td>\n",
       "    </tr>\n",
       "    <tr>\n",
       "      <th>Percent_SSC</th>\n",
       "      <td>-0.010839</td>\n",
       "      <td>1.000000</td>\n",
       "      <td>0.222149</td>\n",
       "      <td>0.193228</td>\n",
       "      <td>-0.005740</td>\n",
       "      <td>0.147218</td>\n",
       "      <td>0.195927</td>\n",
       "      <td>0.247278</td>\n",
       "      <td>0.046471</td>\n",
       "      <td>0.074083</td>\n",
       "    </tr>\n",
       "    <tr>\n",
       "      <th>Percent_HSC</th>\n",
       "      <td>-0.033880</td>\n",
       "      <td>0.222149</td>\n",
       "      <td>1.000000</td>\n",
       "      <td>0.234872</td>\n",
       "      <td>-0.060761</td>\n",
       "      <td>0.116349</td>\n",
       "      <td>0.175618</td>\n",
       "      <td>0.129577</td>\n",
       "      <td>0.049596</td>\n",
       "      <td>0.071544</td>\n",
       "    </tr>\n",
       "    <tr>\n",
       "      <th>Percent_Degree</th>\n",
       "      <td>0.085249</td>\n",
       "      <td>0.193228</td>\n",
       "      <td>0.234872</td>\n",
       "      <td>1.000000</td>\n",
       "      <td>-0.007380</td>\n",
       "      <td>0.130287</td>\n",
       "      <td>0.210295</td>\n",
       "      <td>0.151536</td>\n",
       "      <td>0.101960</td>\n",
       "      <td>0.019501</td>\n",
       "    </tr>\n",
       "    <tr>\n",
       "      <th>Experience_Yrs</th>\n",
       "      <td>0.105141</td>\n",
       "      <td>-0.005740</td>\n",
       "      <td>-0.060761</td>\n",
       "      <td>-0.007380</td>\n",
       "      <td>1.000000</td>\n",
       "      <td>-0.003438</td>\n",
       "      <td>0.140915</td>\n",
       "      <td>0.020736</td>\n",
       "      <td>-0.013650</td>\n",
       "      <td>0.105553</td>\n",
       "    </tr>\n",
       "    <tr>\n",
       "      <th>Percentile_ET</th>\n",
       "      <td>0.174163</td>\n",
       "      <td>0.147218</td>\n",
       "      <td>0.116349</td>\n",
       "      <td>0.130287</td>\n",
       "      <td>-0.003438</td>\n",
       "      <td>1.000000</td>\n",
       "      <td>0.159550</td>\n",
       "      <td>0.117954</td>\n",
       "      <td>-0.000318</td>\n",
       "      <td>0.133933</td>\n",
       "    </tr>\n",
       "    <tr>\n",
       "      <th>Percent_MBA</th>\n",
       "      <td>0.136243</td>\n",
       "      <td>0.195927</td>\n",
       "      <td>0.175618</td>\n",
       "      <td>0.210295</td>\n",
       "      <td>0.140915</td>\n",
       "      <td>0.159550</td>\n",
       "      <td>1.000000</td>\n",
       "      <td>0.249591</td>\n",
       "      <td>0.098677</td>\n",
       "      <td>0.138291</td>\n",
       "    </tr>\n",
       "    <tr>\n",
       "      <th>Marks_Communication</th>\n",
       "      <td>0.157284</td>\n",
       "      <td>0.247278</td>\n",
       "      <td>0.129577</td>\n",
       "      <td>0.151536</td>\n",
       "      <td>0.020736</td>\n",
       "      <td>0.117954</td>\n",
       "      <td>0.249591</td>\n",
       "      <td>1.000000</td>\n",
       "      <td>0.113529</td>\n",
       "      <td>0.055232</td>\n",
       "    </tr>\n",
       "    <tr>\n",
       "      <th>Marks_Projectwork</th>\n",
       "      <td>-0.216046</td>\n",
       "      <td>0.046471</td>\n",
       "      <td>0.049596</td>\n",
       "      <td>0.101960</td>\n",
       "      <td>-0.013650</td>\n",
       "      <td>-0.000318</td>\n",
       "      <td>0.098677</td>\n",
       "      <td>0.113529</td>\n",
       "      <td>1.000000</td>\n",
       "      <td>-0.041200</td>\n",
       "    </tr>\n",
       "    <tr>\n",
       "      <th>Salary</th>\n",
       "      <td>0.091374</td>\n",
       "      <td>0.074083</td>\n",
       "      <td>0.071544</td>\n",
       "      <td>0.019501</td>\n",
       "      <td>0.105553</td>\n",
       "      <td>0.133933</td>\n",
       "      <td>0.138291</td>\n",
       "      <td>0.055232</td>\n",
       "      <td>-0.041200</td>\n",
       "      <td>1.000000</td>\n",
       "    </tr>\n",
       "  </tbody>\n",
       "</table>\n",
       "</div>"
      ],
      "text/plain": [
       "                         SlNo  Percent_SSC  Percent_HSC  Percent_Degree  \\\n",
       "SlNo                 1.000000    -0.010839    -0.033880        0.085249   \n",
       "Percent_SSC         -0.010839     1.000000     0.222149        0.193228   \n",
       "Percent_HSC         -0.033880     0.222149     1.000000        0.234872   \n",
       "Percent_Degree       0.085249     0.193228     0.234872        1.000000   \n",
       "Experience_Yrs       0.105141    -0.005740    -0.060761       -0.007380   \n",
       "Percentile_ET        0.174163     0.147218     0.116349        0.130287   \n",
       "Percent_MBA          0.136243     0.195927     0.175618        0.210295   \n",
       "Marks_Communication  0.157284     0.247278     0.129577        0.151536   \n",
       "Marks_Projectwork   -0.216046     0.046471     0.049596        0.101960   \n",
       "Salary               0.091374     0.074083     0.071544        0.019501   \n",
       "\n",
       "                     Experience_Yrs  Percentile_ET  Percent_MBA  \\\n",
       "SlNo                       0.105141       0.174163     0.136243   \n",
       "Percent_SSC               -0.005740       0.147218     0.195927   \n",
       "Percent_HSC               -0.060761       0.116349     0.175618   \n",
       "Percent_Degree            -0.007380       0.130287     0.210295   \n",
       "Experience_Yrs             1.000000      -0.003438     0.140915   \n",
       "Percentile_ET             -0.003438       1.000000     0.159550   \n",
       "Percent_MBA                0.140915       0.159550     1.000000   \n",
       "Marks_Communication        0.020736       0.117954     0.249591   \n",
       "Marks_Projectwork         -0.013650      -0.000318     0.098677   \n",
       "Salary                     0.105553       0.133933     0.138291   \n",
       "\n",
       "                     Marks_Communication  Marks_Projectwork    Salary  \n",
       "SlNo                            0.157284          -0.216046  0.091374  \n",
       "Percent_SSC                     0.247278           0.046471  0.074083  \n",
       "Percent_HSC                     0.129577           0.049596  0.071544  \n",
       "Percent_Degree                  0.151536           0.101960  0.019501  \n",
       "Experience_Yrs                  0.020736          -0.013650  0.105553  \n",
       "Percentile_ET                   0.117954          -0.000318  0.133933  \n",
       "Percent_MBA                     0.249591           0.098677  0.138291  \n",
       "Marks_Communication             1.000000           0.113529  0.055232  \n",
       "Marks_Projectwork               0.113529           1.000000 -0.041200  \n",
       "Salary                          0.055232          -0.041200  1.000000  "
      ]
     },
     "execution_count": 17,
     "metadata": {},
     "output_type": "execute_result"
    }
   ],
   "source": [
    "data.corr()"
   ]
  },
  {
   "cell_type": "code",
   "execution_count": 18,
   "metadata": {
    "scrolled": true
   },
   "outputs": [
    {
     "data": {
      "image/png": "[encoded data removed]",
      "text/plain": [
       "<Figure size 864x720 with 2 Axes>"
      ]
     },
     "metadata": {
      "needs_background": "light"
     },
     "output_type": "display_data"
    }
   ],
   "source": [
    "#3A\n",
    "plt.figure(figsize=(12,10))\n",
    "sns.heatmap(data.corr(), annot=True)\n",
    "plt.show()"
   ]
  },
  {
   "cell_type": "markdown",
   "metadata": {},
   "source": [
    "# HERE OUR TARGET VARIABLE IS SALARY,AS WE CAN SEE FROM CORRELATION MAP THAT SALARY HAS WEAK POSITIVE CORRELATION WITH EXPERIENCEYRS,PERCENTILEET_PERCENT ,MBA ARE HAVING VERY WEAK RELATIONSHIP WITH TARGET VARIABLES\n",
    " \n",
    " # We can drop the SNo. columns because all the values are unique in it and it won't add any value to our target whereas it isn't wise to drop any column based on correlation because we cant extract some useful information from it"
   ]
  },
  {
   "cell_type": "code",
   "execution_count": 19,
   "metadata": {},
   "outputs": [
    {
     "data": {
      "text/plain": [
       "Salary    1.0\n",
       "Name: Salary, dtype: float64"
      ]
     },
     "execution_count": 19,
     "metadata": {},
     "output_type": "execute_result"
    }
   ],
   "source": [
    "#3\n",
    "#Correlation with output variable\n",
    "cor=data.corr()\n",
    "cor_target = abs(cor[\"Salary\"])\n",
    "#Selecting highly correlated features\n",
    "relevant_features = cor_target[cor_target>0.5]\n",
    "relevant_features"
   ]
  },
  {
   "cell_type": "markdown",
   "metadata": {},
   "source": [
    "5. Split dataset into train and test (70:30) "
   ]
  },
  {
   "cell_type": "code",
   "execution_count": 20,
   "metadata": {},
   "outputs": [],
   "source": [
    "x=data.drop(columns=\"Salary\",axis=1)\n",
    "y=data.Salary"
   ]
  },
  {
   "cell_type": "code",
   "execution_count": 34,
   "metadata": {},
   "outputs": [
    {
     "data": {
      "text/html": [
       "<div>\n",
       "<style scoped>\n",
       "    .dataframe tbody tr th:only-of-type {\n",
       "        vertical-align: middle;\n",
       "    }\n",
       "\n",
       "    .dataframe tbody tr th {\n",
       "        vertical-align: top;\n",
       "    }\n",
       "\n",
       "    .dataframe thead th {\n",
       "        text-align: right;\n",
       "    }\n",
       "</style>\n",
       "<table border=\"1\" class=\"dataframe\">\n",
       "  <thead>\n",
       "    <tr style=\"text-align: right;\">\n",
       "      <th></th>\n",
       "      <th>SlNo</th>\n",
       "      <th>Percent_SSC</th>\n",
       "      <th>Percent_HSC</th>\n",
       "      <th>Percent_Degree</th>\n",
       "      <th>Experience_Yrs</th>\n",
       "      <th>Percentile_ET</th>\n",
       "      <th>Percent_MBA</th>\n",
       "      <th>Marks_Communication</th>\n",
       "      <th>Marks_Projectwork</th>\n",
       "      <th>Gender_F</th>\n",
       "      <th>...</th>\n",
       "      <th>Entrance_Test_K-MAT</th>\n",
       "      <th>Entrance_Test_MAT</th>\n",
       "      <th>Entrance_Test_PGCET</th>\n",
       "      <th>Entrance_Test_XAT</th>\n",
       "      <th>Specialization_MBA_Marketing &amp; Finance</th>\n",
       "      <th>Specialization_MBA_Marketing &amp; HR</th>\n",
       "      <th>Specialization_MBA_Marketing &amp; IB</th>\n",
       "      <th>Specialization_MBA_Operations &amp; Management</th>\n",
       "      <th>Placement_Not Placed</th>\n",
       "      <th>Placement_Placed</th>\n",
       "    </tr>\n",
       "  </thead>\n",
       "  <tbody>\n",
       "    <tr>\n",
       "      <th>0</th>\n",
       "      <td>1</td>\n",
       "      <td>62.00</td>\n",
       "      <td>88.00</td>\n",
       "      <td>52.00</td>\n",
       "      <td>0</td>\n",
       "      <td>55.0</td>\n",
       "      <td>58.80</td>\n",
       "      <td>50.00</td>\n",
       "      <td>65.0</td>\n",
       "      <td>0</td>\n",
       "      <td>...</td>\n",
       "      <td>0</td>\n",
       "      <td>1</td>\n",
       "      <td>0</td>\n",
       "      <td>0</td>\n",
       "      <td>0</td>\n",
       "      <td>1</td>\n",
       "      <td>0</td>\n",
       "      <td>0</td>\n",
       "      <td>0</td>\n",
       "      <td>1</td>\n",
       "    </tr>\n",
       "    <tr>\n",
       "      <th>1</th>\n",
       "      <td>2</td>\n",
       "      <td>76.33</td>\n",
       "      <td>75.33</td>\n",
       "      <td>75.48</td>\n",
       "      <td>1</td>\n",
       "      <td>86.5</td>\n",
       "      <td>66.28</td>\n",
       "      <td>69.00</td>\n",
       "      <td>70.0</td>\n",
       "      <td>0</td>\n",
       "      <td>...</td>\n",
       "      <td>0</td>\n",
       "      <td>1</td>\n",
       "      <td>0</td>\n",
       "      <td>0</td>\n",
       "      <td>1</td>\n",
       "      <td>0</td>\n",
       "      <td>0</td>\n",
       "      <td>0</td>\n",
       "      <td>0</td>\n",
       "      <td>1</td>\n",
       "    </tr>\n",
       "    <tr>\n",
       "      <th>2</th>\n",
       "      <td>3</td>\n",
       "      <td>72.00</td>\n",
       "      <td>78.00</td>\n",
       "      <td>66.63</td>\n",
       "      <td>0</td>\n",
       "      <td>0.0</td>\n",
       "      <td>52.91</td>\n",
       "      <td>50.00</td>\n",
       "      <td>61.0</td>\n",
       "      <td>0</td>\n",
       "      <td>...</td>\n",
       "      <td>0</td>\n",
       "      <td>0</td>\n",
       "      <td>0</td>\n",
       "      <td>0</td>\n",
       "      <td>1</td>\n",
       "      <td>0</td>\n",
       "      <td>0</td>\n",
       "      <td>0</td>\n",
       "      <td>0</td>\n",
       "      <td>1</td>\n",
       "    </tr>\n",
       "    <tr>\n",
       "      <th>3</th>\n",
       "      <td>4</td>\n",
       "      <td>60.00</td>\n",
       "      <td>63.00</td>\n",
       "      <td>58.00</td>\n",
       "      <td>0</td>\n",
       "      <td>75.0</td>\n",
       "      <td>57.80</td>\n",
       "      <td>54.00</td>\n",
       "      <td>66.0</td>\n",
       "      <td>0</td>\n",
       "      <td>...</td>\n",
       "      <td>0</td>\n",
       "      <td>1</td>\n",
       "      <td>0</td>\n",
       "      <td>0</td>\n",
       "      <td>1</td>\n",
       "      <td>0</td>\n",
       "      <td>0</td>\n",
       "      <td>0</td>\n",
       "      <td>0</td>\n",
       "      <td>1</td>\n",
       "    </tr>\n",
       "    <tr>\n",
       "      <th>4</th>\n",
       "      <td>5</td>\n",
       "      <td>61.00</td>\n",
       "      <td>55.00</td>\n",
       "      <td>54.00</td>\n",
       "      <td>1</td>\n",
       "      <td>66.0</td>\n",
       "      <td>59.43</td>\n",
       "      <td>52.00</td>\n",
       "      <td>65.0</td>\n",
       "      <td>0</td>\n",
       "      <td>...</td>\n",
       "      <td>0</td>\n",
       "      <td>1</td>\n",
       "      <td>0</td>\n",
       "      <td>0</td>\n",
       "      <td>0</td>\n",
       "      <td>1</td>\n",
       "      <td>0</td>\n",
       "      <td>0</td>\n",
       "      <td>0</td>\n",
       "      <td>1</td>\n",
       "    </tr>\n",
       "    <tr>\n",
       "      <th>...</th>\n",
       "      <td>...</td>\n",
       "      <td>...</td>\n",
       "      <td>...</td>\n",
       "      <td>...</td>\n",
       "      <td>...</td>\n",
       "      <td>...</td>\n",
       "      <td>...</td>\n",
       "      <td>...</td>\n",
       "      <td>...</td>\n",
       "      <td>...</td>\n",
       "      <td>...</td>\n",
       "      <td>...</td>\n",
       "      <td>...</td>\n",
       "      <td>...</td>\n",
       "      <td>...</td>\n",
       "      <td>...</td>\n",
       "      <td>...</td>\n",
       "      <td>...</td>\n",
       "      <td>...</td>\n",
       "      <td>...</td>\n",
       "      <td>...</td>\n",
       "    </tr>\n",
       "    <tr>\n",
       "      <th>633</th>\n",
       "      <td>634</td>\n",
       "      <td>82.00</td>\n",
       "      <td>71.00</td>\n",
       "      <td>77.00</td>\n",
       "      <td>0</td>\n",
       "      <td>46.0</td>\n",
       "      <td>58.56</td>\n",
       "      <td>66.00</td>\n",
       "      <td>79.0</td>\n",
       "      <td>0</td>\n",
       "      <td>...</td>\n",
       "      <td>0</td>\n",
       "      <td>0</td>\n",
       "      <td>0</td>\n",
       "      <td>0</td>\n",
       "      <td>0</td>\n",
       "      <td>0</td>\n",
       "      <td>0</td>\n",
       "      <td>0</td>\n",
       "      <td>0</td>\n",
       "      <td>1</td>\n",
       "    </tr>\n",
       "    <tr>\n",
       "      <th>634</th>\n",
       "      <td>635</td>\n",
       "      <td>72.00</td>\n",
       "      <td>59.00</td>\n",
       "      <td>76.00</td>\n",
       "      <td>1</td>\n",
       "      <td>48.0</td>\n",
       "      <td>66.63</td>\n",
       "      <td>59.20</td>\n",
       "      <td>87.0</td>\n",
       "      <td>0</td>\n",
       "      <td>...</td>\n",
       "      <td>0</td>\n",
       "      <td>0</td>\n",
       "      <td>0</td>\n",
       "      <td>0</td>\n",
       "      <td>0</td>\n",
       "      <td>0</td>\n",
       "      <td>0</td>\n",
       "      <td>0</td>\n",
       "      <td>0</td>\n",
       "      <td>1</td>\n",
       "    </tr>\n",
       "    <tr>\n",
       "      <th>635</th>\n",
       "      <td>636</td>\n",
       "      <td>44.00</td>\n",
       "      <td>60.00</td>\n",
       "      <td>79.00</td>\n",
       "      <td>0</td>\n",
       "      <td>47.5</td>\n",
       "      <td>56.30</td>\n",
       "      <td>65.00</td>\n",
       "      <td>88.0</td>\n",
       "      <td>0</td>\n",
       "      <td>...</td>\n",
       "      <td>0</td>\n",
       "      <td>0</td>\n",
       "      <td>0</td>\n",
       "      <td>0</td>\n",
       "      <td>0</td>\n",
       "      <td>0</td>\n",
       "      <td>0</td>\n",
       "      <td>0</td>\n",
       "      <td>1</td>\n",
       "      <td>0</td>\n",
       "    </tr>\n",
       "    <tr>\n",
       "      <th>636</th>\n",
       "      <td>637</td>\n",
       "      <td>80.33</td>\n",
       "      <td>56.00</td>\n",
       "      <td>74.00</td>\n",
       "      <td>1</td>\n",
       "      <td>44.5</td>\n",
       "      <td>55.00</td>\n",
       "      <td>84.00</td>\n",
       "      <td>88.0</td>\n",
       "      <td>0</td>\n",
       "      <td>...</td>\n",
       "      <td>0</td>\n",
       "      <td>0</td>\n",
       "      <td>0</td>\n",
       "      <td>0</td>\n",
       "      <td>0</td>\n",
       "      <td>0</td>\n",
       "      <td>0</td>\n",
       "      <td>0</td>\n",
       "      <td>1</td>\n",
       "      <td>0</td>\n",
       "    </tr>\n",
       "    <tr>\n",
       "      <th>637</th>\n",
       "      <td>638</td>\n",
       "      <td>49.30</td>\n",
       "      <td>86.70</td>\n",
       "      <td>75.00</td>\n",
       "      <td>1</td>\n",
       "      <td>88.0</td>\n",
       "      <td>44.45</td>\n",
       "      <td>47.68</td>\n",
       "      <td>55.0</td>\n",
       "      <td>0</td>\n",
       "      <td>...</td>\n",
       "      <td>0</td>\n",
       "      <td>0</td>\n",
       "      <td>0</td>\n",
       "      <td>0</td>\n",
       "      <td>0</td>\n",
       "      <td>0</td>\n",
       "      <td>0</td>\n",
       "      <td>0</td>\n",
       "      <td>0</td>\n",
       "      <td>1</td>\n",
       "    </tr>\n",
       "  </tbody>\n",
       "</table>\n",
       "<p>638 rows × 41 columns</p>\n",
       "</div>"
      ],
      "text/plain": [
       "     SlNo  Percent_SSC  Percent_HSC  Percent_Degree  Experience_Yrs  \\\n",
       "0       1        62.00        88.00           52.00               0   \n",
       "1       2        76.33        75.33           75.48               1   \n",
       "2       3        72.00        78.00           66.63               0   \n",
       "3       4        60.00        63.00           58.00               0   \n",
       "4       5        61.00        55.00           54.00               1   \n",
       "..    ...          ...          ...             ...             ...   \n",
       "633   634        82.00        71.00           77.00               0   \n",
       "634   635        72.00        59.00           76.00               1   \n",
       "635   636        44.00        60.00           79.00               0   \n",
       "636   637        80.33        56.00           74.00               1   \n",
       "637   638        49.30        86.70           75.00               1   \n",
       "\n",
       "     Percentile_ET  Percent_MBA  Marks_Communication  Marks_Projectwork  \\\n",
       "0             55.0        58.80                50.00               65.0   \n",
       "1             86.5        66.28                69.00               70.0   \n",
       "2              0.0        52.91                50.00               61.0   \n",
       "3             75.0        57.80                54.00               66.0   \n",
       "4             66.0        59.43                52.00               65.0   \n",
       "..             ...          ...                  ...                ...   \n",
       "633           46.0        58.56                66.00               79.0   \n",
       "634           48.0        66.63                59.20               87.0   \n",
       "635           47.5        56.30                65.00               88.0   \n",
       "636           44.5        55.00                84.00               88.0   \n",
       "637           88.0        44.45                47.68               55.0   \n",
       "\n",
       "     Gender_F  ...  Entrance_Test_K-MAT  Entrance_Test_MAT  \\\n",
       "0           0  ...                    0                  1   \n",
       "1           0  ...                    0                  1   \n",
       "2           0  ...                    0                  0   \n",
       "3           0  ...                    0                  1   \n",
       "4           0  ...                    0                  1   \n",
       "..        ...  ...                  ...                ...   \n",
       "633         0  ...                    0                  0   \n",
       "634         0  ...                    0                  0   \n",
       "635         0  ...                    0                  0   \n",
       "636         0  ...                    0                  0   \n",
       "637         0  ...                    0                  0   \n",
       "\n",
       "     Entrance_Test_PGCET  Entrance_Test_XAT  \\\n",
       "0                      0                  0   \n",
       "1                      0                  0   \n",
       "2                      0                  0   \n",
       "3                      0                  0   \n",
       "4                      0                  0   \n",
       "..                   ...                ...   \n",
       "633                    0                  0   \n",
       "634                    0                  0   \n",
       "635                    0                  0   \n",
       "636                    0                  0   \n",
       "637                    0                  0   \n",
       "\n",
       "     Specialization_MBA_Marketing & Finance  \\\n",
       "0                                         0   \n",
       "1                                         1   \n",
       "2                                         1   \n",
       "3                                         1   \n",
       "4                                         0   \n",
       "..                                      ...   \n",
       "633                                       0   \n",
       "634                                       0   \n",
       "635                                       0   \n",
       "636                                       0   \n",
       "637                                       0   \n",
       "\n",
       "     Specialization_MBA_Marketing & HR  Specialization_MBA_Marketing & IB  \\\n",
       "0                                    1                                  0   \n",
       "1                                    0                                  0   \n",
       "2                                    0                                  0   \n",
       "3                                    0                                  0   \n",
       "4                                    1                                  0   \n",
       "..                                 ...                                ...   \n",
       "633                                  0                                  0   \n",
       "634                                  0                                  0   \n",
       "635                                  0                                  0   \n",
       "636                                  0                                  0   \n",
       "637                                  0                                  0   \n",
       "\n",
       "     Specialization_MBA_Operations & Management  Placement_Not Placed  \\\n",
       "0                                             0                     0   \n",
       "1                                             0                     0   \n",
       "2                                             0                     0   \n",
       "3                                             0                     0   \n",
       "4                                             0                     0   \n",
       "..                                          ...                   ...   \n",
       "633                                           0                     0   \n",
       "634                                           0                     0   \n",
       "635                                           0                     1   \n",
       "636                                           0                     1   \n",
       "637                                           0                     0   \n",
       "\n",
       "     Placement_Placed  \n",
       "0                   1  \n",
       "1                   1  \n",
       "2                   1  \n",
       "3                   1  \n",
       "4                   1  \n",
       "..                ...  \n",
       "633                 1  \n",
       "634                 1  \n",
       "635                 0  \n",
       "636                 0  \n",
       "637                 1  \n",
       "\n",
       "[638 rows x 41 columns]"
      ]
     },
     "execution_count": 34,
     "metadata": {},
     "output_type": "execute_result"
    }
   ],
   "source": [
    "x=pd.get_dummies(x) # converts the category column into 0,1,2\n",
    "x"
   ]
  },
  {
   "cell_type": "code",
   "execution_count": 22,
   "metadata": {},
   "outputs": [
    {
     "name": "stdout",
     "output_type": "stream",
     "text": [
      "(446, 41)\n",
      "(192, 41)\n",
      "(192,)\n"
     ]
    }
   ],
   "source": [
    "from sklearn.model_selection import train_test_split\n",
    "x_train, x_test , y_train, y_test = train_test_split(x,y, test_size = 0.30, random_state = 1)\n",
    "print(x_train.shape)\n",
    "print(x_test.shape)\n",
    "print(y_test.shape)"
   ]
  },
  {
   "cell_type": "code",
   "execution_count": 23,
   "metadata": {},
   "outputs": [
    {
     "data": {
      "text/plain": [
       "count       446.000000\n",
       "mean     239177.130045\n",
       "std      150143.369736\n",
       "min           0.000000\n",
       "25%      162000.000000\n",
       "50%      250000.000000\n",
       "75%      320000.000000\n",
       "max      940000.000000\n",
       "Name: Salary, dtype: float64"
      ]
     },
     "execution_count": 23,
     "metadata": {},
     "output_type": "execute_result"
    }
   ],
   "source": [
    "y_train.describe()"
   ]
  },
  {
   "cell_type": "code",
   "execution_count": 24,
   "metadata": {},
   "outputs": [
    {
     "data": {
      "text/plain": [
       "count       192.000000\n",
       "mean     233742.708333\n",
       "std      133165.708874\n",
       "min           0.000000\n",
       "25%      162000.000000\n",
       "50%      240000.000000\n",
       "75%      300000.000000\n",
       "max      690000.000000\n",
       "Name: Salary, dtype: float64"
      ]
     },
     "execution_count": 24,
     "metadata": {},
     "output_type": "execute_result"
    }
   ],
   "source": [
    "y_test.describe()"
   ]
  },
  {
   "cell_type": "code",
   "execution_count": 25,
   "metadata": {},
   "outputs": [],
   "source": [
    "# from the above summary we can see that the Q1 , Q2 and q3 is same and mean and std is vary close to each other\n",
    "#  on the above shown data we can say that the train and test is representative of the overall data"
   ]
  },
  {
   "cell_type": "markdown",
   "metadata": {},
   "source": [
    "# 6. Fit a base model."
   ]
  },
  {
   "cell_type": "code",
   "execution_count": 26,
   "metadata": {},
   "outputs": [],
   "source": [
    "## base linear regression model\n",
    "from sklearn.linear_model import LinearRegression  # 2kinds of regression are there 1)liner 2)logical\n",
    "from sklearn.feature_selection import RFE\n",
    "from scipy.stats import shapiro\n",
    "from sklearn.metrics import r2_score\n",
    "lr=LinearRegression()\n"
   ]
  },
  {
   "cell_type": "code",
   "execution_count": 27,
   "metadata": {},
   "outputs": [],
   "source": [
    "model=lr.fit(x_train,y_train)"
   ]
  },
  {
   "cell_type": "code",
   "execution_count": 28,
   "metadata": {},
   "outputs": [
    {
     "data": {
      "text/plain": [
       "0.6648990747956358"
      ]
     },
     "execution_count": 28,
     "metadata": {},
     "output_type": "execute_result"
    }
   ],
   "source": [
    "model.score(x_train,y_train) # training score"
   ]
  },
  {
   "cell_type": "code",
   "execution_count": 29,
   "metadata": {},
   "outputs": [],
   "source": [
    "pred=model.predict(x_test)"
   ]
  },
  {
   "cell_type": "code",
   "execution_count": 30,
   "metadata": {},
   "outputs": [
    {
     "data": {
      "text/plain": [
       "0.578749254456512"
      ]
     },
     "execution_count": 30,
     "metadata": {},
     "output_type": "execute_result"
    }
   ],
   "source": [
    "r2_score(y_test,pred) # 0 and 1"
   ]
  },
  {
   "cell_type": "code",
   "execution_count": 31,
   "metadata": {},
   "outputs": [],
   "source": [
    "newconstant=x_train.copy()"
   ]
  },
  {
   "cell_type": "code",
   "execution_count": 32,
   "metadata": {},
   "outputs": [],
   "source": [
    "newconstant['constant']=1"
   ]
  },
  {
   "cell_type": "code",
   "execution_count": 33,
   "metadata": {},
   "outputs": [
    {
     "data": {
      "text/plain": [
       "SlNo                                           True\n",
       "Percent_SSC                                    True\n",
       "Percent_HSC                                    True\n",
       "Percent_Degree                                 True\n",
       "Experience_Yrs                                False\n",
       "Percentile_ET                                  True\n",
       "Percent_MBA                                    True\n",
       "Marks_Communication                            True\n",
       "Marks_Projectwork                              True\n",
       "Gender_F                                       True\n",
       "Gender_M                                       True\n",
       "Board_SSC_CBSE                                 True\n",
       "Board_SSC_ICSE                                 True\n",
       "Board_SSC_Others                               True\n",
       "Board_HSC_CBSE                                 True\n",
       "Board_HSC_ISC                                  True\n",
       "Board_HSC_Others                               True\n",
       "Stream_HSC_Arts                                True\n",
       "Stream_HSC_Commerce                            True\n",
       "Stream_HSC_Science                             True\n",
       "Course_Degree_Arts                             True\n",
       "Course_Degree_Commerce                         True\n",
       "Course_Degree_Computer Applications            True\n",
       "Course_Degree_Engineering                     False\n",
       "Course_Degree_Management                       True\n",
       "Course_Degree_Others                           True\n",
       "Course_Degree_Science                          True\n",
       "Entrance_Test_CAT                              True\n",
       "Entrance_Test_G-MAT                            True\n",
       "Entrance_Test_G-SAT                            True\n",
       "Entrance_Test_GCET                             True\n",
       "Entrance_Test_K-MAT                            True\n",
       "Entrance_Test_MAT                              True\n",
       "Entrance_Test_PGCET                            True\n",
       "Entrance_Test_XAT                              True\n",
       "Specialization_MBA_Marketing & Finance        False\n",
       "Specialization_MBA_Marketing & HR             False\n",
       "Specialization_MBA_Marketing & IB             False\n",
       "Specialization_MBA_Operations & Management     True\n",
       "Placement_Not Placed                          False\n",
       "Placement_Placed                              False\n",
       "constant                                       True\n",
       "dtype: bool"
      ]
     },
     "execution_count": 33,
     "metadata": {},
     "output_type": "execute_result"
    }
   ],
   "source": [
    "from statsmodels.api import OLS\n",
    "m=OLS(y_train,newconstant).fit()\n",
    "m.pvalues>0.05"
   ]
  },
  {
   "cell_type": "code",
   "execution_count": 144,
   "metadata": {},
   "outputs": [
    {
     "data": {
      "text/html": [
       "<table class=\"simpletable\">\n",
       "<caption>OLS Regression Results</caption>\n",
       "<tr>\n",
       "  <th>Dep. Variable:</th>         <td>Salary</td>      <th>  R-squared:         </th> <td>   0.665</td> \n",
       "</tr>\n",
       "<tr>\n",
       "  <th>Model:</th>                   <td>OLS</td>       <th>  Adj. R-squared:    </th> <td>   0.637</td> \n",
       "</tr>\n",
       "<tr>\n",
       "  <th>Method:</th>             <td>Least Squares</td>  <th>  F-statistic:       </th> <td>   23.99</td> \n",
       "</tr>\n",
       "<tr>\n",
       "  <th>Date:</th>             <td>Mon, 13 Jan 2020</td> <th>  Prob (F-statistic):</th> <td>3.71e-77</td> \n",
       "</tr>\n",
       "<tr>\n",
       "  <th>Time:</th>                 <td>12:35:21</td>     <th>  Log-Likelihood:    </th> <td> -5704.6</td> \n",
       "</tr>\n",
       "<tr>\n",
       "  <th>No. Observations:</th>      <td>   446</td>      <th>  AIC:               </th> <td>1.148e+04</td>\n",
       "</tr>\n",
       "<tr>\n",
       "  <th>Df Residuals:</th>          <td>   411</td>      <th>  BIC:               </th> <td>1.162e+04</td>\n",
       "</tr>\n",
       "<tr>\n",
       "  <th>Df Model:</th>              <td>    34</td>      <th>                     </th>     <td> </td>    \n",
       "</tr>\n",
       "<tr>\n",
       "  <th>Covariance Type:</th>      <td>nonrobust</td>    <th>                     </th>     <td> </td>    \n",
       "</tr>\n",
       "</table>\n",
       "<table class=\"simpletable\">\n",
       "<tr>\n",
       "                       <td></td>                         <th>coef</th>     <th>std err</th>      <th>t</th>      <th>P>|t|</th>  <th>[0.025</th>    <th>0.975]</th>  \n",
       "</tr>\n",
       "<tr>\n",
       "  <th>SlNo</th>                                       <td>   47.0452</td> <td>   37.282</td> <td>    1.262</td> <td> 0.208</td> <td>  -26.242</td> <td>  120.332</td>\n",
       "</tr>\n",
       "<tr>\n",
       "  <th>Percent_SSC</th>                                <td> -582.9823</td> <td>  443.900</td> <td>   -1.313</td> <td> 0.190</td> <td>-1455.581</td> <td>  289.616</td>\n",
       "</tr>\n",
       "<tr>\n",
       "  <th>Percent_HSC</th>                                <td>  160.0341</td> <td>  430.654</td> <td>    0.372</td> <td> 0.710</td> <td> -686.525</td> <td> 1006.593</td>\n",
       "</tr>\n",
       "<tr>\n",
       "  <th>Percent_Degree</th>                             <td> -363.0578</td> <td>  464.382</td> <td>   -0.782</td> <td> 0.435</td> <td>-1275.918</td> <td>  549.802</td>\n",
       "</tr>\n",
       "<tr>\n",
       "  <th>Experience_Yrs</th>                             <td> 2.041e+04</td> <td> 6420.956</td> <td>    3.179</td> <td> 0.002</td> <td> 7787.319</td> <td>  3.3e+04</td>\n",
       "</tr>\n",
       "<tr>\n",
       "  <th>Percentile_ET</th>                              <td>  488.2805</td> <td>  272.071</td> <td>    1.795</td> <td> 0.073</td> <td>  -46.544</td> <td> 1023.105</td>\n",
       "</tr>\n",
       "<tr>\n",
       "  <th>Percent_MBA</th>                                <td>  746.8943</td> <td>  574.445</td> <td>    1.300</td> <td> 0.194</td> <td> -382.322</td> <td> 1876.111</td>\n",
       "</tr>\n",
       "<tr>\n",
       "  <th>Marks_Communication</th>                        <td>  446.0681</td> <td>  407.642</td> <td>    1.094</td> <td> 0.274</td> <td> -355.255</td> <td> 1247.391</td>\n",
       "</tr>\n",
       "<tr>\n",
       "  <th>Marks_Projectwork</th>                          <td> -615.9688</td> <td>  475.944</td> <td>   -1.294</td> <td> 0.196</td> <td>-1551.557</td> <td>  319.620</td>\n",
       "</tr>\n",
       "<tr>\n",
       "  <th>Gender_F</th>                                   <td> 6407.3903</td> <td>  1.3e+04</td> <td>    0.494</td> <td> 0.622</td> <td>-1.91e+04</td> <td> 3.19e+04</td>\n",
       "</tr>\n",
       "<tr>\n",
       "  <th>Gender_M</th>                                   <td> 2675.3213</td> <td> 1.05e+04</td> <td>    0.254</td> <td> 0.800</td> <td> -1.8e+04</td> <td> 2.34e+04</td>\n",
       "</tr>\n",
       "<tr>\n",
       "  <th>Board_SSC_CBSE</th>                             <td> 9843.8574</td> <td> 1.19e+04</td> <td>    0.830</td> <td> 0.407</td> <td>-1.35e+04</td> <td> 3.32e+04</td>\n",
       "</tr>\n",
       "<tr>\n",
       "  <th>Board_SSC_ICSE</th>                             <td>-8274.5009</td> <td> 1.24e+04</td> <td>   -0.667</td> <td> 0.505</td> <td>-3.26e+04</td> <td> 1.61e+04</td>\n",
       "</tr>\n",
       "<tr>\n",
       "  <th>Board_SSC_Others</th>                           <td> 7513.3551</td> <td> 1.05e+04</td> <td>    0.714</td> <td> 0.475</td> <td>-1.32e+04</td> <td> 2.82e+04</td>\n",
       "</tr>\n",
       "<tr>\n",
       "  <th>Board_HSC_CBSE</th>                             <td>-1443.9100</td> <td>  1.2e+04</td> <td>   -0.120</td> <td> 0.904</td> <td>-2.51e+04</td> <td> 2.22e+04</td>\n",
       "</tr>\n",
       "<tr>\n",
       "  <th>Board_HSC_ISC</th>                              <td> 1.972e+04</td> <td> 1.27e+04</td> <td>    1.549</td> <td> 0.122</td> <td>-5305.057</td> <td> 4.47e+04</td>\n",
       "</tr>\n",
       "<tr>\n",
       "  <th>Board_HSC_Others</th>                           <td>-9194.9854</td> <td> 1.04e+04</td> <td>   -0.886</td> <td> 0.376</td> <td>-2.96e+04</td> <td> 1.12e+04</td>\n",
       "</tr>\n",
       "<tr>\n",
       "  <th>Stream_HSC_Arts</th>                            <td>-1.758e+04</td> <td> 1.46e+04</td> <td>   -1.207</td> <td> 0.228</td> <td>-4.62e+04</td> <td> 1.11e+04</td>\n",
       "</tr>\n",
       "<tr>\n",
       "  <th>Stream_HSC_Commerce</th>                        <td> 2.352e+04</td> <td> 1.21e+04</td> <td>    1.938</td> <td> 0.053</td> <td> -339.182</td> <td> 4.74e+04</td>\n",
       "</tr>\n",
       "<tr>\n",
       "  <th>Stream_HSC_Science</th>                         <td> 3142.7500</td> <td> 1.19e+04</td> <td>    0.263</td> <td> 0.792</td> <td>-2.03e+04</td> <td> 2.66e+04</td>\n",
       "</tr>\n",
       "<tr>\n",
       "  <th>Course_Degree_Arts</th>                         <td> 2090.0088</td> <td>  2.7e+04</td> <td>    0.077</td> <td> 0.938</td> <td>-5.11e+04</td> <td> 5.53e+04</td>\n",
       "</tr>\n",
       "<tr>\n",
       "  <th>Course_Degree_Commerce</th>                     <td>-5893.5647</td> <td> 1.58e+04</td> <td>   -0.374</td> <td> 0.709</td> <td>-3.69e+04</td> <td> 2.51e+04</td>\n",
       "</tr>\n",
       "<tr>\n",
       "  <th>Course_Degree_Computer Applications</th>        <td>  -27.1086</td> <td> 1.85e+04</td> <td>   -0.001</td> <td> 0.999</td> <td>-3.63e+04</td> <td> 3.63e+04</td>\n",
       "</tr>\n",
       "<tr>\n",
       "  <th>Course_Degree_Engineering</th>                  <td> 3.932e+04</td> <td> 1.44e+04</td> <td>    2.730</td> <td> 0.007</td> <td>  1.1e+04</td> <td> 6.76e+04</td>\n",
       "</tr>\n",
       "<tr>\n",
       "  <th>Course_Degree_Management</th>                   <td>-2.002e+04</td> <td> 1.29e+04</td> <td>   -1.552</td> <td> 0.122</td> <td>-4.54e+04</td> <td> 5343.699</td>\n",
       "</tr>\n",
       "<tr>\n",
       "  <th>Course_Degree_Others</th>                       <td>-1.521e+04</td> <td> 4.69e+04</td> <td>   -0.324</td> <td> 0.746</td> <td>-1.07e+05</td> <td>  7.7e+04</td>\n",
       "</tr>\n",
       "<tr>\n",
       "  <th>Course_Degree_Science</th>                      <td> 8812.2393</td> <td> 1.68e+04</td> <td>    0.524</td> <td> 0.601</td> <td>-2.43e+04</td> <td> 4.19e+04</td>\n",
       "</tr>\n",
       "<tr>\n",
       "  <th>Entrance_Test_CAT</th>                          <td> 3.609e+04</td> <td> 2.63e+04</td> <td>    1.370</td> <td> 0.172</td> <td>-1.57e+04</td> <td> 8.79e+04</td>\n",
       "</tr>\n",
       "<tr>\n",
       "  <th>Entrance_Test_G-MAT</th>                        <td> 3.592e+04</td> <td> 9.23e+04</td> <td>    0.389</td> <td> 0.697</td> <td>-1.45e+05</td> <td> 2.17e+05</td>\n",
       "</tr>\n",
       "<tr>\n",
       "  <th>Entrance_Test_G-SAT</th>                        <td>-4.286e+04</td> <td> 9.42e+04</td> <td>   -0.455</td> <td> 0.649</td> <td>-2.28e+05</td> <td> 1.42e+05</td>\n",
       "</tr>\n",
       "<tr>\n",
       "  <th>Entrance_Test_GCET</th>                         <td>-3.968e+04</td> <td> 6.89e+04</td> <td>   -0.576</td> <td> 0.565</td> <td>-1.75e+05</td> <td> 9.57e+04</td>\n",
       "</tr>\n",
       "<tr>\n",
       "  <th>Entrance_Test_K-MAT</th>                        <td> 2.628e+04</td> <td> 2.83e+04</td> <td>    0.928</td> <td> 0.354</td> <td>-2.94e+04</td> <td> 8.19e+04</td>\n",
       "</tr>\n",
       "<tr>\n",
       "  <th>Entrance_Test_MAT</th>                          <td>-2.154e+04</td> <td> 2.09e+04</td> <td>   -1.030</td> <td> 0.304</td> <td>-6.27e+04</td> <td> 1.96e+04</td>\n",
       "</tr>\n",
       "<tr>\n",
       "  <th>Entrance_Test_PGCET</th>                        <td>-1.114e+04</td> <td> 3.06e+04</td> <td>   -0.365</td> <td> 0.716</td> <td>-7.12e+04</td> <td> 4.89e+04</td>\n",
       "</tr>\n",
       "<tr>\n",
       "  <th>Entrance_Test_XAT</th>                          <td>-1.276e-13</td> <td>  9.7e-13</td> <td>   -0.131</td> <td> 0.895</td> <td>-2.03e-12</td> <td> 1.78e-12</td>\n",
       "</tr>\n",
       "<tr>\n",
       "  <th>Specialization_MBA_Marketing & Finance</th>     <td> 1.111e+05</td> <td> 3.66e+04</td> <td>    3.034</td> <td> 0.003</td> <td> 3.91e+04</td> <td> 1.83e+05</td>\n",
       "</tr>\n",
       "<tr>\n",
       "  <th>Specialization_MBA_Marketing & HR</th>          <td> 8.448e+04</td> <td>  3.7e+04</td> <td>    2.283</td> <td> 0.023</td> <td> 1.17e+04</td> <td> 1.57e+05</td>\n",
       "</tr>\n",
       "<tr>\n",
       "  <th>Specialization_MBA_Marketing & IB</th>          <td> 1.029e+05</td> <td> 3.69e+04</td> <td>    2.792</td> <td> 0.005</td> <td> 3.05e+04</td> <td> 1.75e+05</td>\n",
       "</tr>\n",
       "<tr>\n",
       "  <th>Specialization_MBA_Operations & Management</th> <td> 6.037e+04</td> <td> 3.75e+04</td> <td>    1.608</td> <td> 0.109</td> <td>-1.34e+04</td> <td> 1.34e+05</td>\n",
       "</tr>\n",
       "<tr>\n",
       "  <th>Placement_Not Placed</th>                       <td>-1.388e+05</td> <td> 1.24e+04</td> <td>  -11.226</td> <td> 0.000</td> <td>-1.63e+05</td> <td>-1.14e+05</td>\n",
       "</tr>\n",
       "<tr>\n",
       "  <th>Placement_Placed</th>                           <td> 1.478e+05</td> <td> 1.18e+04</td> <td>   12.535</td> <td> 0.000</td> <td> 1.25e+05</td> <td> 1.71e+05</td>\n",
       "</tr>\n",
       "<tr>\n",
       "  <th>constant</th>                                   <td> 9082.7116</td> <td> 2.13e+04</td> <td>    0.426</td> <td> 0.670</td> <td>-3.28e+04</td> <td>  5.1e+04</td>\n",
       "</tr>\n",
       "</table>\n",
       "<table class=\"simpletable\">\n",
       "<tr>\n",
       "  <th>Omnibus:</th>       <td>151.185</td> <th>  Durbin-Watson:     </th> <td>   2.067</td> \n",
       "</tr>\n",
       "<tr>\n",
       "  <th>Prob(Omnibus):</th> <td> 0.000</td>  <th>  Jarque-Bera (JB):  </th> <td> 795.631</td> \n",
       "</tr>\n",
       "<tr>\n",
       "  <th>Skew:</th>          <td> 1.371</td>  <th>  Prob(JB):          </th> <td>1.70e-173</td>\n",
       "</tr>\n",
       "<tr>\n",
       "  <th>Kurtosis:</th>      <td> 8.941</td>  <th>  Cond. No.          </th> <td>1.08e+16</td> \n",
       "</tr>\n",
       "</table><br/><br/>Warnings:<br/>[1] Standard Errors assume that the covariance matrix of the errors is correctly specified.<br/>[2] The smallest eigenvalue is 5.92e-25. This might indicate that there are<br/>strong multicollinearity problems or that the design matrix is singular."
      ],
      "text/plain": [
       "<class 'statsmodels.iolib.summary.Summary'>\n",
       "\"\"\"\n",
       "                            OLS Regression Results                            \n",
       "==============================================================================\n",
       "Dep. Variable:                 Salary   R-squared:                       0.665\n",
       "Model:                            OLS   Adj. R-squared:                  0.637\n",
       "Method:                 Least Squares   F-statistic:                     23.99\n",
       "Date:                Mon, 13 Jan 2020   Prob (F-statistic):           3.71e-77\n",
       "Time:                        12:35:21   Log-Likelihood:                -5704.6\n",
       "No. Observations:                 446   AIC:                         1.148e+04\n",
       "Df Residuals:                     411   BIC:                         1.162e+04\n",
       "Df Model:                          34                                         \n",
       "Covariance Type:            nonrobust                                         \n",
       "==============================================================================================================\n",
       "                                                 coef    std err          t      P>|t|      [0.025      0.975]\n",
       "--------------------------------------------------------------------------------------------------------------\n",
       "SlNo                                          47.0452     37.282      1.262      0.208     -26.242     120.332\n",
       "Percent_SSC                                 -582.9823    443.900     -1.313      0.190   -1455.581     289.616\n",
       "Percent_HSC                                  160.0341    430.654      0.372      0.710    -686.525    1006.593\n",
       "Percent_Degree                              -363.0578    464.382     -0.782      0.435   -1275.918     549.802\n",
       "Experience_Yrs                              2.041e+04   6420.956      3.179      0.002    7787.319     3.3e+04\n",
       "Percentile_ET                                488.2805    272.071      1.795      0.073     -46.544    1023.105\n",
       "Percent_MBA                                  746.8943    574.445      1.300      0.194    -382.322    1876.111\n",
       "Marks_Communication                          446.0681    407.642      1.094      0.274    -355.255    1247.391\n",
       "Marks_Projectwork                           -615.9688    475.944     -1.294      0.196   -1551.557     319.620\n",
       "Gender_F                                    6407.3903    1.3e+04      0.494      0.622   -1.91e+04    3.19e+04\n",
       "Gender_M                                    2675.3213   1.05e+04      0.254      0.800    -1.8e+04    2.34e+04\n",
       "Board_SSC_CBSE                              9843.8574   1.19e+04      0.830      0.407   -1.35e+04    3.32e+04\n",
       "Board_SSC_ICSE                             -8274.5009   1.24e+04     -0.667      0.505   -3.26e+04    1.61e+04\n",
       "Board_SSC_Others                            7513.3551   1.05e+04      0.714      0.475   -1.32e+04    2.82e+04\n",
       "Board_HSC_CBSE                             -1443.9100    1.2e+04     -0.120      0.904   -2.51e+04    2.22e+04\n",
       "Board_HSC_ISC                               1.972e+04   1.27e+04      1.549      0.122   -5305.057    4.47e+04\n",
       "Board_HSC_Others                           -9194.9854   1.04e+04     -0.886      0.376   -2.96e+04    1.12e+04\n",
       "Stream_HSC_Arts                            -1.758e+04   1.46e+04     -1.207      0.228   -4.62e+04    1.11e+04\n",
       "Stream_HSC_Commerce                         2.352e+04   1.21e+04      1.938      0.053    -339.182    4.74e+04\n",
       "Stream_HSC_Science                          3142.7500   1.19e+04      0.263      0.792   -2.03e+04    2.66e+04\n",
       "Course_Degree_Arts                          2090.0088    2.7e+04      0.077      0.938   -5.11e+04    5.53e+04\n",
       "Course_Degree_Commerce                     -5893.5647   1.58e+04     -0.374      0.709   -3.69e+04    2.51e+04\n",
       "Course_Degree_Computer Applications          -27.1086   1.85e+04     -0.001      0.999   -3.63e+04    3.63e+04\n",
       "Course_Degree_Engineering                   3.932e+04   1.44e+04      2.730      0.007     1.1e+04    6.76e+04\n",
       "Course_Degree_Management                   -2.002e+04   1.29e+04     -1.552      0.122   -4.54e+04    5343.699\n",
       "Course_Degree_Others                       -1.521e+04   4.69e+04     -0.324      0.746   -1.07e+05     7.7e+04\n",
       "Course_Degree_Science                       8812.2393   1.68e+04      0.524      0.601   -2.43e+04    4.19e+04\n",
       "Entrance_Test_CAT                           3.609e+04   2.63e+04      1.370      0.172   -1.57e+04    8.79e+04\n",
       "Entrance_Test_G-MAT                         3.592e+04   9.23e+04      0.389      0.697   -1.45e+05    2.17e+05\n",
       "Entrance_Test_G-SAT                        -4.286e+04   9.42e+04     -0.455      0.649   -2.28e+05    1.42e+05\n",
       "Entrance_Test_GCET                         -3.968e+04   6.89e+04     -0.576      0.565   -1.75e+05    9.57e+04\n",
       "Entrance_Test_K-MAT                         2.628e+04   2.83e+04      0.928      0.354   -2.94e+04    8.19e+04\n",
       "Entrance_Test_MAT                          -2.154e+04   2.09e+04     -1.030      0.304   -6.27e+04    1.96e+04\n",
       "Entrance_Test_PGCET                        -1.114e+04   3.06e+04     -0.365      0.716   -7.12e+04    4.89e+04\n",
       "Entrance_Test_XAT                          -1.276e-13    9.7e-13     -0.131      0.895   -2.03e-12    1.78e-12\n",
       "Specialization_MBA_Marketing & Finance      1.111e+05   3.66e+04      3.034      0.003    3.91e+04    1.83e+05\n",
       "Specialization_MBA_Marketing & HR           8.448e+04    3.7e+04      2.283      0.023    1.17e+04    1.57e+05\n",
       "Specialization_MBA_Marketing & IB           1.029e+05   3.69e+04      2.792      0.005    3.05e+04    1.75e+05\n",
       "Specialization_MBA_Operations & Management  6.037e+04   3.75e+04      1.608      0.109   -1.34e+04    1.34e+05\n",
       "Placement_Not Placed                       -1.388e+05   1.24e+04    -11.226      0.000   -1.63e+05   -1.14e+05\n",
       "Placement_Placed                            1.478e+05   1.18e+04     12.535      0.000    1.25e+05    1.71e+05\n",
       "constant                                    9082.7116   2.13e+04      0.426      0.670   -3.28e+04     5.1e+04\n",
       "==============================================================================\n",
       "Omnibus:                      151.185   Durbin-Watson:                   2.067\n",
       "Prob(Omnibus):                  0.000   Jarque-Bera (JB):              795.631\n",
       "Skew:                           1.371   Prob(JB):                    1.70e-173\n",
       "Kurtosis:                       8.941   Cond. No.                     1.08e+16\n",
       "==============================================================================\n",
       "\n",
       "Warnings:\n",
       "[1] Standard Errors assume that the covariance matrix of the errors is correctly specified.\n",
       "[2] The smallest eigenvalue is 5.92e-25. This might indicate that there are\n",
       "strong multicollinearity problems or that the design matrix is singular.\n",
       "\"\"\""
      ]
     },
     "execution_count": 144,
     "metadata": {},
     "output_type": "execute_result"
    }
   ],
   "source": [
    "m.summary()"
   ]
  },
  {
   "cell_type": "markdown",
   "metadata": {},
   "source": [
    "# here r2 is 0.652 and which are not much  close to 1 hence we can say model is average fitted since it is not much close to 1\n",
    "# adjusted r2=0.637 model can do much better than this\n",
    "\n",
    "\n",
    "# # r2 score is 0.66 which means 66% variance is explained by independent variables"
   ]
  },
  {
   "cell_type": "markdown",
   "metadata": {},
   "source": [
    "### Since Adjusted R2 is more significant than R2 Score because as we increase the predictor variables the R2 score will increase but the adjusted score may or may not increase.\n",
    "\n",
    "### As we can see from the above information we can say that all the predictor variables (experience,percent_mba,Entrance test mat,Specialization_MBA_Marketing & HR,Specialization_MBA_Operations & Management,Placement_Placed,Experience_Yrs_(1, 2] are important)  are significant for predicting the target variable."
   ]
  },
  {
   "cell_type": "code",
   "execution_count": 181,
   "metadata": {},
   "outputs": [],
   "source": [
    "from statsmodels.stats.outliers_influence import variance_inflation_factor\n",
    "vif=[variance_inflation_factor(newconstant.values,i) for i in range(0,newconstant.shape[1])]"
   ]
  },
  {
   "cell_type": "code",
   "execution_count": 182,
   "metadata": {},
   "outputs": [
    {
     "data": {
      "text/html": [
       "<div>\n",
       "<style scoped>\n",
       "    .dataframe tbody tr th:only-of-type {\n",
       "        vertical-align: middle;\n",
       "    }\n",
       "\n",
       "    .dataframe tbody tr th {\n",
       "        vertical-align: top;\n",
       "    }\n",
       "\n",
       "    .dataframe thead th {\n",
       "        text-align: right;\n",
       "    }\n",
       "</style>\n",
       "<table border=\"1\" class=\"dataframe\">\n",
       "  <thead>\n",
       "    <tr style=\"text-align: right;\">\n",
       "      <th></th>\n",
       "      <th>VIF</th>\n",
       "    </tr>\n",
       "  </thead>\n",
       "  <tbody>\n",
       "    <tr>\n",
       "      <th>SlNo</th>\n",
       "      <td>2.503232</td>\n",
       "    </tr>\n",
       "    <tr>\n",
       "      <th>Percent_SSC</th>\n",
       "      <td>1.284341</td>\n",
       "    </tr>\n",
       "    <tr>\n",
       "      <th>Percent_HSC</th>\n",
       "      <td>1.338450</td>\n",
       "    </tr>\n",
       "    <tr>\n",
       "      <th>Percent_Degree</th>\n",
       "      <td>1.244530</td>\n",
       "    </tr>\n",
       "    <tr>\n",
       "      <th>Experience_Yrs</th>\n",
       "      <td>1.130174</td>\n",
       "    </tr>\n",
       "    <tr>\n",
       "      <th>Percentile_ET</th>\n",
       "      <td>2.904770</td>\n",
       "    </tr>\n",
       "    <tr>\n",
       "      <th>Percent_MBA</th>\n",
       "      <td>1.264902</td>\n",
       "    </tr>\n",
       "    <tr>\n",
       "      <th>Marks_Communication</th>\n",
       "      <td>1.197951</td>\n",
       "    </tr>\n",
       "    <tr>\n",
       "      <th>Marks_Projectwork</th>\n",
       "      <td>1.183201</td>\n",
       "    </tr>\n",
       "    <tr>\n",
       "      <th>Gender_F</th>\n",
       "      <td>inf</td>\n",
       "    </tr>\n",
       "    <tr>\n",
       "      <th>Gender_M</th>\n",
       "      <td>inf</td>\n",
       "    </tr>\n",
       "    <tr>\n",
       "      <th>Board_SSC_CBSE</th>\n",
       "      <td>inf</td>\n",
       "    </tr>\n",
       "    <tr>\n",
       "      <th>Board_SSC_ICSE</th>\n",
       "      <td>inf</td>\n",
       "    </tr>\n",
       "    <tr>\n",
       "      <th>Board_SSC_Others</th>\n",
       "      <td>inf</td>\n",
       "    </tr>\n",
       "    <tr>\n",
       "      <th>Board_HSC_CBSE</th>\n",
       "      <td>inf</td>\n",
       "    </tr>\n",
       "    <tr>\n",
       "      <th>Board_HSC_ISC</th>\n",
       "      <td>inf</td>\n",
       "    </tr>\n",
       "    <tr>\n",
       "      <th>Board_HSC_Others</th>\n",
       "      <td>inf</td>\n",
       "    </tr>\n",
       "    <tr>\n",
       "      <th>Stream_HSC_Arts</th>\n",
       "      <td>inf</td>\n",
       "    </tr>\n",
       "    <tr>\n",
       "      <th>Stream_HSC_Commerce</th>\n",
       "      <td>inf</td>\n",
       "    </tr>\n",
       "    <tr>\n",
       "      <th>Stream_HSC_Science</th>\n",
       "      <td>inf</td>\n",
       "    </tr>\n",
       "    <tr>\n",
       "      <th>Course_Degree_Arts</th>\n",
       "      <td>inf</td>\n",
       "    </tr>\n",
       "    <tr>\n",
       "      <th>Course_Degree_Commerce</th>\n",
       "      <td>inf</td>\n",
       "    </tr>\n",
       "    <tr>\n",
       "      <th>Course_Degree_Computer Applications</th>\n",
       "      <td>inf</td>\n",
       "    </tr>\n",
       "    <tr>\n",
       "      <th>Course_Degree_Engineering</th>\n",
       "      <td>inf</td>\n",
       "    </tr>\n",
       "    <tr>\n",
       "      <th>Course_Degree_Management</th>\n",
       "      <td>inf</td>\n",
       "    </tr>\n",
       "    <tr>\n",
       "      <th>Course_Degree_Others</th>\n",
       "      <td>inf</td>\n",
       "    </tr>\n",
       "    <tr>\n",
       "      <th>Course_Degree_Science</th>\n",
       "      <td>inf</td>\n",
       "    </tr>\n",
       "    <tr>\n",
       "      <th>Entrance_Test_CAT</th>\n",
       "      <td>2.153228</td>\n",
       "    </tr>\n",
       "    <tr>\n",
       "      <th>Entrance_Test_G-MAT</th>\n",
       "      <td>1.038394</td>\n",
       "    </tr>\n",
       "    <tr>\n",
       "      <th>Entrance_Test_G-SAT</th>\n",
       "      <td>1.082460</td>\n",
       "    </tr>\n",
       "    <tr>\n",
       "      <th>Entrance_Test_GCET</th>\n",
       "      <td>1.154604</td>\n",
       "    </tr>\n",
       "    <tr>\n",
       "      <th>Entrance_Test_K-MAT</th>\n",
       "      <td>2.571868</td>\n",
       "    </tr>\n",
       "    <tr>\n",
       "      <th>Entrance_Test_MAT</th>\n",
       "      <td>5.214560</td>\n",
       "    </tr>\n",
       "    <tr>\n",
       "      <th>Entrance_Test_PGCET</th>\n",
       "      <td>2.693648</td>\n",
       "    </tr>\n",
       "    <tr>\n",
       "      <th>Entrance_Test_XAT</th>\n",
       "      <td>NaN</td>\n",
       "    </tr>\n",
       "    <tr>\n",
       "      <th>Specialization_MBA_Marketing &amp; Finance</th>\n",
       "      <td>17.885910</td>\n",
       "    </tr>\n",
       "    <tr>\n",
       "      <th>Specialization_MBA_Marketing &amp; HR</th>\n",
       "      <td>14.987367</td>\n",
       "    </tr>\n",
       "    <tr>\n",
       "      <th>Specialization_MBA_Marketing &amp; IB</th>\n",
       "      <td>8.629771</td>\n",
       "    </tr>\n",
       "    <tr>\n",
       "      <th>Specialization_MBA_Operations &amp; Management</th>\n",
       "      <td>9.201615</td>\n",
       "    </tr>\n",
       "    <tr>\n",
       "      <th>Placement_Not Placed</th>\n",
       "      <td>inf</td>\n",
       "    </tr>\n",
       "    <tr>\n",
       "      <th>Placement_Placed</th>\n",
       "      <td>inf</td>\n",
       "    </tr>\n",
       "    <tr>\n",
       "      <th>constant</th>\n",
       "      <td>0.000000</td>\n",
       "    </tr>\n",
       "  </tbody>\n",
       "</table>\n",
       "</div>"
      ],
      "text/plain": [
       "                                                  VIF\n",
       "SlNo                                         2.503232\n",
       "Percent_SSC                                  1.284341\n",
       "Percent_HSC                                  1.338450\n",
       "Percent_Degree                               1.244530\n",
       "Experience_Yrs                               1.130174\n",
       "Percentile_ET                                2.904770\n",
       "Percent_MBA                                  1.264902\n",
       "Marks_Communication                          1.197951\n",
       "Marks_Projectwork                            1.183201\n",
       "Gender_F                                          inf\n",
       "Gender_M                                          inf\n",
       "Board_SSC_CBSE                                    inf\n",
       "Board_SSC_ICSE                                    inf\n",
       "Board_SSC_Others                                  inf\n",
       "Board_HSC_CBSE                                    inf\n",
       "Board_HSC_ISC                                     inf\n",
       "Board_HSC_Others                                  inf\n",
       "Stream_HSC_Arts                                   inf\n",
       "Stream_HSC_Commerce                               inf\n",
       "Stream_HSC_Science                                inf\n",
       "Course_Degree_Arts                                inf\n",
       "Course_Degree_Commerce                            inf\n",
       "Course_Degree_Computer Applications               inf\n",
       "Course_Degree_Engineering                         inf\n",
       "Course_Degree_Management                          inf\n",
       "Course_Degree_Others                              inf\n",
       "Course_Degree_Science                             inf\n",
       "Entrance_Test_CAT                            2.153228\n",
       "Entrance_Test_G-MAT                          1.038394\n",
       "Entrance_Test_G-SAT                          1.082460\n",
       "Entrance_Test_GCET                           1.154604\n",
       "Entrance_Test_K-MAT                          2.571868\n",
       "Entrance_Test_MAT                            5.214560\n",
       "Entrance_Test_PGCET                          2.693648\n",
       "Entrance_Test_XAT                                 NaN\n",
       "Specialization_MBA_Marketing & Finance      17.885910\n",
       "Specialization_MBA_Marketing & HR           14.987367\n",
       "Specialization_MBA_Marketing & IB            8.629771\n",
       "Specialization_MBA_Operations & Management   9.201615\n",
       "Placement_Not Placed                              inf\n",
       "Placement_Placed                                  inf\n",
       "constant                                     0.000000"
      ]
     },
     "execution_count": 182,
     "metadata": {},
     "output_type": "execute_result"
    }
   ],
   "source": [
    "pd.DataFrame({'VIF':vif[0:]},index=newconstant.columns)"
   ]
  },
  {
   "cell_type": "code",
   "execution_count": null,
   "metadata": {},
   "outputs": [],
   "source": [
    "# there is multicolinearity present in our data\n",
    "#Course_Degree_Management and Course_Degree_Engineering\n"
   ]
  },
  {
   "cell_type": "markdown",
   "metadata": {},
   "source": [
    "# How do you improve the accuracy of the model? Write clearly the changes that you will make\n",
    "before re-fitting the model. Fit the final model."
   ]
  },
  {
   "cell_type": "markdown",
   "metadata": {},
   "source": [
    "# we can improve the accuracy of the model by extracting the variables that are most important  and form new train and new test dataframe and then applying the model on it and check whether our accuracy improves or not.this can also be called as feature extraction technique"
   ]
  },
  {
   "cell_type": "code",
   "execution_count": 147,
   "metadata": {},
   "outputs": [],
   "source": [
    "newtrain=x_train[['Entrance_Test_MAT','Specialization_MBA_Marketing & HR','Specialization_MBA_Operations & Management','Placement_Placed']]"
   ]
  },
  {
   "cell_type": "code",
   "execution_count": 148,
   "metadata": {},
   "outputs": [],
   "source": [
    "newtest=x_test[['Entrance_Test_MAT','Specialization_MBA_Marketing & HR','Specialization_MBA_Operations & Management','Placement_Placed']]"
   ]
  },
  {
   "cell_type": "code",
   "execution_count": 150,
   "metadata": {},
   "outputs": [],
   "source": [
    "modeln=lr.fit(newtrain,y_train)"
   ]
  },
  {
   "cell_type": "code",
   "execution_count": 152,
   "metadata": {},
   "outputs": [
    {
     "data": {
      "text/plain": [
       "0.601661602772164"
      ]
     },
     "execution_count": 152,
     "metadata": {},
     "output_type": "execute_result"
    }
   ],
   "source": [
    "modeln.score(newtrain,y_train)"
   ]
  },
  {
   "cell_type": "code",
   "execution_count": 154,
   "metadata": {},
   "outputs": [],
   "source": [
    "pred1=modeln.predict(newtest)"
   ]
  },
  {
   "cell_type": "code",
   "execution_count": 155,
   "metadata": {},
   "outputs": [
    {
     "data": {
      "text/plain": [
       "0.5585593646336637"
      ]
     },
     "execution_count": 155,
     "metadata": {},
     "output_type": "execute_result"
    }
   ],
   "source": [
    "r2_score(y_test,pred1)"
   ]
  },
  {
   "cell_type": "code",
   "execution_count": 167,
   "metadata": {},
   "outputs": [],
   "source": [
    "from sklearn.linear_model import LinearRegression\n",
    "from sklearn.ensemble import RandomForestRegressor\n"
   ]
  },
  {
   "cell_type": "markdown",
   "metadata": {},
   "source": [
    "## FITTING FINAL MODEL -WE WILL BE FITTING TWO ML MODELS LINEAR REGRESSION AND RANDOM FOREST TO CHECK WHETHER OUR ACCURACY INCREASES OR NOT"
   ]
  },
  {
   "cell_type": "code",
   "execution_count": 168,
   "metadata": {},
   "outputs": [],
   "source": [
    "lr = LinearRegression()\n",
    "rf = RandomForestRegressor()"
   ]
  },
  {
   "cell_type": "code",
   "execution_count": 171,
   "metadata": {},
   "outputs": [],
   "source": [
    "pred = lr.fit(newtrain, y_train).predict(newtest)\n",
    "pred_rf = rf.fit(newtrain, y_train).predict(newtest)"
   ]
  },
  {
   "cell_type": "code",
   "execution_count": 176,
   "metadata": {},
   "outputs": [],
   "source": [
    "from sklearn.metrics import r2_score, mean_squared_error\n",
    "cols = [\"Model\", \"RMSE\", \"R Squared\"]\n",
    "\n",
    "result = pd.DataFrame()\n",
    "\n",
    "model1 = pd.Series({\"Model\": \"Linear Regression without Scaling\",\n",
    "                   \"RMSE\":np.sqrt(mean_squared_error(y_test,pred)),\n",
    "                   \"R Sqaured\": r2_score(y_test,pred)})\n",
    "\n",
    "model2 = pd.Series({\"Model\": \"Random Forest without Scaling\",\n",
    "                   \"RMSE\":np.sqrt(mean_squared_error(y_test,pred_rf)),\n",
    "                   \"R Sqaured\": r2_score(y_test,pred_rf)})"
   ]
  },
  {
   "cell_type": "code",
   "execution_count": 177,
   "metadata": {},
   "outputs": [
    {
     "data": {
      "text/html": [
       "<div>\n",
       "<style scoped>\n",
       "    .dataframe tbody tr th:only-of-type {\n",
       "        vertical-align: middle;\n",
       "    }\n",
       "\n",
       "    .dataframe tbody tr th {\n",
       "        vertical-align: top;\n",
       "    }\n",
       "\n",
       "    .dataframe thead th {\n",
       "        text-align: right;\n",
       "    }\n",
       "</style>\n",
       "<table border=\"1\" class=\"dataframe\">\n",
       "  <thead>\n",
       "    <tr style=\"text-align: right;\">\n",
       "      <th></th>\n",
       "      <th>Model</th>\n",
       "      <th>RMSE</th>\n",
       "      <th>R Sqaured</th>\n",
       "    </tr>\n",
       "  </thead>\n",
       "  <tbody>\n",
       "    <tr>\n",
       "      <th>0</th>\n",
       "      <td>Linear Regression without Scaling</td>\n",
       "      <td>88245.918679</td>\n",
       "      <td>0.558559</td>\n",
       "    </tr>\n",
       "    <tr>\n",
       "      <th>1</th>\n",
       "      <td>Random Forest without Scaling</td>\n",
       "      <td>86867.141059</td>\n",
       "      <td>0.572246</td>\n",
       "    </tr>\n",
       "  </tbody>\n",
       "</table>\n",
       "</div>"
      ],
      "text/plain": [
       "                               Model          RMSE  R Sqaured\n",
       "0  Linear Regression without Scaling  88245.918679   0.558559\n",
       "1      Random Forest without Scaling  86867.141059   0.572246"
      ]
     },
     "execution_count": 177,
     "metadata": {},
     "output_type": "execute_result"
    }
   ],
   "source": [
    "result.append([model1,model2], ignore_index = True)"
   ]
  },
  {
   "cell_type": "markdown",
   "metadata": {},
   "source": [
    "# WE HAVE SEEN THAT R2 WITH LINEAR REGRESSION IS 0.55 WHILE R2 WITH RANDOM FOREST IS 0.57 WHICH TELLS THAT OUR ACCURACY HAVE IMPROVED FROM PREVIOUS STATE"
   ]
  },
  {
   "cell_type": "code",
   "execution_count": 180,
   "metadata": {},
   "outputs": [
    {
     "name": "stdout",
     "output_type": "stream",
     "text": [
      "The R sqaure of the model is  0.5692855014698893\n"
     ]
    }
   ],
   "source": [
    "from sklearn.ensemble import GradientBoostingRegressor\n",
    "gb=GradientBoostingRegressor(tol=0.005,alpha=0.5)\n",
    "model_gb=gb.fit(newtrain,y_train).predict(newtest)\n",
    "print(\"The R sqaure of the model is \",r2_score(y_test,model_gb))"
   ]
  },
  {
   "cell_type": "markdown",
   "metadata": {},
   "source": [
    "# ques 8\n",
    "# as we can see that after applying feature extraction technique and then applying certain machine learning models our acuracy has improved slightly at the last we have applied gradient boost regressor with alpha =0.5 we get accuracy of 0.5692 which is slightly better than linar regression model.with random forest regressor we get 0.57 which is also better than linear regression "
   ]
  },
  {
   "cell_type": "markdown",
   "metadata": {},
   "source": [
    "#from this datawe can point out for business interpretation as follows:\n",
    "# since there is multicollinearity in data we have to deal with it and check whether variable is correlated themselves or not also we have to check whether these variables can be dropped or not.after checking all the conditions we have extracted certain important varaibles and applied the machine learning models to check our accuracy "
   ]
  },
  {
   "cell_type": "code",
   "execution_count": null,
   "metadata": {},
   "outputs": [],
   "source": []
  }
 ],
 "metadata": {
  "kernelspec": {
   "display_name": "Python 3",
   "language": "python",
   "name": "python3"
  },
  "language_info": {
   "codemirror_mode": {
    "name": "ipython",
    "version": 3
   },
   "file_extension": ".py",
   "mimetype": "text/x-python",
   "name": "python",
   "nbconvert_exporter": "python",
   "pygments_lexer": "ipython3",
   "version": "3.8.3"
  }
 },
 "nbformat": 4,
 "nbformat_minor": 2
}
