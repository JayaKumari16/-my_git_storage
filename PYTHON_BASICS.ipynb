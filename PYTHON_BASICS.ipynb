{
 "cells": [
  {
   "cell_type": "markdown",
   "metadata": {},
   "source": [
    "#### Single line comment\n",
    "The first line starting with # is a single line comment.\n",
    "#### Multi line comment\n",
    "'''\n",
    "this is \n",
    "multi-line string and servers as a comment\n",
    "'''\n",
    "\n",
    "\n",
    "#### Python Datatypes\n",
    "int\n",
    "float\n",
    "complex\n",
    "bytes\n",
    "string"
   ]
  },
  {
   "cell_type": "markdown",
   "metadata": {},
   "source": [
    "### Type Casting\n",
    "* In Python, Type Casting is a process in which we convert a literal of one type to another.\n",
    "* Inbuilt functions int(), float() and str() shall be used for typecasting."
   ]
  },
  {
   "cell_type": "code",
   "execution_count": 1,
   "metadata": {},
   "outputs": [
    {
     "data": {
      "text/plain": [
       "123.0"
      ]
     },
     "execution_count": 1,
     "metadata": {},
     "output_type": "execute_result"
    }
   ],
   "source": [
    "## int to string to float\n",
    "\n",
    "a= 123\n",
    "\n",
    "# Float\n",
    "f=float(a)\n",
    "f"
   ]
  },
  {
   "cell_type": "code",
   "execution_count": 2,
   "metadata": {},
   "outputs": [
    {
     "data": {
      "text/plain": [
       "'123'"
      ]
     },
     "execution_count": 2,
     "metadata": {},
     "output_type": "execute_result"
    }
   ],
   "source": [
    "# string\n",
    "s=str(a)\n",
    "s"
   ]
  },
  {
   "cell_type": "code",
   "execution_count": 3,
   "metadata": {},
   "outputs": [
    {
     "data": {
      "text/plain": [
       "123.0"
      ]
     },
     "execution_count": 3,
     "metadata": {},
     "output_type": "execute_result"
    }
   ],
   "source": [
    "## Converting string to int and float\n",
    "b = \"123.0\"\n",
    "f = float(b)\n",
    "f\n"
   ]
  },
  {
   "cell_type": "code",
   "execution_count": 4,
   "metadata": {},
   "outputs": [
    {
     "data": {
      "text/plain": [
       "1230"
      ]
     },
     "execution_count": 4,
     "metadata": {},
     "output_type": "execute_result"
    }
   ],
   "source": [
    "b = \"1230\"\n",
    "c=int(b)\n",
    "c"
   ]
  },
  {
   "cell_type": "markdown",
   "metadata": {},
   "source": [
    "#### Python Conditional Statements\n",
    "* Python If\n",
    "* Python If Else\n",
    "* Python Elif\n",
    "* Python if and\n",
    "* Python if or\n",
    "* Python if not\n",
    "* Python Ternary Operator"
   ]
  },
  {
   "cell_type": "markdown",
   "metadata": {},
   "source": [
    "###  Python Ternary operator\n",
    "* Python Ternary operator is used to select one of the two values based on a condition. \n",
    "* It is a miniature of if-else statement that assigns one of the two values to a variable.\n",
    "* The syntax of Python Ternary Operator is:\n",
    "\n",
    "[statement_1] if [expression] else [statement_2]"
   ]
  },
  {
   "cell_type": "markdown",
   "metadata": {},
   "source": [
    "#### Nested Python Ternary Operator\n",
    "* You can nest a ternary operator in another statement with ternary operator.\n"
   ]
  },
  {
   "cell_type": "code",
   "execution_count": 5,
   "metadata": {},
   "outputs": [
    {
     "name": "stdout",
     "output_type": "stream",
     "text": [
      "22\n"
     ]
    }
   ],
   "source": [
    "a, b, c = 15, 93, 22\n",
    "\n",
    "#nested ternary operator\n",
    "max = a if a > b and a>c else c if b>c else b\n",
    "\n",
    "print(max)"
   ]
  },
  {
   "cell_type": "markdown",
   "metadata": {},
   "source": [
    "### Python For Loop\n",
    "Python For Loop can be used to iterate a set of statements once for each item of a sequence or collection."
   ]
  },
  {
   "cell_type": "markdown",
   "metadata": {},
   "source": [
    "###  Python For Loop with Range"
   ]
  },
  {
   "cell_type": "code",
   "execution_count": 6,
   "metadata": {},
   "outputs": [
    {
     "name": "stdout",
     "output_type": "stream",
     "text": [
      "25\n",
      "26\n",
      "27\n",
      "28\n"
     ]
    }
   ],
   "source": [
    "for i in range(25,29):\n",
    "\tprint(i)"
   ]
  },
  {
   "cell_type": "code",
   "execution_count": 7,
   "metadata": {},
   "outputs": [
    {
     "name": "stdout",
     "output_type": "stream",
     "text": [
      "python\n",
      "programming\n",
      "examples\n",
      "programs\n"
     ]
    }
   ],
   "source": [
    "##For Loop with List\n",
    "mylist = ['python', 'programming', 'examples', 'programs']\n",
    "\n",
    "for x in mylist:\n",
    "    print(x)"
   ]
  },
  {
   "cell_type": "code",
   "execution_count": 8,
   "metadata": {},
   "outputs": [
    {
     "data": {
      "text/plain": [
       "['a', 'b', 'c', 'd', 'e']"
      ]
     },
     "execution_count": 8,
     "metadata": {},
     "output_type": "execute_result"
    }
   ],
   "source": [
    "li=list('abcde')\n",
    "li"
   ]
  },
  {
   "cell_type": "code",
   "execution_count": 9,
   "metadata": {},
   "outputs": [
    {
     "name": "stdout",
     "output_type": "stream",
     "text": [
      "name : jaya\n",
      "course : BCA\n",
      "year : 2021\n"
     ]
    }
   ],
   "source": [
    "### For Loop with Dictionary\n",
    "dict={'name':'jaya','course':'BCA','year':'2021'}\n",
    "for i in dict:\n",
    "    print(i,':',dict[i])"
   ]
  },
  {
   "cell_type": "markdown",
   "metadata": {},
   "source": [
    "Delete item from Dictionary using pop() function"
   ]
  },
  {
   "cell_type": "code",
   "execution_count": 10,
   "metadata": {},
   "outputs": [
    {
     "data": {
      "text/plain": [
       "{'course': 'BCA', 'year': '2021'}"
      ]
     },
     "execution_count": 10,
     "metadata": {},
     "output_type": "execute_result"
    }
   ],
   "source": [
    "dict={'name':'jaya','course':'BCA','year':'2021'}\n",
    "x=dict.pop('name')\n",
    "x\n",
    "dict"
   ]
  },
  {
   "cell_type": "markdown",
   "metadata": {},
   "source": [
    "Syntax – Key in Dictionary\n",
    "Following is the syntax to check if key is present in dictionary. "
   ]
  },
  {
   "cell_type": "code",
   "execution_count": 11,
   "metadata": {},
   "outputs": [
    {
     "name": "stdout",
     "output_type": "stream",
     "text": [
      "True\n"
     ]
    }
   ],
   "source": [
    "y='course' in dict\n",
    "print(y)"
   ]
  },
  {
   "cell_type": "markdown",
   "metadata": {},
   "source": [
    "Add value in dictionary"
   ]
  },
  {
   "cell_type": "code",
   "execution_count": 12,
   "metadata": {},
   "outputs": [
    {
     "data": {
      "text/plain": [
       "{'course': 'BCA', 'year': 2021}"
      ]
     },
     "execution_count": 12,
     "metadata": {},
     "output_type": "execute_result"
    }
   ],
   "source": [
    "dict['year']=2021\n",
    " \n",
    "dict"
   ]
  },
  {
   "cell_type": "code",
   "execution_count": 13,
   "metadata": {},
   "outputs": [
    {
     "name": "stdout",
     "output_type": "stream",
     "text": [
      "1\n",
      "4\n",
      "5\n",
      "9\n",
      "23\n"
     ]
    }
   ],
   "source": [
    "### For Loop with set\n",
    "\n",
    "data={1,23,4,5,9}\n",
    "for i in data:\n",
    "    print(i)"
   ]
  },
  {
   "cell_type": "markdown",
   "metadata": {},
   "source": [
    "### set operations"
   ]
  },
  {
   "cell_type": "markdown",
   "metadata": {},
   "source": [
    "add() – Adds an element (passed as argument) to the set. \n",
    "If element is already present, set remains unchanged."
   ]
  },
  {
   "cell_type": "code",
   "execution_count": 40,
   "metadata": {},
   "outputs": [
    {
     "name": "stdout",
     "output_type": "stream",
     "text": [
      "{3, 4, 5, 6, 7, 9, 10, 12, 88}\n"
     ]
    }
   ],
   "source": [
    "x={12,3,4,5,6,7,7,88,9}\n",
    "x.add(10)\n",
    "print(x)"
   ]
  },
  {
   "cell_type": "markdown",
   "metadata": {},
   "source": [
    "clear() – Removes all the elements from the set. And the set becomes empty."
   ]
  },
  {
   "cell_type": "markdown",
   "metadata": {},
   "source": [
    "copy() – Returns a copy of the set. Helpful when you would like to keep an original copy of the Set."
   ]
  },
  {
   "cell_type": "code",
   "execution_count": 41,
   "metadata": {},
   "outputs": [
    {
     "name": "stdout",
     "output_type": "stream",
     "text": [
      "{3, 4, 5, 6, 7, 9, 10, 12, 88}\n"
     ]
    }
   ],
   "source": [
    "y=x.copy()\n",
    "print(y)"
   ]
  },
  {
   "cell_type": "markdown",
   "metadata": {},
   "source": [
    "discard() – Remove the specified item."
   ]
  },
  {
   "cell_type": "code",
   "execution_count": 42,
   "metadata": {},
   "outputs": [
    {
     "data": {
      "text/plain": [
       "{3, 4, 5, 6, 7, 9, 10, 12, 88}"
      ]
     },
     "execution_count": 42,
     "metadata": {},
     "output_type": "execute_result"
    }
   ],
   "source": [
    "x.discard(13)\n",
    "x"
   ]
  },
  {
   "cell_type": "markdown",
   "metadata": {},
   "source": [
    "pop() – Removes an element from the set. Which element it pops is uncertain."
   ]
  },
  {
   "cell_type": "code",
   "execution_count": 45,
   "metadata": {},
   "outputs": [
    {
     "data": {
      "text/plain": [
       "{6, 7, 9, 10, 12, 88}"
      ]
     },
     "execution_count": 45,
     "metadata": {},
     "output_type": "execute_result"
    }
   ],
   "source": [
    "x.pop()\n",
    "x"
   ]
  },
  {
   "cell_type": "code",
   "execution_count": 47,
   "metadata": {},
   "outputs": [
    {
     "data": {
      "text/plain": [
       "{1, 6, 7, 9, 10, 12, 88, 90}"
      ]
     },
     "execution_count": 47,
     "metadata": {},
     "output_type": "execute_result"
    }
   ],
   "source": [
    "x.add(90)\n",
    "x"
   ]
  },
  {
   "cell_type": "markdown",
   "metadata": {},
   "source": [
    "difference() – Returns a set containing the difference between two or more sets."
   ]
  },
  {
   "cell_type": "code",
   "execution_count": 19,
   "metadata": {},
   "outputs": [
    {
     "data": {
      "text/plain": [
       "{1, 4, 9, 10, 12, 88}"
      ]
     },
     "execution_count": 19,
     "metadata": {},
     "output_type": "execute_result"
    }
   ],
   "source": [
    "y={2,8,6,5,90,45,3,7,87,65,67}\n",
    "res=x.difference(y)\n",
    "res"
   ]
  },
  {
   "cell_type": "markdown",
   "metadata": {},
   "source": [
    "difference_update() – Removes the items in this set that are also included in another, specified set."
   ]
  },
  {
   "cell_type": "code",
   "execution_count": 20,
   "metadata": {},
   "outputs": [],
   "source": [
    "x.difference_update(y)"
   ]
  },
  {
   "cell_type": "code",
   "execution_count": 21,
   "metadata": {},
   "outputs": [
    {
     "name": "stdout",
     "output_type": "stream",
     "text": [
      "1 2 3 4 5 6 7 8 9 10 11 12 13 14 15 16 17 18 19 "
     ]
    }
   ],
   "source": [
    "for i in range(1,20):\n",
    "    print(i,end=\" \")"
   ]
  },
  {
   "cell_type": "markdown",
   "metadata": {},
   "source": [
    "### break statement\n",
    "From the syntax and flow diagram, we know that for loop will be over only after executing statement(s) for all the elements in the iterable. But, we can break the for loop and end it before it has actually run for all the elements in the iterable using break statement."
   ]
  },
  {
   "cell_type": "code",
   "execution_count": 22,
   "metadata": {},
   "outputs": [
    {
     "name": "stdout",
     "output_type": "stream",
     "text": [
      "1\n",
      "23\n",
      "47\n",
      "7\n"
     ]
    }
   ],
   "source": [
    "list=[1,23,47,7,8,90]\n",
    "for i in list:\n",
    "    print(i)\n",
    "    if i==7:\n",
    "        break\n",
    "   \n",
    "        \n",
    "        "
   ]
  },
  {
   "cell_type": "markdown",
   "metadata": {},
   "source": [
    "### continue\n",
    "We can skip the execution of further statements in the for loop body, \n",
    "during that iteration, using continue statement. When continue statement is executed, the for loop\n",
    "continues with the execution of next element in the iterable,\n",
    "rather than completing all the statements in the for loop body.\n",
    "\n",
    " * When x is 7, continue statement is executed. The print statement after the continue statement \n",
    " * in the for loop has been skipped and \n",
    " * continued with the next element in the loop, which is 8."
   ]
  },
  {
   "cell_type": "code",
   "execution_count": 23,
   "metadata": {},
   "outputs": [
    {
     "name": "stdout",
     "output_type": "stream",
     "text": [
      "1\n",
      "23\n",
      "47\n",
      "8\n",
      "90\n"
     ]
    }
   ],
   "source": [
    "list=[1,23,47,7,8,90]\n",
    "for i in list:\n",
    "   \n",
    "    if i==7:\n",
    "        continue\n",
    "    print(i)\n",
    "   "
   ]
  },
  {
   "cell_type": "markdown",
   "metadata": {},
   "source": [
    "### Python Nested For Loop\n",
    "* For loop inside another for loop is called Nested For Loop.\n",
    "\n",
    "Python For Loop is just like another Python command or statement. \n",
    "So, can write a for loop inside another for loop and this is called nesting."
   ]
  },
  {
   "cell_type": "code",
   "execution_count": 36,
   "metadata": {},
   "outputs": [
    {
     "name": "stdout",
     "output_type": "stream",
     "text": [
      "0 0 0 0 \n",
      "1 1 1 1 \n",
      "2 2 2 2 \n"
     ]
    }
   ],
   "source": [
    "for i in range(3):\n",
    "    for a in range(4):\n",
    "        print(i,end=' ')\n",
    "    print()  "
   ]
  },
  {
   "cell_type": "markdown",
   "metadata": {},
   "source": [
    "### Python Type Conversion\n",
    "To convert integer to float in python, you can use the float() class with the int passed as argument to it.\n"
   ]
  },
  {
   "cell_type": "code",
   "execution_count": 25,
   "metadata": {},
   "outputs": [
    {
     "name": "stdout",
     "output_type": "stream",
     "text": [
      "5 is a type of <class 'int'>\n",
      "5.0 is a type of <class 'float'>\n"
     ]
    }
   ],
   "source": [
    "### Typecast Int to Float\n",
    "a=5\n",
    "print(a,'is a type of', type(a) )\n",
    "f=float(a)\n",
    "print(f,'is a type of',type(f))"
   ]
  },
  {
   "cell_type": "markdown",
   "metadata": {},
   "source": [
    "### Python Convert Int to Complex\n",
    "To convert int to complex in python, you can use complex() class with the int passed as an argument to it \n",
    "or add imaginary part to the integer so that the variable would typecast implicitly to complex datatype."
   ]
  },
  {
   "cell_type": "code",
   "execution_count": 28,
   "metadata": {},
   "outputs": [
    {
     "name": "stdout",
     "output_type": "stream",
     "text": [
      "type a <class 'int'>\n",
      "(2+0j)\n"
     ]
    }
   ],
   "source": [
    "a=2\n",
    "print(\"type a\",type(a))\n",
    "com=complex(a)\n",
    "print(com)"
   ]
  },
  {
   "cell_type": "markdown",
   "metadata": {},
   "source": [
    "## Python Fucntions\n",
    "\n",
    "### Python *args\n",
    "* Python *args parameter in a function definition allows the function to accept multiple arguments without knowing how many arguments. \n",
    "* Datatype of args is tuple.\n",
    "* The asterisk symbol is called unpacking operator."
   ]
  },
  {
   "cell_type": "code",
   "execution_count": 27,
   "metadata": {},
   "outputs": [
    {
     "name": "stdout",
     "output_type": "stream",
     "text": [
      "Result : 36\n"
     ]
    }
   ],
   "source": [
    "def add(*args):\n",
    "    res=0\n",
    "    for i in args:\n",
    "        res+=i\n",
    "    print(\"Result :\",res)\n",
    "add(12,3,4,5,7,5,0)    "
   ]
  },
  {
   "cell_type": "markdown",
   "metadata": {},
   "source": [
    "### Python **kwargs\n",
    "* Python **kwargs allows function call to pass variable number of keyword (named) arguments to the function.\n",
    "* The datatype of kwargs is dictionary.\n",
    "* Double asterisk ** before kwargs is the unpacking operator.\n",
    "* It unpacks the arguments passed to the function, as dictionary."
   ]
  },
  {
   "cell_type": "code",
   "execution_count": 28,
   "metadata": {},
   "outputs": [
    {
     "name": "stdout",
     "output_type": "stream",
     "text": [
      "a : 112\n",
      "b : 34\n",
      "c : a\n",
      "d : b\n"
     ]
    }
   ],
   "source": [
    "def func(**kwargs):\n",
    "    for i in kwargs:\n",
    "        print(i ,\":\" , kwargs[i])\n",
    "func(a=112,b=34) \n",
    "func(c='a',d='b')"
   ]
  },
  {
   "cell_type": "markdown",
   "metadata": {},
   "source": [
    "**kwargs with Other Parameters\n",
    "Just a function can have multiple parameters in its definition, we can also have parameters along with **kwargs.\n",
    "Please remember that **kwargs is just another parameter. \n",
    "The only difference of **kwargs from other parameters is that, it can take multiple named arguments."
   ]
  },
  {
   "cell_type": "code",
   "execution_count": 29,
   "metadata": {},
   "outputs": [
    {
     "name": "stdout",
     "output_type": "stream",
     "text": [
      "jaya kumari\n",
      "a 1\n",
      "b -2\n",
      "c 3\n"
     ]
    }
   ],
   "source": [
    "def myfunc(x,y,**kwargs):\n",
    "    print(x,y)\n",
    "    for key,value in kwargs.items():\n",
    "        print(key,value)\n",
    "myfunc('jaya','kumari',a= 1,b=-2,c= 3)\n",
    "        "
   ]
  },
  {
   "cell_type": "markdown",
   "metadata": {},
   "source": [
    "### Python Callback Function\n",
    "* A callback is a function that is passed as an argument to other function. \n",
    "* This other function is expected to call this callback function in its definition."
   ]
  },
  {
   "cell_type": "code",
   "execution_count": 30,
   "metadata": {},
   "outputs": [
    {
     "name": "stdout",
     "output_type": "stream",
     "text": [
      "7\n",
      "12\n"
     ]
    }
   ],
   "source": [
    "def add(x,y):\n",
    "    print(x+y)\n",
    "def mult(x,y,add):\n",
    "    print(x*y)\n",
    "     \n",
    "mult(3,4,add(3,4))    "
   ]
  },
  {
   "cell_type": "markdown",
   "metadata": {},
   "source": [
    "### Python Classes and Objects\n",
    "* Python Class\n",
    "* Python being an Object Oriented Programming language, everything in Python is considered to be an object. \n",
    "* Each object has its properties and methods.\n",
    "* Class is a blueprint for objects of that class type. "
   ]
  },
  {
   "cell_type": "code",
   "execution_count": 31,
   "metadata": {},
   "outputs": [],
   "source": [
    "class Developer:\n",
    "  hoursperday = 8"
   ]
  },
  {
   "cell_type": "code",
   "execution_count": 32,
   "metadata": {},
   "outputs": [],
   "source": [
    "### Simple Example for Creating a Method in Python Class\n",
    "\n",
    "class Developer:\n",
    "  def createProject(self):\n",
    "    print('The developer created a project.')"
   ]
  },
  {
   "cell_type": "code",
   "execution_count": 33,
   "metadata": {},
   "outputs": [
    {
     "name": "stdout",
     "output_type": "stream",
     "text": [
      "Enhance your data science skills.\n"
     ]
    }
   ],
   "source": [
    "### Calling the method\n",
    "class Developer:\n",
    "  hoursperday = 8\n",
    "  \n",
    "  def createProject(self):\n",
    "    print('Enhance your data science skills.')\n",
    "\t\n",
    "#create object\n",
    "dev1 = Developer()\n",
    "\n",
    "#call object's method\n",
    "### Accessing Properties and Methods of Python Class\n",
    "### We can access the properties and methods using dot operator.\n",
    "dev1.createProject()"
   ]
  },
  {
   "cell_type": "markdown",
   "metadata": {},
   "source": [
    "### Python init()\n",
    "* __init__() is a builtin function in Python, that is called whenever an object is created.\n",
    "* If __init__() function is not defined in a class, there will be an implicit call to the inbuilt __init__() function.\n",
    "* __init__() function initialized parameters, with the values passed as arguments to it.\n",
    "* The parameters can be accessed in other methods of the class and also with the object reference."
   ]
  },
  {
   "cell_type": "code",
   "execution_count": 34,
   "metadata": {},
   "outputs": [
    {
     "name": "stdout",
     "output_type": "stream",
     "text": [
      "Name : Jaya\n",
      "Course : Data Science\n"
     ]
    }
   ],
   "source": [
    "class intro:\n",
    "     def __init__(self,name,course):\n",
    "        self.name=name\n",
    "        self.course=course\n",
    "    \n",
    "     def details(self):\n",
    "        print(\"Name :\",self.name)\n",
    "        print(\"Course :\",self.course)\n",
    "        \n",
    "obj=intro(\"Jaya\",\"Data Science\")\n",
    "obj.details()"
   ]
  },
  {
   "cell_type": "markdown",
   "metadata": {},
   "source": [
    "## Python Keywords\n",
    "* Get the list of all keywords programmatically\n",
    "* To get the list of all keywords of Python programmatically, you can use kwlist of keyword library.\n",
    "\n"
   ]
  },
  {
   "cell_type": "code",
   "execution_count": 35,
   "metadata": {},
   "outputs": [
    {
     "name": "stdout",
     "output_type": "stream",
     "text": [
      "keywords: ['False', 'None', 'True', 'and', 'as', 'assert', 'async', 'await', 'break', 'class', 'continue', 'def', 'del', 'elif', 'else', 'except', 'finally', 'for', 'from', 'global', 'if', 'import', 'in', 'is', 'lambda', 'nonlocal', 'not', 'or', 'pass', 'raise', 'return', 'try', 'while', 'with', 'yield']\n"
     ]
    }
   ],
   "source": [
    "import keyword\n",
    "keywords=keyword.kwlist\n",
    "print(\"keywords:\",keywords)"
   ]
  },
  {
   "cell_type": "code",
   "execution_count": 36,
   "metadata": {},
   "outputs": [],
   "source": [
    "## Python – Check if List is Empty\n",
    "### To check if Python List is empty, you can write a condition if the length of the list is zero or not;\n",
    "## Following is the syntax to use not operator and the list as a condition to check if the list is empty."
   ]
  },
  {
   "cell_type": "code",
   "execution_count": 37,
   "metadata": {},
   "outputs": [
    {
     "name": "stdout",
     "output_type": "stream",
     "text": [
      "empty\n"
     ]
    }
   ],
   "source": [
    "mylist=[]\n",
    "if not mylist:\n",
    "    print(\"empty\")"
   ]
  },
  {
   "cell_type": "code",
   "execution_count": 38,
   "metadata": {},
   "outputs": [
    {
     "name": "stdout",
     "output_type": "stream",
     "text": [
      "yes\n"
     ]
    }
   ],
   "source": [
    "## check if the list is empty\n",
    "mylist=[]\n",
    "if len(mylist) == 0:\n",
    "     print(\"yes\")\n",
    "else:\n",
    "        print(\"not\")\n"
   ]
  },
  {
   "cell_type": "code",
   "execution_count": 39,
   "metadata": {},
   "outputs": [
    {
     "name": "stdout",
     "output_type": "stream",
     "text": [
      "The list is empty.\n"
     ]
    }
   ],
   "source": [
    "mylist = []\n",
    "if not mylist:\n",
    "    print('The list is empty.')\n",
    "else:\n",
    "    print('The list is not empty.')\n"
   ]
  },
  {
   "cell_type": "markdown",
   "metadata": {},
   "source": [
    "#### Check if String is Python Keyword\n",
    "* To check if given string is a keyword, pass the string to the function keyword.iskeyword(string) of keyword library."
   ]
  },
  {
   "cell_type": "code",
   "execution_count": 40,
   "metadata": {},
   "outputs": [
    {
     "name": "stdout",
     "output_type": "stream",
     "text": [
      "keyword: if\n",
      "True\n"
     ]
    }
   ],
   "source": [
    "import keyword\n",
    "key=input(\"keyword: \")\n",
    "result=keyword.iskeyword(key)\n",
    "print(result)"
   ]
  },
  {
   "cell_type": "markdown",
   "metadata": {},
   "source": [
    "### Python Lambda Function\n",
    "* Python Lambda function is a single line function whose body is just an expression and can accept multiple arguments.\n",
    "#### syntax\n",
    "* x = lambda arguments : expression"
   ]
  },
  {
   "cell_type": "code",
   "execution_count": 41,
   "metadata": {},
   "outputs": [
    {
     "name": "stdout",
     "output_type": "stream",
     "text": [
      "36\n"
     ]
    }
   ],
   "source": [
    "#lambda function Example\n",
    "square = lambda a: a*a\n",
    "#call lambda function\n",
    "result = square(6)\n",
    "print(result)"
   ]
  },
  {
   "cell_type": "code",
   "execution_count": 42,
   "metadata": {},
   "outputs": [
    {
     "name": "stdout",
     "output_type": "stream",
     "text": [
      "120\n"
     ]
    }
   ],
   "source": [
    "### Factorial of a given number\n",
    "#recursive lambda function\n",
    "factorial = lambda a: a*factorial(a-1) if (a>1) else 1\n",
    "#call lambda function\n",
    "result = factorial(5)\n",
    "print(result)"
   ]
  },
  {
   "cell_type": "code",
   "execution_count": 43,
   "metadata": {},
   "outputs": [
    {
     "name": "stdout",
     "output_type": "stream",
     "text": [
      "9.0\n",
      "27.0\n",
      "81.0\n"
     ]
    }
   ],
   "source": [
    "import math\n",
    "#function returning lambda function\n",
    "def myfunc(n):\n",
    "     return lambda a : math.pow(a, n)\n",
    "\n",
    "#lambda functions\n",
    "square = myfunc(2) #square = lambda a : math.pow(a, 2)\n",
    "cube = myfunc(3) #cube =  = lambda a : math.pow(a, 3)\n",
    "squareroot = myfunc(4) #squareroot = lambda a : math.pow(a, 4) \n",
    "\n",
    "print(square(3))\n",
    "print(cube(3))\n",
    "print(squareroot(3))"
   ]
  },
  {
   "cell_type": "code",
   "execution_count": 44,
   "metadata": {},
   "outputs": [
    {
     "name": "stdout",
     "output_type": "stream",
     "text": [
      "4\n",
      "125\n"
     ]
    }
   ],
   "source": [
    "x=lambda n:n**2 if n%2 == 0 else (n**3)\n",
    "print(x(2))\n",
    "print(x(5))"
   ]
  },
  {
   "cell_type": "markdown",
   "metadata": {},
   "source": [
    "Lambda Function with Nested If Else Condition"
   ]
  },
  {
   "cell_type": "code",
   "execution_count": 45,
   "metadata": {},
   "outputs": [
    {
     "name": "stdout",
     "output_type": "stream",
     "text": [
      "2\n",
      "100\n"
     ]
    }
   ],
   "source": [
    "x= lambda n: n**2 if n%10==0 else (n if n%2==0 else n**3)\n",
    "print(x(2))\n",
    "print(x(10))\n"
   ]
  },
  {
   "cell_type": "markdown",
   "metadata": {},
   "source": [
    "### Python Recursion\n",
    "* Python Recursion is a technique in which a function calls itself. "
   ]
  },
  {
   "cell_type": "code",
   "execution_count": 46,
   "metadata": {},
   "outputs": [
    {
     "name": "stdout",
     "output_type": "stream",
     "text": [
      "<function func.<locals>.<lambda> at 0x000002BB8E782AF0>\n"
     ]
    }
   ],
   "source": [
    "def func(n):\n",
    "#     x=input(\"number :\")\n",
    "    return (lambda n:1 if n<=1 else n*factorial(n-1))\n",
    "print(func(5)) "
   ]
  },
  {
   "cell_type": "code",
   "execution_count": 47,
   "metadata": {},
   "outputs": [
    {
     "name": "stdout",
     "output_type": "stream",
     "text": [
      "1\n",
      "24\n",
      "120\n"
     ]
    }
   ],
   "source": [
    "def factorial(x):\n",
    "    if (x < 1):\n",
    "        return 1\n",
    "    else:\n",
    "        return x*factorial(x-1)\n",
    "    \n",
    "print(factorial(0))\n",
    "print(factorial(4))\n",
    "print(factorial(5))\n",
    "        \n",
    "        "
   ]
  },
  {
   "cell_type": "markdown",
   "metadata": {},
   "source": [
    "### Fibonacci Series\n",
    "* The Fibonacci numbers are the numbers in the following integer sequence.\n",
    "* 0, 1, 1, 2, 3, 5, 8, 13, 21, 34, 55, 89, 144, ……..\n",
    "*  the sequence Fn of Fibonacci numbers is defined by the recurrence relation \n",
    "\n",
    "* Fn = Fn-1 + Fn-2\n",
    "* For example, if n = 0, then fib() should return 0. If n = 1, then it should return 1.\n",
    "* For n > 1, it should return Fn-1 + Fn-2"
   ]
  },
  {
   "cell_type": "code",
   "execution_count": 48,
   "metadata": {},
   "outputs": [
    {
     "name": "stdout",
     "output_type": "stream",
     "text": [
      "range:5\n",
      "0 1 1 2 3 "
     ]
    }
   ],
   "source": [
    "def fibonacci(n):\n",
    " \n",
    "    if n<=1:\n",
    "        return n\n",
    "    else:\n",
    "        return (fibonacci(n-1)+fibonacci(n-2))\n",
    "size=int(input(\"range:\"))\n",
    "for i in range(size):\n",
    "    \n",
    "     print(fibonacci(i),end=\" \")\n",
    "\n",
    "    \n",
    "    "
   ]
  },
  {
   "cell_type": "code",
   "execution_count": 49,
   "metadata": {},
   "outputs": [
    {
     "name": "stdout",
     "output_type": "stream",
     "text": [
      "1 1 2 3 5 8 13 21 34 55 "
     ]
    }
   ],
   "source": [
    "def fibo(n):\n",
    "      if n<=1:\n",
    "            return 1\n",
    "      else:\n",
    "        return (fibo(n-1)+fibo(n-2))\n",
    "for i in range(10):\n",
    "    print(fibo(i),end=\" \")            \n",
    "    "
   ]
  },
  {
   "cell_type": "code",
   "execution_count": 1,
   "metadata": {},
   "outputs": [
    {
     "data": {
      "text/plain": [
       "24"
      ]
     },
     "execution_count": 1,
     "metadata": {},
     "output_type": "execute_result"
    }
   ],
   "source": [
    "#fact\n",
    "def fact(n):\n",
    "    if n<=1:\n",
    "        return 1\n",
    "    else:\n",
    "        return n*fact(n-1)\n",
    "fact(4)    "
   ]
  },
  {
   "cell_type": "markdown",
   "metadata": {},
   "source": [
    "### Python Global Variable\n",
    "* Python Global Variable is a variable that has the scope of whole program.\n",
    "* The variable can be accessed anywhere in the program, be it inside or outside of the functions defined in the program."
   ]
  },
  {
   "cell_type": "code",
   "execution_count": 51,
   "metadata": {},
   "outputs": [
    {
     "name": "stdout",
     "output_type": "stream",
     "text": [
      "hello world 1\n",
      "hello world 1\n"
     ]
    }
   ],
   "source": [
    "x='hello - global'\n",
    "def func():\n",
    "    global x ## refeering to the abv x and thus chnges the value of x\n",
    "    x=\"hello world 1\"\n",
    "    print(x)\n",
    "func()\n",
    "print(x)"
   ]
  },
  {
   "cell_type": "markdown",
   "metadata": {},
   "source": [
    "### Python Regex\n",
    "Python Regular Expressions or shortly RegEx are used to create search patterns. \n",
    "These search patterns are used to search a specified pattern in a string."
   ]
  },
  {
   "cell_type": "markdown",
   "metadata": {},
   "source": [
    "### Python Builtin Functions\n",
    "* abs()\n",
    "* filter()\n",
    "* len()\n",
    "* map()\n",
    "* max()\n",
    "* min()\n",
    "* pow()\n",
    "* range()\n",
    "* sorted()\n",
    "* str()\n",
    "* type()"
   ]
  },
  {
   "cell_type": "markdown",
   "metadata": {},
   "source": [
    "### Python abs() Function – Find Absolute Value\n",
    "* Python abs() function can be used to calculate the absolute value of a number."
   ]
  },
  {
   "cell_type": "code",
   "execution_count": 52,
   "metadata": {},
   "outputs": [
    {
     "name": "stdout",
     "output_type": "stream",
     "text": [
      "Absolute value of -1 is 1.\n"
     ]
    }
   ],
   "source": [
    "### find the absolute value of a negative number.\n",
    "x=-1\n",
    "absval=abs(x)\n",
    "print(f'Absolute value of {x} is {absval}.')"
   ]
  },
  {
   "cell_type": "markdown",
   "metadata": {},
   "source": [
    "### String as argument to abs() – TypeError\n",
    "* If we provide any other argument of type other than number, we will get TypeError."
   ]
  },
  {
   "cell_type": "code",
   "execution_count": 53,
   "metadata": {},
   "outputs": [
    {
     "ename": "TypeError",
     "evalue": "bad operand type for abs(): 'str'",
     "output_type": "error",
     "traceback": [
      "\u001b[1;31m---------------------------------------------------------------------------\u001b[0m",
      "\u001b[1;31mTypeError\u001b[0m                                 Traceback (most recent call last)",
      "\u001b[1;32m<ipython-input-53-da596b879c5d>\u001b[0m in \u001b[0;36m<module>\u001b[1;34m\u001b[0m\n\u001b[0;32m      1\u001b[0m \u001b[0mval\u001b[0m\u001b[1;33m=\u001b[0m\u001b[1;34m\"DS\"\u001b[0m\u001b[1;33m\u001b[0m\u001b[1;33m\u001b[0m\u001b[0m\n\u001b[1;32m----> 2\u001b[1;33m \u001b[0mval1\u001b[0m\u001b[1;33m=\u001b[0m\u001b[0mabs\u001b[0m\u001b[1;33m(\u001b[0m\u001b[0mval\u001b[0m\u001b[1;33m)\u001b[0m\u001b[1;33m\u001b[0m\u001b[1;33m\u001b[0m\u001b[0m\n\u001b[0m\u001b[0;32m      3\u001b[0m \u001b[0mprint\u001b[0m\u001b[1;33m(\u001b[0m\u001b[0mval1\u001b[0m\u001b[1;33m)\u001b[0m\u001b[1;33m\u001b[0m\u001b[1;33m\u001b[0m\u001b[0m\n",
      "\u001b[1;31mTypeError\u001b[0m: bad operand type for abs(): 'str'"
     ]
    }
   ],
   "source": [
    "val=\"DS\"\n",
    "val1=abs(val)\n",
    "print(val1)"
   ]
  },
  {
   "cell_type": "markdown",
   "metadata": {},
   "source": [
    "## Python Filter Function\n",
    "Python filter() function is used to filter the elements of an iterable based on a function."
   ]
  },
  {
   "cell_type": "markdown",
   "metadata": {},
   "source": [
    "## syntax : filter(function, iterable)\n",
    "where in for the first argument, you can pass a regular Python function or Python\n",
    "lambda function. For the second argument you can pass any collection that is iterable,\n",
    "for example, tuple, list, etc.\n"
   ]
  },
  {
   "cell_type": "code",
   "execution_count": null,
   "metadata": {},
   "outputs": [],
   "source": [
    "list=[12,43,4,5,6,3,8,9,80]\n",
    "output=filter(lambda n:True if n%2 ==0 else False,list)\n",
    "for i in output:\n",
    "    print(i)"
   ]
  },
  {
   "cell_type": "markdown",
   "metadata": {},
   "source": [
    "### Python map() Function\n",
    "* Python map() function applies given function to each element of the iterable and returns a map object.\n",
    "* The map object itself is an iterable.\n",
    "* syntax --map(function, iterables)"
   ]
  },
  {
   "cell_type": "code",
   "execution_count": null,
   "metadata": {},
   "outputs": [],
   "source": [
    "def mul(n):\n",
    "    return n*2\n",
    "x=map(mul,[1,23,4,9,0,7])\n",
    "print(tuple(x))"
   ]
  },
  {
   "cell_type": "code",
   "execution_count": null,
   "metadata": {},
   "outputs": [],
   "source": [
    "x=map(lambda n:n**2 ,[1,2,34,0,8])\n",
    "print(list(x))"
   ]
  },
  {
   "cell_type": "markdown",
   "metadata": {},
   "source": [
    "Python DateTime now() Function\n",
    "* datetime.datetime.now() function returns datetime object containing current date and time of the \n",
    "* system during the execution of now() statement."
   ]
  },
  {
   "cell_type": "code",
   "execution_count": null,
   "metadata": {},
   "outputs": [],
   "source": [
    "from datetime import datetime\n",
    "datetime_1=datetime.now()\n",
    "print(str(datetime_1))"
   ]
  },
  {
   "cell_type": "markdown",
   "metadata": {},
   "source": [
    "### Python General Examples"
   ]
  },
  {
   "cell_type": "code",
   "execution_count": null,
   "metadata": {},
   "outputs": [],
   "source": [
    "def sum(a,b):\n",
    "    res=a+b\n",
    "    res\n",
    "sum(2,3)"
   ]
  },
  {
   "cell_type": "code",
   "execution_count": null,
   "metadata": {},
   "outputs": [],
   "source": [
    "import random\n",
    "x=10\n",
    "res=random.randint(1,x)\n",
    "res"
   ]
  },
  {
   "cell_type": "code",
   "execution_count": null,
   "metadata": {},
   "outputs": [],
   "source": [
    "import random\n",
    "import string\n",
    "x=10\n",
    "value=string.ascii_letters\n",
    "val1=string.digits\n",
    "val2=string.punctuation\n",
    "final_value=value+val1+val2\n",
    " \n",
    "res=[]\n",
    "for i in range(x):\n",
    "    res.append(random.choice(final_value))\n",
    "print('Password:',\"\".join(res))\n",
    " \n",
    "\n",
    " "
   ]
  },
  {
   "cell_type": "markdown",
   "metadata": {},
   "source": [
    "*  Random Floting Point Number in the Range (min, max)\n",
    "* min+ ensures that the generated random value has atleast a value of min. \n",
    "* (max-min)*random.random() ensures that the value does not exceed the maximum limit."
   ]
  },
  {
   "cell_type": "markdown",
   "metadata": {},
   "source": [
    "f = min + (max-min)*random.random()\n",
    "\n",
    "#random.random generates a value in the range (0, 1)\n",
    "\n",
    "f = min + (max-min)*(0, 1)\n",
    "\n",
    "Resulting_Range = (min + (max-min)*0, min + (max-min)*1)\n",
    "= (min + 0, min + max - min)\n",
    "= (min, max)"
   ]
  },
  {
   "cell_type": "code",
   "execution_count": null,
   "metadata": {},
   "outputs": [],
   "source": [
    "x=[1,2,8,5,0,9]\n",
    "x.sort()\n",
    "x\n",
    "print(\"second smallest number :\",x[1])"
   ]
  },
  {
   "cell_type": "markdown",
   "metadata": {},
   "source": [
    "### Get Number of Elements in DataFrame"
   ]
  },
  {
   "cell_type": "code",
   "execution_count": null,
   "metadata": {},
   "outputs": [],
   "source": [
    "import pandas as pd\n",
    "x=pd.DataFrame([[1,2,3,4],[2,34,5,6],[3,4,6,7]])\n",
    "x\n",
    " "
   ]
  },
  {
   "cell_type": "markdown",
   "metadata": {},
   "source": [
    "Python – Swap Two Numbers"
   ]
  },
  {
   "cell_type": "code",
   "execution_count": null,
   "metadata": {},
   "outputs": [],
   "source": [
    "a=7\n",
    "b=10\n",
    "a,b=b,a\n",
    "print(a,b)"
   ]
  },
  {
   "cell_type": "markdown",
   "metadata": {},
   "source": [
    "Find the sum of first N natural numbers with Python Program"
   ]
  },
  {
   "cell_type": "code",
   "execution_count": null,
   "metadata": {},
   "outputs": [],
   "source": [
    "sum=0\n",
    "for i in range(1,6):\n",
    "     sum+=i \n",
    "print(sum)"
   ]
  },
  {
   "cell_type": "markdown",
   "metadata": {},
   "source": [
    "Python – Star Pattern Programs"
   ]
  },
  {
   "cell_type": "code",
   "execution_count": 2,
   "metadata": {},
   "outputs": [
    {
     "name": "stdout",
     "output_type": "stream",
     "text": [
      " *   *   *   *   *   *  \n",
      " *   *   *   *   *   *  \n",
      " *   *   *   *   *   *  \n"
     ]
    }
   ],
   "source": [
    "def rectangle(a,b):\n",
    "    for i in range(0,a):\n",
    "        for j in range(0,b):\n",
    "            print(\" * \",end=\" \")\n",
    "        print('')\n",
    "rectangle(3,6)"
   ]
  },
  {
   "cell_type": "markdown",
   "metadata": {},
   "source": [
    "Right angle triagle "
   ]
  },
  {
   "cell_type": "code",
   "execution_count": 3,
   "metadata": {},
   "outputs": [
    {
     "name": "stdout",
     "output_type": "stream",
     "text": [
      " *   \n",
      " *   *   \n",
      " *   *   *   \n",
      " *   *   *   *   \n",
      " *   *   *   *   *   \n",
      " *   *   *   *   *   *   \n"
     ]
    }
   ],
   "source": [
    "def triangle(n):\n",
    "    for i in range(0,n):\n",
    "        for j in range(0,n):\n",
    "            if i>=j:\n",
    "                print(\" * \",end=\" \")\n",
    "        print(' ')       \n",
    "triangle(6)                "
   ]
  },
  {
   "cell_type": "code",
   "execution_count": 26,
   "metadata": {},
   "outputs": [
    {
     "name": "stdout",
     "output_type": "stream",
     "text": [
      " *   \n",
      " *   *   \n",
      " *   *   *   \n",
      " *   *   *   *   \n",
      " *   *   *   *   *   \n",
      " *   *   *   *   *   *   \n"
     ]
    }
   ],
   "source": [
    "def triangle(n):\n",
    "    for i in range(0,n):\n",
    "        for j in range(0,i+1):\n",
    "            \n",
    "            print(\" * \",end=\" \")\n",
    "        print(' ')   \n",
    "triangle(6)            "
   ]
  },
  {
   "cell_type": "code",
   "execution_count": 11,
   "metadata": {},
   "outputs": [
    {
     "name": "stdout",
     "output_type": "stream",
     "text": [
      "                * \n",
      "             *  *  * \n",
      "          *  *  *  *  * \n",
      "       *  *  *  *  *  *  * \n",
      "    *  *  *  *  *  *  *  *  * \n"
     ]
    }
   ],
   "source": [
    "def pattern(a):\n",
    "    for i in range(0,a):\n",
    "        for j in range(0,(a-i)):\n",
    "            print('  ',end=\" \")\n",
    "        for j in range(0,2*i+1) :\n",
    "            print(' * ',end='')\n",
    "        print('')\n",
    "pattern(5)        \n",
    "   "
   ]
  },
  {
   "cell_type": "code",
   "execution_count": 12,
   "metadata": {},
   "outputs": [
    {
     "name": "stdout",
     "output_type": "stream",
     "text": [
      "             * \n",
      "          *  *  * \n",
      "       *  *  *  *  * \n",
      "    *  *  *  *  *  *  * \n"
     ]
    }
   ],
   "source": [
    "def drawPattern(a):\n",
    "\tfor x in range(0, a):\n",
    "\t\tfor y in range(0,(a-x)):\n",
    "\t\t\tprint('   ', end='')\n",
    "\t\tfor y in range(0, 2*x+1):\n",
    "\t\t\tprint(' * ', end='')\n",
    "\t\tprint('')\n",
    "\t\t\n",
    "drawPattern(4)"
   ]
  },
  {
   "cell_type": "code",
   "execution_count": 25,
   "metadata": {},
   "outputs": [
    {
     "name": "stdout",
     "output_type": "stream",
     "text": [
      "                     *  \n",
      "                 *   *   *  \n",
      "             *   *   *   *   *  \n",
      "         *   *   *   *   *   *   *  \n",
      "     *   *   *   *   *   *   *   *   *  \n"
     ]
    }
   ],
   "source": [
    "def py(n):\n",
    "    for i in range(0,n):\n",
    "        for j in range(0,n-i):\n",
    "            print(\"   \" ,end=\" \")\n",
    "        for j in range(0,2*i+1):\n",
    "            print(\" * \",end=\" \")\n",
    "        print('')    \n",
    "py(5)            "
   ]
  },
  {
   "cell_type": "markdown",
   "metadata": {},
   "source": [
    "Python Program to Check Armstrong Number\n",
    "* abcd... = pow(a,n) +  pow(b,n) + pow(c,n) + ...\n",
    "*Algorithm:\n",
    "1. The number of digits in num is found out\n",
    "2. The individual digits are obtained by performing num mod 10, where mod is the remainder operation.\n",
    "3. The digit is raised to the power of the number of digits and stored\n",
    "4. Then the number is divided by 10 to obtain the second digit.\n",
    "5. Steps 2,3 and 4 are repeated until the value of num is greater than 0\n",
    "6. Once num is less than 0, end the while loop\n",
    "7. Check if the sum obtained is same as the original number\n",
    "8. If yes, then the number is an armstrong number\n",
    "\n"
   ]
  },
  {
   "cell_type": "code",
   "execution_count": 5,
   "metadata": {},
   "outputs": [
    {
     "name": "stdout",
     "output_type": "stream",
     "text": [
      "Enter a number:153\n",
      "yes\n"
     ]
    }
   ],
   "source": [
    "num=int(input(\"Enter a number:\"))\n",
    "x=str(num)\n",
    "n=len(x)\n",
    "sum=0\n",
    "temp=num\n",
    "while temp>0:   \n",
    "    a=temp%10\n",
    "    sum+=a**n\n",
    "    temp//=10\n",
    "    \n",
    "if num==sum:\n",
    "    print(\"yes\")\n",
    "else:\n",
    "    print(\"No\")\n",
    "    "
   ]
  },
  {
   "cell_type": "code",
   "execution_count": 7,
   "metadata": {},
   "outputs": [
    {
     "name": "stdout",
     "output_type": "stream",
     "text": [
      "{'jayakumari': 2, 'deepak': 1}\n"
     ]
    },
    {
     "data": {
      "text/plain": [
       "3"
      ]
     },
     "execution_count": 7,
     "metadata": {},
     "output_type": "execute_result"
    }
   ],
   "source": [
    "## frequent occuring value in string'\n",
    "a=[\"jayakumari\",\"deepak\",\"jayakumari\"]\n",
    "x={}\n",
    "for i in a:\n",
    "    if i in x:\n",
    "        x[i]+=1\n",
    "    else:\n",
    "        x[i]=1\n",
    "print(x) \n",
    "len(a) "
   ]
  },
  {
   "cell_type": "code",
   "execution_count": null,
   "metadata": {},
   "outputs": [],
   "source": [
    "names=['Deepak','Reema','John','Deepak','Munna','Reema','Deepak','Amit','John','Reema']\n",
    "di={}\n",
    "for i in names:\n",
    "    if i in di:\n",
    "        di[i]+=1\n",
    "    else:\n",
    "        di[i]=1\n",
    "print(di)    "
   ]
  },
  {
   "cell_type": "code",
   "execution_count": null,
   "metadata": {},
   "outputs": [],
   "source": [
    "def fact(n):\n",
    "    return (1 if(n==1 or n==0) else n* fact(n-1))\n",
    "print(fact(5))\n",
    "       \n",
    "    "
   ]
  },
  {
   "cell_type": "markdown",
   "metadata": {},
   "source": [
    "### pascal"
   ]
  },
  {
   "cell_type": "code",
   "execution_count": 56,
   "metadata": {},
   "outputs": [
    {
     "name": "stdout",
     "output_type": "stream",
     "text": [
      "1 \n",
      "1 1 \n",
      "1 2 1 \n",
      "1 3 3 1 \n",
      "1 4 6 4 1 \n"
     ]
    }
   ],
   "source": [
    "### So C(line, i) can be calculated from C(line, i-1) in O(1) time\n",
    "def pascal(n):\n",
    "    for i in range(1,n+1):\n",
    "        c=1 # used to represent c(line,i)\n",
    "        for j in range(1,i+1):\n",
    "            print(c, end=\" \")\n",
    "            c=int(c*(i-j)/j)\n",
    "        print(\"\")  \n",
    "pascal(5)"
   ]
  },
  {
   "cell_type": "code",
   "execution_count": 63,
   "metadata": {},
   "outputs": [
    {
     "name": "stdout",
     "output_type": "stream",
     "text": [
      "number13\n",
      "prime number\n"
     ]
    }
   ],
   "source": [
    "### Prime Numbers\n",
    "num=int(input(\"number\"))\n",
    "if num>1:\n",
    "    for i in range(2,num):\n",
    "        if (num%i)==0:\n",
    "            print(\"not a prime number\")\n",
    "            break\n",
    "    else:\n",
    "            print(\"prime number\")\n",
    "    "
   ]
  },
  {
   "cell_type": "code",
   "execution_count": 75,
   "metadata": {},
   "outputs": [
    {
     "name": "stdout",
     "output_type": "stream",
     "text": [
      "2 3 5 7 11 13 17 19 23 29 31 37 41 43 47 53 59 61 67 71 73 79 83 89 97 "
     ]
    }
   ],
   "source": [
    "### prime numbers b/w a given range\n",
    "for num in range(1,100):\n",
    "    if num>1:\n",
    "        for i in range(2,num):\n",
    "            if (num%i==0):\n",
    "                break\n",
    "        else:\n",
    "            print(num,end=\" \")\n"
   ]
  },
  {
   "cell_type": "markdown",
   "metadata": {},
   "source": [
    "### ASCII code"
   ]
  },
  {
   "cell_type": "code",
   "execution_count": 77,
   "metadata": {},
   "outputs": [
    {
     "name": "stdout",
     "output_type": "stream",
     "text": [
      "97\n",
      "65\n"
     ]
    }
   ],
   "source": [
    "## char to int\n",
    "ch='a'\n",
    "print(ord(ch))\n",
    "print(ord('A'))"
   ]
  },
  {
   "cell_type": "code",
   "execution_count": 79,
   "metadata": {},
   "outputs": [
    {
     "name": "stdout",
     "output_type": "stream",
     "text": [
      "W\n"
     ]
    },
    {
     "data": {
      "text/plain": [
       "'a'"
      ]
     },
     "execution_count": 79,
     "metadata": {},
     "output_type": "execute_result"
    }
   ],
   "source": [
    "### int to char\n",
    "\n",
    "num=87\n",
    "print(chr(num))\n",
    "chr(97)"
   ]
  },
  {
   "cell_type": "code",
   "execution_count": 14,
   "metadata": {},
   "outputs": [
    {
     "name": "stdout",
     "output_type": "stream",
     "text": [
      "It's a palindrome\n"
     ]
    }
   ],
   "source": [
    "### palindrome\n",
    "a='malayalam'\n",
    "b=a[::-1]\n",
    "if a==b:\n",
    "    print(\"It's a palindrome\")\n",
    "else:\n",
    "    print(\"Not a palindrome\")"
   ]
  },
  {
   "cell_type": "code",
   "execution_count": 6,
   "metadata": {},
   "outputs": [
    {
     "name": "stdout",
     "output_type": "stream",
     "text": [
      "24\n"
     ]
    }
   ],
   "source": [
    "### LCM of 2 numbers\n",
    "a=12\n",
    "b=8\n",
    "res=max(a,b)\n",
    "res\n",
    "while True:\n",
    "    if ((res%a==0) and (res%b==0)):\n",
    "        break\n",
    "    res+=1\n",
    "print(res)\n",
    "\n"
   ]
  },
  {
   "cell_type": "code",
   "execution_count": null,
   "metadata": {},
   "outputs": [],
   "source": [
    "n=(12,8)\n",
    "res=max(n)\n",
    "res"
   ]
  },
  {
   "cell_type": "code",
   "execution_count": 13,
   "metadata": {},
   "outputs": [
    {
     "name": "stdout",
     "output_type": "stream",
     "text": [
      "50\n"
     ]
    }
   ],
   "source": [
    "### HCF OF TWO NUMBERS\n",
    "a=150\n",
    "b=500\n",
    "# mn=min(a,b)\n",
    "if a>b:\n",
    "    mn=b\n",
    "else :\n",
    "    mn=a\n",
    "for i in range(1,mn+1): \n",
    "    if ((a%i==0) and (b%i==0)):\n",
    "        hcf=i\n",
    "print(hcf)\n",
    " "
   ]
  },
  {
   "cell_type": "code",
   "execution_count": 11,
   "metadata": {},
   "outputs": [
    {
     "name": "stdout",
     "output_type": "stream",
     "text": [
      "50\n"
     ]
    }
   ],
   "source": [
    "### HCF using euclidean algorithm\n",
    "def hcf(x,y):\n",
    "    while y:\n",
    "        x,y=y,x%y\n",
    "    return x\n",
    "hcf1=hcf(150,500)\n",
    "print(hcf1)\n",
    "    "
   ]
  },
  {
   "cell_type": "code",
   "execution_count": null,
   "metadata": {},
   "outputs": [],
   "source": []
  }
 ],
 "metadata": {
  "kernelspec": {
   "display_name": "Python 3",
   "language": "python",
   "name": "python3"
  },
  "language_info": {
   "codemirror_mode": {
    "name": "ipython",
    "version": 3
   },
   "file_extension": ".py",
   "mimetype": "text/x-python",
   "name": "python",
   "nbconvert_exporter": "python",
   "pygments_lexer": "ipython3",
   "version": "3.8.3"
  }
 },
 "nbformat": 4,
 "nbformat_minor": 4
}
