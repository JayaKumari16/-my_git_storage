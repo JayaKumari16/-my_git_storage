{
 "cells": [
  {
   "cell_type": "code",
   "execution_count": 1,
   "metadata": {},
   "outputs": [],
   "source": [
    "import numpy as np\n",
    "import pandas as pd\n",
    "import matplotlib.pyplot as plt\n",
    "import seaborn as sns"
   ]
  },
  {
   "cell_type": "code",
   "execution_count": 2,
   "metadata": {},
   "outputs": [
    {
     "data": {
      "text/html": [
       "<div>\n",
       "<style scoped>\n",
       "    .dataframe tbody tr th:only-of-type {\n",
       "        vertical-align: middle;\n",
       "    }\n",
       "\n",
       "    .dataframe tbody tr th {\n",
       "        vertical-align: top;\n",
       "    }\n",
       "\n",
       "    .dataframe thead th {\n",
       "        text-align: right;\n",
       "    }\n",
       "</style>\n",
       "<table border=\"1\" class=\"dataframe\">\n",
       "  <thead>\n",
       "    <tr style=\"text-align: right;\">\n",
       "      <th></th>\n",
       "      <th>State Name</th>\n",
       "      <th>City Name</th>\n",
       "      <th>Crop_Year</th>\n",
       "      <th>Season</th>\n",
       "      <th>Crop Name</th>\n",
       "      <th>Area</th>\n",
       "      <th>Production</th>\n",
       "      <th>Rain Fall</th>\n",
       "      <th>Production\\nper Area</th>\n",
       "      <th>Input Cost\\n(High/Medium/Low)</th>\n",
       "      <th>Market Price\\n(High/Medium/Low)</th>\n",
       "      <th>Return\\n(High/Moderate/Low)</th>\n",
       "    </tr>\n",
       "  </thead>\n",
       "  <tbody>\n",
       "    <tr>\n",
       "      <th>0</th>\n",
       "      <td>Andaman and Nicobar Islands</td>\n",
       "      <td>NICOBARS</td>\n",
       "      <td>2000</td>\n",
       "      <td>Kharif</td>\n",
       "      <td>Arecanut</td>\n",
       "      <td>1254.0</td>\n",
       "      <td>2000.0</td>\n",
       "      <td>604.20</td>\n",
       "      <td>1.594896</td>\n",
       "      <td>Medium</td>\n",
       "      <td>Low</td>\n",
       "      <td>Low</td>\n",
       "    </tr>\n",
       "    <tr>\n",
       "      <th>1</th>\n",
       "      <td>Andaman and Nicobar Islands</td>\n",
       "      <td>NICOBARS</td>\n",
       "      <td>2000</td>\n",
       "      <td>Kharif</td>\n",
       "      <td>Other Kharif pulses</td>\n",
       "      <td>2.0</td>\n",
       "      <td>1.0</td>\n",
       "      <td>604.20</td>\n",
       "      <td>0.500000</td>\n",
       "      <td>High</td>\n",
       "      <td>High</td>\n",
       "      <td>Moderate</td>\n",
       "    </tr>\n",
       "    <tr>\n",
       "      <th>2</th>\n",
       "      <td>Andaman and Nicobar Islands</td>\n",
       "      <td>NICOBARS</td>\n",
       "      <td>2000</td>\n",
       "      <td>Kharif</td>\n",
       "      <td>Rice</td>\n",
       "      <td>102.0</td>\n",
       "      <td>321.0</td>\n",
       "      <td>604.20</td>\n",
       "      <td>3.147059</td>\n",
       "      <td>Low</td>\n",
       "      <td>Low</td>\n",
       "      <td>Low</td>\n",
       "    </tr>\n",
       "    <tr>\n",
       "      <th>3</th>\n",
       "      <td>Andaman and Nicobar Islands</td>\n",
       "      <td>NICOBARS</td>\n",
       "      <td>2000</td>\n",
       "      <td>Whole Year</td>\n",
       "      <td>Banana</td>\n",
       "      <td>176.0</td>\n",
       "      <td>641.0</td>\n",
       "      <td>1381.60</td>\n",
       "      <td>3.642045</td>\n",
       "      <td>Low</td>\n",
       "      <td>Low</td>\n",
       "      <td>Low</td>\n",
       "    </tr>\n",
       "    <tr>\n",
       "      <th>4</th>\n",
       "      <td>Andaman and Nicobar Islands</td>\n",
       "      <td>NICOBARS</td>\n",
       "      <td>2000</td>\n",
       "      <td>Whole Year</td>\n",
       "      <td>Cashewnut</td>\n",
       "      <td>720.0</td>\n",
       "      <td>165.0</td>\n",
       "      <td>1381.60</td>\n",
       "      <td>0.229167</td>\n",
       "      <td>High</td>\n",
       "      <td>High</td>\n",
       "      <td>Moderate</td>\n",
       "    </tr>\n",
       "    <tr>\n",
       "      <th>...</th>\n",
       "      <td>...</td>\n",
       "      <td>...</td>\n",
       "      <td>...</td>\n",
       "      <td>...</td>\n",
       "      <td>...</td>\n",
       "      <td>...</td>\n",
       "      <td>...</td>\n",
       "      <td>...</td>\n",
       "      <td>...</td>\n",
       "      <td>...</td>\n",
       "      <td>...</td>\n",
       "      <td>...</td>\n",
       "    </tr>\n",
       "    <tr>\n",
       "      <th>186834</th>\n",
       "      <td>Uttarakhand</td>\n",
       "      <td>UTTAR KASHI</td>\n",
       "      <td>2014</td>\n",
       "      <td>Whole Year</td>\n",
       "      <td>Onion</td>\n",
       "      <td>26.0</td>\n",
       "      <td>172.0</td>\n",
       "      <td>767.77</td>\n",
       "      <td>6.615385</td>\n",
       "      <td>Low</td>\n",
       "      <td>Low</td>\n",
       "      <td>Low</td>\n",
       "    </tr>\n",
       "    <tr>\n",
       "      <th>186835</th>\n",
       "      <td>Uttarakhand</td>\n",
       "      <td>UTTAR KASHI</td>\n",
       "      <td>2014</td>\n",
       "      <td>Whole Year</td>\n",
       "      <td>Pulses total</td>\n",
       "      <td>5346.0</td>\n",
       "      <td>4630.0</td>\n",
       "      <td>767.77</td>\n",
       "      <td>0.866068</td>\n",
       "      <td>Medium</td>\n",
       "      <td>Medium</td>\n",
       "      <td>Moderate</td>\n",
       "    </tr>\n",
       "    <tr>\n",
       "      <th>186836</th>\n",
       "      <td>Uttarakhand</td>\n",
       "      <td>UTTAR KASHI</td>\n",
       "      <td>2014</td>\n",
       "      <td>Whole Year</td>\n",
       "      <td>Rice</td>\n",
       "      <td>9919.0</td>\n",
       "      <td>16499.0</td>\n",
       "      <td>767.77</td>\n",
       "      <td>1.663373</td>\n",
       "      <td>Medium</td>\n",
       "      <td>Low</td>\n",
       "      <td>Low</td>\n",
       "    </tr>\n",
       "    <tr>\n",
       "      <th>186837</th>\n",
       "      <td>Uttarakhand</td>\n",
       "      <td>UTTAR KASHI</td>\n",
       "      <td>2014</td>\n",
       "      <td>Whole Year</td>\n",
       "      <td>Sunflower</td>\n",
       "      <td>3.0</td>\n",
       "      <td>3.0</td>\n",
       "      <td>767.77</td>\n",
       "      <td>1.000000</td>\n",
       "      <td>Medium</td>\n",
       "      <td>Medium</td>\n",
       "      <td>Moderate</td>\n",
       "    </tr>\n",
       "    <tr>\n",
       "      <th>186838</th>\n",
       "      <td>Uttarakhand</td>\n",
       "      <td>UTTAR KASHI</td>\n",
       "      <td>2014</td>\n",
       "      <td>Whole Year</td>\n",
       "      <td>Total foodgrain</td>\n",
       "      <td>35417.0</td>\n",
       "      <td>49689.0</td>\n",
       "      <td>767.77</td>\n",
       "      <td>1.402970</td>\n",
       "      <td>Medium</td>\n",
       "      <td>Medium</td>\n",
       "      <td>Moderate</td>\n",
       "    </tr>\n",
       "  </tbody>\n",
       "</table>\n",
       "<p>186839 rows × 12 columns</p>\n",
       "</div>"
      ],
      "text/plain": [
       "                         State Name    City Name  Crop_Year       Season  \\\n",
       "0       Andaman and Nicobar Islands     NICOBARS       2000  Kharif        \n",
       "1       Andaman and Nicobar Islands     NICOBARS       2000  Kharif        \n",
       "2       Andaman and Nicobar Islands     NICOBARS       2000  Kharif        \n",
       "3       Andaman and Nicobar Islands     NICOBARS       2000  Whole Year    \n",
       "4       Andaman and Nicobar Islands     NICOBARS       2000  Whole Year    \n",
       "...                             ...          ...        ...          ...   \n",
       "186834                  Uttarakhand  UTTAR KASHI       2014  Whole Year    \n",
       "186835                  Uttarakhand  UTTAR KASHI       2014  Whole Year    \n",
       "186836                  Uttarakhand  UTTAR KASHI       2014  Whole Year    \n",
       "186837                  Uttarakhand  UTTAR KASHI       2014  Whole Year    \n",
       "186838                  Uttarakhand  UTTAR KASHI       2014  Whole Year    \n",
       "\n",
       "                  Crop Name     Area  Production  Rain Fall  \\\n",
       "0                  Arecanut   1254.0      2000.0     604.20   \n",
       "1       Other Kharif pulses      2.0         1.0     604.20   \n",
       "2                      Rice    102.0       321.0     604.20   \n",
       "3                    Banana    176.0       641.0    1381.60   \n",
       "4                 Cashewnut    720.0       165.0    1381.60   \n",
       "...                     ...      ...         ...        ...   \n",
       "186834                Onion     26.0       172.0     767.77   \n",
       "186835         Pulses total   5346.0      4630.0     767.77   \n",
       "186836                 Rice   9919.0     16499.0     767.77   \n",
       "186837            Sunflower      3.0         3.0     767.77   \n",
       "186838      Total foodgrain  35417.0     49689.0     767.77   \n",
       "\n",
       "        Production\\nper Area Input Cost\\n(High/Medium/Low)  \\\n",
       "0                   1.594896                        Medium   \n",
       "1                   0.500000                          High   \n",
       "2                   3.147059                           Low   \n",
       "3                   3.642045                           Low   \n",
       "4                   0.229167                          High   \n",
       "...                      ...                           ...   \n",
       "186834              6.615385                           Low   \n",
       "186835              0.866068                        Medium   \n",
       "186836              1.663373                        Medium   \n",
       "186837              1.000000                        Medium   \n",
       "186838              1.402970                        Medium   \n",
       "\n",
       "       Market Price\\n(High/Medium/Low) Return\\n(High/Moderate/Low)  \n",
       "0                                  Low                         Low  \n",
       "1                                 High                    Moderate  \n",
       "2                                  Low                         Low  \n",
       "3                                  Low                         Low  \n",
       "4                                 High                    Moderate  \n",
       "...                                ...                         ...  \n",
       "186834                             Low                         Low  \n",
       "186835                          Medium                    Moderate  \n",
       "186836                             Low                         Low  \n",
       "186837                          Medium                    Moderate  \n",
       "186838                          Medium                    Moderate  \n",
       "\n",
       "[186839 rows x 12 columns]"
      ]
     },
     "execution_count": 2,
     "metadata": {},
     "output_type": "execute_result"
    }
   ],
   "source": [
    "df1=pd.read_excel(\"Agriculture Data.xlsx\",sheet_name='Training_Dataset')\n",
    "df1"
   ]
  },
  {
   "cell_type": "code",
   "execution_count": 4,
   "metadata": {},
   "outputs": [],
   "source": [
    "df2=pd.read_excel(\"Agriculture Data.xlsx\",sheet_name='Test_Dataset')"
   ]
  },
  {
   "cell_type": "code",
   "execution_count": 5,
   "metadata": {},
   "outputs": [
    {
     "data": {
      "text/html": [
       "<div>\n",
       "<style scoped>\n",
       "    .dataframe tbody tr th:only-of-type {\n",
       "        vertical-align: middle;\n",
       "    }\n",
       "\n",
       "    .dataframe tbody tr th {\n",
       "        vertical-align: top;\n",
       "    }\n",
       "\n",
       "    .dataframe thead th {\n",
       "        text-align: right;\n",
       "    }\n",
       "</style>\n",
       "<table border=\"1\" class=\"dataframe\">\n",
       "  <thead>\n",
       "    <tr style=\"text-align: right;\">\n",
       "      <th></th>\n",
       "      <th>State Name</th>\n",
       "      <th>City Name</th>\n",
       "      <th>Crop_Year</th>\n",
       "      <th>Season</th>\n",
       "      <th>Crop Name</th>\n",
       "      <th>Area</th>\n",
       "      <th>Production</th>\n",
       "      <th>Rain Fall</th>\n",
       "      <th>Production\\nper Area</th>\n",
       "      <th>Input Cost\\n(High/Medium/Low)</th>\n",
       "      <th>Market Price\\n(High/Medium/Low)</th>\n",
       "      <th>Return\\n(High/Moderate/Low)</th>\n",
       "    </tr>\n",
       "  </thead>\n",
       "  <tbody>\n",
       "    <tr>\n",
       "      <th>0</th>\n",
       "      <td>Chhattisgarh</td>\n",
       "      <td>BALOD</td>\n",
       "      <td>2011</td>\n",
       "      <td>Kharif</td>\n",
       "      <td>Arhar/Tur</td>\n",
       "      <td>607.0</td>\n",
       "      <td>290.0</td>\n",
       "      <td>633.510</td>\n",
       "      <td>0.477759</td>\n",
       "      <td>High</td>\n",
       "      <td>High</td>\n",
       "      <td>Moderate</td>\n",
       "    </tr>\n",
       "    <tr>\n",
       "      <th>1</th>\n",
       "      <td>Chhattisgarh</td>\n",
       "      <td>BALOD</td>\n",
       "      <td>2011</td>\n",
       "      <td>Kharif</td>\n",
       "      <td>Horse-gram</td>\n",
       "      <td>288.0</td>\n",
       "      <td>102.0</td>\n",
       "      <td>633.510</td>\n",
       "      <td>0.354167</td>\n",
       "      <td>High</td>\n",
       "      <td>High</td>\n",
       "      <td>Moderate</td>\n",
       "    </tr>\n",
       "    <tr>\n",
       "      <th>2</th>\n",
       "      <td>Chhattisgarh</td>\n",
       "      <td>BALOD</td>\n",
       "      <td>2011</td>\n",
       "      <td>Kharif</td>\n",
       "      <td>Jowar</td>\n",
       "      <td>11.0</td>\n",
       "      <td>8.0</td>\n",
       "      <td>633.510</td>\n",
       "      <td>0.727273</td>\n",
       "      <td>Medium</td>\n",
       "      <td>Medium</td>\n",
       "      <td>Moderate</td>\n",
       "    </tr>\n",
       "    <tr>\n",
       "      <th>3</th>\n",
       "      <td>Chhattisgarh</td>\n",
       "      <td>BALOD</td>\n",
       "      <td>2011</td>\n",
       "      <td>Kharif</td>\n",
       "      <td>Maize</td>\n",
       "      <td>125.0</td>\n",
       "      <td>149.0</td>\n",
       "      <td>633.510</td>\n",
       "      <td>1.192000</td>\n",
       "      <td>Medium</td>\n",
       "      <td>Medium</td>\n",
       "      <td>Low</td>\n",
       "    </tr>\n",
       "    <tr>\n",
       "      <th>4</th>\n",
       "      <td>Chhattisgarh</td>\n",
       "      <td>BALOD</td>\n",
       "      <td>2011</td>\n",
       "      <td>Kharif</td>\n",
       "      <td>Mesta</td>\n",
       "      <td>8.0</td>\n",
       "      <td>15.0</td>\n",
       "      <td>633.510</td>\n",
       "      <td>1.875000</td>\n",
       "      <td>Medium</td>\n",
       "      <td>Low</td>\n",
       "      <td>Moderate</td>\n",
       "    </tr>\n",
       "    <tr>\n",
       "      <th>...</th>\n",
       "      <td>...</td>\n",
       "      <td>...</td>\n",
       "      <td>...</td>\n",
       "      <td>...</td>\n",
       "      <td>...</td>\n",
       "      <td>...</td>\n",
       "      <td>...</td>\n",
       "      <td>...</td>\n",
       "      <td>...</td>\n",
       "      <td>...</td>\n",
       "      <td>...</td>\n",
       "      <td>...</td>\n",
       "    </tr>\n",
       "    <tr>\n",
       "      <th>59247</th>\n",
       "      <td>West Bengal</td>\n",
       "      <td>PURULIA</td>\n",
       "      <td>2012</td>\n",
       "      <td>Winter</td>\n",
       "      <td>Sesamum</td>\n",
       "      <td>224.0</td>\n",
       "      <td>88.0</td>\n",
       "      <td>48.400</td>\n",
       "      <td>0.392857</td>\n",
       "      <td>High</td>\n",
       "      <td>High</td>\n",
       "      <td>Low</td>\n",
       "    </tr>\n",
       "    <tr>\n",
       "      <th>59248</th>\n",
       "      <td>West Bengal</td>\n",
       "      <td>PURULIA</td>\n",
       "      <td>2013</td>\n",
       "      <td>Winter</td>\n",
       "      <td>Rice</td>\n",
       "      <td>302274.0</td>\n",
       "      <td>730136.0</td>\n",
       "      <td>48.400</td>\n",
       "      <td>2.415477</td>\n",
       "      <td>Low</td>\n",
       "      <td>Low</td>\n",
       "      <td>Moderate</td>\n",
       "    </tr>\n",
       "    <tr>\n",
       "      <th>59249</th>\n",
       "      <td>West Bengal</td>\n",
       "      <td>PURULIA</td>\n",
       "      <td>2013</td>\n",
       "      <td>Winter</td>\n",
       "      <td>Sesamum</td>\n",
       "      <td>208.0</td>\n",
       "      <td>101.0</td>\n",
       "      <td>21.800</td>\n",
       "      <td>0.485577</td>\n",
       "      <td>High</td>\n",
       "      <td>High</td>\n",
       "      <td>Low</td>\n",
       "    </tr>\n",
       "    <tr>\n",
       "      <th>59250</th>\n",
       "      <td>West Bengal</td>\n",
       "      <td>PURULIA</td>\n",
       "      <td>2014</td>\n",
       "      <td>Winter</td>\n",
       "      <td>Rice</td>\n",
       "      <td>279151.0</td>\n",
       "      <td>597899.0</td>\n",
       "      <td>21.800</td>\n",
       "      <td>2.141848</td>\n",
       "      <td>Low</td>\n",
       "      <td>Low</td>\n",
       "      <td>Moderate</td>\n",
       "    </tr>\n",
       "    <tr>\n",
       "      <th>59251</th>\n",
       "      <td>West Bengal</td>\n",
       "      <td>PURULIA</td>\n",
       "      <td>2014</td>\n",
       "      <td>Winter</td>\n",
       "      <td>Sesamum</td>\n",
       "      <td>175.0</td>\n",
       "      <td>88.0</td>\n",
       "      <td>44.215</td>\n",
       "      <td>0.502857</td>\n",
       "      <td>Medium</td>\n",
       "      <td>Medium</td>\n",
       "      <td>Low</td>\n",
       "    </tr>\n",
       "  </tbody>\n",
       "</table>\n",
       "<p>59252 rows × 12 columns</p>\n",
       "</div>"
      ],
      "text/plain": [
       "         State Name City Name  Crop_Year       Season   Crop Name      Area  \\\n",
       "0      Chhattisgarh     BALOD       2011  Kharif        Arhar/Tur     607.0   \n",
       "1      Chhattisgarh     BALOD       2011  Kharif       Horse-gram     288.0   \n",
       "2      Chhattisgarh     BALOD       2011  Kharif            Jowar      11.0   \n",
       "3      Chhattisgarh     BALOD       2011  Kharif            Maize     125.0   \n",
       "4      Chhattisgarh     BALOD       2011  Kharif            Mesta       8.0   \n",
       "...             ...       ...        ...          ...         ...       ...   \n",
       "59247   West Bengal   PURULIA       2012  Winter          Sesamum     224.0   \n",
       "59248   West Bengal   PURULIA       2013  Winter             Rice  302274.0   \n",
       "59249   West Bengal   PURULIA       2013  Winter          Sesamum     208.0   \n",
       "59250   West Bengal   PURULIA       2014  Winter             Rice  279151.0   \n",
       "59251   West Bengal   PURULIA       2014  Winter          Sesamum     175.0   \n",
       "\n",
       "       Production  Rain Fall  Production\\nper Area  \\\n",
       "0           290.0    633.510              0.477759   \n",
       "1           102.0    633.510              0.354167   \n",
       "2             8.0    633.510              0.727273   \n",
       "3           149.0    633.510              1.192000   \n",
       "4            15.0    633.510              1.875000   \n",
       "...           ...        ...                   ...   \n",
       "59247        88.0     48.400              0.392857   \n",
       "59248    730136.0     48.400              2.415477   \n",
       "59249       101.0     21.800              0.485577   \n",
       "59250    597899.0     21.800              2.141848   \n",
       "59251        88.0     44.215              0.502857   \n",
       "\n",
       "      Input Cost\\n(High/Medium/Low) Market Price\\n(High/Medium/Low)  \\\n",
       "0                              High                            High   \n",
       "1                              High                            High   \n",
       "2                            Medium                          Medium   \n",
       "3                            Medium                          Medium   \n",
       "4                            Medium                             Low   \n",
       "...                             ...                             ...   \n",
       "59247                          High                            High   \n",
       "59248                           Low                             Low   \n",
       "59249                          High                            High   \n",
       "59250                           Low                             Low   \n",
       "59251                        Medium                          Medium   \n",
       "\n",
       "      Return\\n(High/Moderate/Low)  \n",
       "0                        Moderate  \n",
       "1                        Moderate  \n",
       "2                        Moderate  \n",
       "3                             Low  \n",
       "4                        Moderate  \n",
       "...                           ...  \n",
       "59247                         Low  \n",
       "59248                    Moderate  \n",
       "59249                         Low  \n",
       "59250                    Moderate  \n",
       "59251                         Low  \n",
       "\n",
       "[59252 rows x 12 columns]"
      ]
     },
     "execution_count": 5,
     "metadata": {},
     "output_type": "execute_result"
    }
   ],
   "source": [
    "df2"
   ]
  },
  {
   "cell_type": "code",
   "execution_count": 6,
   "metadata": {},
   "outputs": [
    {
     "data": {
      "text/plain": [
       "(186839, 12)"
      ]
     },
     "execution_count": 6,
     "metadata": {},
     "output_type": "execute_result"
    }
   ],
   "source": [
    "df1.shape"
   ]
  },
  {
   "cell_type": "code",
   "execution_count": 7,
   "metadata": {},
   "outputs": [
    {
     "data": {
      "text/plain": [
       "(59252, 12)"
      ]
     },
     "execution_count": 7,
     "metadata": {},
     "output_type": "execute_result"
    }
   ],
   "source": [
    "df2.shape"
   ]
  },
  {
   "cell_type": "code",
   "execution_count": 8,
   "metadata": {},
   "outputs": [
    {
     "name": "stdout",
     "output_type": "stream",
     "text": [
      "<class 'pandas.core.frame.DataFrame'>\n",
      "RangeIndex: 186839 entries, 0 to 186838\n",
      "Data columns (total 12 columns):\n",
      " #   Column                          Non-Null Count   Dtype  \n",
      "---  ------                          --------------   -----  \n",
      " 0   State Name                      186839 non-null  object \n",
      " 1   City Name                       186839 non-null  object \n",
      " 2   Crop_Year                       186839 non-null  int64  \n",
      " 3   Season                          186839 non-null  object \n",
      " 4   Crop Name                       186839 non-null  object \n",
      " 5   Area                            186839 non-null  float64\n",
      " 6   Production                      184048 non-null  float64\n",
      " 7   Rain Fall                       186839 non-null  float64\n",
      " 8   Production\n",
      "per Area             186839 non-null  float64\n",
      " 9   Input Cost\n",
      "(High/Medium/Low)    186839 non-null  object \n",
      " 10  Market Price\n",
      "(High/Medium/Low)  186839 non-null  object \n",
      " 11  Return\n",
      "(High/Moderate/Low)      186839 non-null  object \n",
      "dtypes: float64(4), int64(1), object(7)\n",
      "memory usage: 17.1+ MB\n"
     ]
    }
   ],
   "source": [
    "df1.info()"
   ]
  },
  {
   "cell_type": "code",
   "execution_count": 9,
   "metadata": {},
   "outputs": [
    {
     "name": "stdout",
     "output_type": "stream",
     "text": [
      "<class 'pandas.core.frame.DataFrame'>\n",
      "RangeIndex: 59252 entries, 0 to 59251\n",
      "Data columns (total 12 columns):\n",
      " #   Column                          Non-Null Count  Dtype  \n",
      "---  ------                          --------------  -----  \n",
      " 0   State Name                      59252 non-null  object \n",
      " 1   City Name                       59252 non-null  object \n",
      " 2   Crop_Year                       59252 non-null  int64  \n",
      " 3   Season                          59252 non-null  object \n",
      " 4   Crop Name                       59252 non-null  object \n",
      " 5   Area                            59252 non-null  float64\n",
      " 6   Production                      58313 non-null  float64\n",
      " 7   Rain Fall                       59015 non-null  float64\n",
      " 8   Production\n",
      "per Area             59252 non-null  float64\n",
      " 9   Input Cost\n",
      "(High/Medium/Low)    59252 non-null  object \n",
      " 10  Market Price\n",
      "(High/Medium/Low)  59252 non-null  object \n",
      " 11  Return\n",
      "(High/Moderate/Low)      59252 non-null  object \n",
      "dtypes: float64(4), int64(1), object(7)\n",
      "memory usage: 5.4+ MB\n"
     ]
    }
   ],
   "source": [
    "df2.info()"
   ]
  },
  {
   "cell_type": "code",
   "execution_count": 10,
   "metadata": {},
   "outputs": [],
   "source": [
    "### df3=pd.merge(df1, df2, on='Crop Name')"
   ]
  },
  {
   "cell_type": "code",
   "execution_count": 11,
   "metadata": {},
   "outputs": [
    {
     "data": {
      "text/html": [
       "<div>\n",
       "<style scoped>\n",
       "    .dataframe tbody tr th:only-of-type {\n",
       "        vertical-align: middle;\n",
       "    }\n",
       "\n",
       "    .dataframe tbody tr th {\n",
       "        vertical-align: top;\n",
       "    }\n",
       "\n",
       "    .dataframe thead th {\n",
       "        text-align: right;\n",
       "    }\n",
       "</style>\n",
       "<table border=\"1\" class=\"dataframe\">\n",
       "  <thead>\n",
       "    <tr style=\"text-align: right;\">\n",
       "      <th></th>\n",
       "      <th>State Name</th>\n",
       "      <th>City Name</th>\n",
       "      <th>Crop_Year</th>\n",
       "      <th>Season</th>\n",
       "      <th>Crop Name</th>\n",
       "      <th>Area</th>\n",
       "      <th>Production</th>\n",
       "      <th>Rain Fall</th>\n",
       "      <th>Production\\nper Area</th>\n",
       "      <th>Input Cost\\n(High/Medium/Low)</th>\n",
       "      <th>Market Price\\n(High/Medium/Low)</th>\n",
       "      <th>Return\\n(High/Moderate/Low)</th>\n",
       "    </tr>\n",
       "  </thead>\n",
       "  <tbody>\n",
       "    <tr>\n",
       "      <th>0</th>\n",
       "      <td>Andaman and Nicobar Islands</td>\n",
       "      <td>NICOBARS</td>\n",
       "      <td>2000</td>\n",
       "      <td>Kharif</td>\n",
       "      <td>Arecanut</td>\n",
       "      <td>1254.0</td>\n",
       "      <td>2000.0</td>\n",
       "      <td>604.200</td>\n",
       "      <td>1.594896</td>\n",
       "      <td>Medium</td>\n",
       "      <td>Low</td>\n",
       "      <td>Low</td>\n",
       "    </tr>\n",
       "    <tr>\n",
       "      <th>1</th>\n",
       "      <td>Andaman and Nicobar Islands</td>\n",
       "      <td>NICOBARS</td>\n",
       "      <td>2000</td>\n",
       "      <td>Kharif</td>\n",
       "      <td>Other Kharif pulses</td>\n",
       "      <td>2.0</td>\n",
       "      <td>1.0</td>\n",
       "      <td>604.200</td>\n",
       "      <td>0.500000</td>\n",
       "      <td>High</td>\n",
       "      <td>High</td>\n",
       "      <td>Moderate</td>\n",
       "    </tr>\n",
       "    <tr>\n",
       "      <th>2</th>\n",
       "      <td>Andaman and Nicobar Islands</td>\n",
       "      <td>NICOBARS</td>\n",
       "      <td>2000</td>\n",
       "      <td>Kharif</td>\n",
       "      <td>Rice</td>\n",
       "      <td>102.0</td>\n",
       "      <td>321.0</td>\n",
       "      <td>604.200</td>\n",
       "      <td>3.147059</td>\n",
       "      <td>Low</td>\n",
       "      <td>Low</td>\n",
       "      <td>Low</td>\n",
       "    </tr>\n",
       "    <tr>\n",
       "      <th>3</th>\n",
       "      <td>Andaman and Nicobar Islands</td>\n",
       "      <td>NICOBARS</td>\n",
       "      <td>2000</td>\n",
       "      <td>Whole Year</td>\n",
       "      <td>Banana</td>\n",
       "      <td>176.0</td>\n",
       "      <td>641.0</td>\n",
       "      <td>1381.600</td>\n",
       "      <td>3.642045</td>\n",
       "      <td>Low</td>\n",
       "      <td>Low</td>\n",
       "      <td>Low</td>\n",
       "    </tr>\n",
       "    <tr>\n",
       "      <th>4</th>\n",
       "      <td>Andaman and Nicobar Islands</td>\n",
       "      <td>NICOBARS</td>\n",
       "      <td>2000</td>\n",
       "      <td>Whole Year</td>\n",
       "      <td>Cashewnut</td>\n",
       "      <td>720.0</td>\n",
       "      <td>165.0</td>\n",
       "      <td>1381.600</td>\n",
       "      <td>0.229167</td>\n",
       "      <td>High</td>\n",
       "      <td>High</td>\n",
       "      <td>Moderate</td>\n",
       "    </tr>\n",
       "    <tr>\n",
       "      <th>...</th>\n",
       "      <td>...</td>\n",
       "      <td>...</td>\n",
       "      <td>...</td>\n",
       "      <td>...</td>\n",
       "      <td>...</td>\n",
       "      <td>...</td>\n",
       "      <td>...</td>\n",
       "      <td>...</td>\n",
       "      <td>...</td>\n",
       "      <td>...</td>\n",
       "      <td>...</td>\n",
       "      <td>...</td>\n",
       "    </tr>\n",
       "    <tr>\n",
       "      <th>59247</th>\n",
       "      <td>West Bengal</td>\n",
       "      <td>PURULIA</td>\n",
       "      <td>2012</td>\n",
       "      <td>Winter</td>\n",
       "      <td>Sesamum</td>\n",
       "      <td>224.0</td>\n",
       "      <td>88.0</td>\n",
       "      <td>48.400</td>\n",
       "      <td>0.392857</td>\n",
       "      <td>High</td>\n",
       "      <td>High</td>\n",
       "      <td>Low</td>\n",
       "    </tr>\n",
       "    <tr>\n",
       "      <th>59248</th>\n",
       "      <td>West Bengal</td>\n",
       "      <td>PURULIA</td>\n",
       "      <td>2013</td>\n",
       "      <td>Winter</td>\n",
       "      <td>Rice</td>\n",
       "      <td>302274.0</td>\n",
       "      <td>730136.0</td>\n",
       "      <td>48.400</td>\n",
       "      <td>2.415477</td>\n",
       "      <td>Low</td>\n",
       "      <td>Low</td>\n",
       "      <td>Moderate</td>\n",
       "    </tr>\n",
       "    <tr>\n",
       "      <th>59249</th>\n",
       "      <td>West Bengal</td>\n",
       "      <td>PURULIA</td>\n",
       "      <td>2013</td>\n",
       "      <td>Winter</td>\n",
       "      <td>Sesamum</td>\n",
       "      <td>208.0</td>\n",
       "      <td>101.0</td>\n",
       "      <td>21.800</td>\n",
       "      <td>0.485577</td>\n",
       "      <td>High</td>\n",
       "      <td>High</td>\n",
       "      <td>Low</td>\n",
       "    </tr>\n",
       "    <tr>\n",
       "      <th>59250</th>\n",
       "      <td>West Bengal</td>\n",
       "      <td>PURULIA</td>\n",
       "      <td>2014</td>\n",
       "      <td>Winter</td>\n",
       "      <td>Rice</td>\n",
       "      <td>279151.0</td>\n",
       "      <td>597899.0</td>\n",
       "      <td>21.800</td>\n",
       "      <td>2.141848</td>\n",
       "      <td>Low</td>\n",
       "      <td>Low</td>\n",
       "      <td>Moderate</td>\n",
       "    </tr>\n",
       "    <tr>\n",
       "      <th>59251</th>\n",
       "      <td>West Bengal</td>\n",
       "      <td>PURULIA</td>\n",
       "      <td>2014</td>\n",
       "      <td>Winter</td>\n",
       "      <td>Sesamum</td>\n",
       "      <td>175.0</td>\n",
       "      <td>88.0</td>\n",
       "      <td>44.215</td>\n",
       "      <td>0.502857</td>\n",
       "      <td>Medium</td>\n",
       "      <td>Medium</td>\n",
       "      <td>Low</td>\n",
       "    </tr>\n",
       "  </tbody>\n",
       "</table>\n",
       "<p>246091 rows × 12 columns</p>\n",
       "</div>"
      ],
      "text/plain": [
       "                        State Name City Name  Crop_Year       Season  \\\n",
       "0      Andaman and Nicobar Islands  NICOBARS       2000  Kharif        \n",
       "1      Andaman and Nicobar Islands  NICOBARS       2000  Kharif        \n",
       "2      Andaman and Nicobar Islands  NICOBARS       2000  Kharif        \n",
       "3      Andaman and Nicobar Islands  NICOBARS       2000  Whole Year    \n",
       "4      Andaman and Nicobar Islands  NICOBARS       2000  Whole Year    \n",
       "...                            ...       ...        ...          ...   \n",
       "59247                  West Bengal   PURULIA       2012  Winter        \n",
       "59248                  West Bengal   PURULIA       2013  Winter        \n",
       "59249                  West Bengal   PURULIA       2013  Winter        \n",
       "59250                  West Bengal   PURULIA       2014  Winter        \n",
       "59251                  West Bengal   PURULIA       2014  Winter        \n",
       "\n",
       "                 Crop Name      Area  Production  Rain Fall  \\\n",
       "0                 Arecanut    1254.0      2000.0    604.200   \n",
       "1      Other Kharif pulses       2.0         1.0    604.200   \n",
       "2                     Rice     102.0       321.0    604.200   \n",
       "3                   Banana     176.0       641.0   1381.600   \n",
       "4                Cashewnut     720.0       165.0   1381.600   \n",
       "...                    ...       ...         ...        ...   \n",
       "59247              Sesamum     224.0        88.0     48.400   \n",
       "59248                 Rice  302274.0    730136.0     48.400   \n",
       "59249              Sesamum     208.0       101.0     21.800   \n",
       "59250                 Rice  279151.0    597899.0     21.800   \n",
       "59251              Sesamum     175.0        88.0     44.215   \n",
       "\n",
       "       Production\\nper Area Input Cost\\n(High/Medium/Low)  \\\n",
       "0                  1.594896                        Medium   \n",
       "1                  0.500000                          High   \n",
       "2                  3.147059                           Low   \n",
       "3                  3.642045                           Low   \n",
       "4                  0.229167                          High   \n",
       "...                     ...                           ...   \n",
       "59247              0.392857                          High   \n",
       "59248              2.415477                           Low   \n",
       "59249              0.485577                          High   \n",
       "59250              2.141848                           Low   \n",
       "59251              0.502857                        Medium   \n",
       "\n",
       "      Market Price\\n(High/Medium/Low) Return\\n(High/Moderate/Low)  \n",
       "0                                 Low                         Low  \n",
       "1                                High                    Moderate  \n",
       "2                                 Low                         Low  \n",
       "3                                 Low                         Low  \n",
       "4                                High                    Moderate  \n",
       "...                               ...                         ...  \n",
       "59247                            High                         Low  \n",
       "59248                             Low                    Moderate  \n",
       "59249                            High                         Low  \n",
       "59250                             Low                    Moderate  \n",
       "59251                          Medium                         Low  \n",
       "\n",
       "[246091 rows x 12 columns]"
      ]
     },
     "execution_count": 11,
     "metadata": {},
     "output_type": "execute_result"
    }
   ],
   "source": [
    "data=pd.concat([df1,df2],axis=0) ### axis=0 :represent rows\n",
    "data"
   ]
  },
  {
   "cell_type": "code",
   "execution_count": 12,
   "metadata": {},
   "outputs": [
    {
     "data": {
      "text/html": [
       "<div>\n",
       "<style scoped>\n",
       "    .dataframe tbody tr th:only-of-type {\n",
       "        vertical-align: middle;\n",
       "    }\n",
       "\n",
       "    .dataframe tbody tr th {\n",
       "        vertical-align: top;\n",
       "    }\n",
       "\n",
       "    .dataframe thead th {\n",
       "        text-align: right;\n",
       "    }\n",
       "</style>\n",
       "<table border=\"1\" class=\"dataframe\">\n",
       "  <thead>\n",
       "    <tr style=\"text-align: right;\">\n",
       "      <th></th>\n",
       "      <th>State Name</th>\n",
       "      <th>Crop_Year</th>\n",
       "      <th>Season</th>\n",
       "      <th>Crop Name</th>\n",
       "      <th>Area</th>\n",
       "      <th>Production</th>\n",
       "      <th>Rain Fall</th>\n",
       "      <th>Market Price\\n(High/Medium/Low)</th>\n",
       "    </tr>\n",
       "  </thead>\n",
       "  <tbody>\n",
       "    <tr>\n",
       "      <th>0</th>\n",
       "      <td>Andaman and Nicobar Islands</td>\n",
       "      <td>2000</td>\n",
       "      <td>Kharif</td>\n",
       "      <td>Arecanut</td>\n",
       "      <td>1254.0</td>\n",
       "      <td>2000.0</td>\n",
       "      <td>604.200</td>\n",
       "      <td>Low</td>\n",
       "    </tr>\n",
       "    <tr>\n",
       "      <th>1</th>\n",
       "      <td>Andaman and Nicobar Islands</td>\n",
       "      <td>2000</td>\n",
       "      <td>Kharif</td>\n",
       "      <td>Other Kharif pulses</td>\n",
       "      <td>2.0</td>\n",
       "      <td>1.0</td>\n",
       "      <td>604.200</td>\n",
       "      <td>High</td>\n",
       "    </tr>\n",
       "    <tr>\n",
       "      <th>2</th>\n",
       "      <td>Andaman and Nicobar Islands</td>\n",
       "      <td>2000</td>\n",
       "      <td>Kharif</td>\n",
       "      <td>Rice</td>\n",
       "      <td>102.0</td>\n",
       "      <td>321.0</td>\n",
       "      <td>604.200</td>\n",
       "      <td>Low</td>\n",
       "    </tr>\n",
       "    <tr>\n",
       "      <th>3</th>\n",
       "      <td>Andaman and Nicobar Islands</td>\n",
       "      <td>2000</td>\n",
       "      <td>Whole Year</td>\n",
       "      <td>Banana</td>\n",
       "      <td>176.0</td>\n",
       "      <td>641.0</td>\n",
       "      <td>1381.600</td>\n",
       "      <td>Low</td>\n",
       "    </tr>\n",
       "    <tr>\n",
       "      <th>4</th>\n",
       "      <td>Andaman and Nicobar Islands</td>\n",
       "      <td>2000</td>\n",
       "      <td>Whole Year</td>\n",
       "      <td>Cashewnut</td>\n",
       "      <td>720.0</td>\n",
       "      <td>165.0</td>\n",
       "      <td>1381.600</td>\n",
       "      <td>High</td>\n",
       "    </tr>\n",
       "    <tr>\n",
       "      <th>...</th>\n",
       "      <td>...</td>\n",
       "      <td>...</td>\n",
       "      <td>...</td>\n",
       "      <td>...</td>\n",
       "      <td>...</td>\n",
       "      <td>...</td>\n",
       "      <td>...</td>\n",
       "      <td>...</td>\n",
       "    </tr>\n",
       "    <tr>\n",
       "      <th>59247</th>\n",
       "      <td>West Bengal</td>\n",
       "      <td>2012</td>\n",
       "      <td>Winter</td>\n",
       "      <td>Sesamum</td>\n",
       "      <td>224.0</td>\n",
       "      <td>88.0</td>\n",
       "      <td>48.400</td>\n",
       "      <td>High</td>\n",
       "    </tr>\n",
       "    <tr>\n",
       "      <th>59248</th>\n",
       "      <td>West Bengal</td>\n",
       "      <td>2013</td>\n",
       "      <td>Winter</td>\n",
       "      <td>Rice</td>\n",
       "      <td>302274.0</td>\n",
       "      <td>730136.0</td>\n",
       "      <td>48.400</td>\n",
       "      <td>Low</td>\n",
       "    </tr>\n",
       "    <tr>\n",
       "      <th>59249</th>\n",
       "      <td>West Bengal</td>\n",
       "      <td>2013</td>\n",
       "      <td>Winter</td>\n",
       "      <td>Sesamum</td>\n",
       "      <td>208.0</td>\n",
       "      <td>101.0</td>\n",
       "      <td>21.800</td>\n",
       "      <td>High</td>\n",
       "    </tr>\n",
       "    <tr>\n",
       "      <th>59250</th>\n",
       "      <td>West Bengal</td>\n",
       "      <td>2014</td>\n",
       "      <td>Winter</td>\n",
       "      <td>Rice</td>\n",
       "      <td>279151.0</td>\n",
       "      <td>597899.0</td>\n",
       "      <td>21.800</td>\n",
       "      <td>Low</td>\n",
       "    </tr>\n",
       "    <tr>\n",
       "      <th>59251</th>\n",
       "      <td>West Bengal</td>\n",
       "      <td>2014</td>\n",
       "      <td>Winter</td>\n",
       "      <td>Sesamum</td>\n",
       "      <td>175.0</td>\n",
       "      <td>88.0</td>\n",
       "      <td>44.215</td>\n",
       "      <td>Medium</td>\n",
       "    </tr>\n",
       "  </tbody>\n",
       "</table>\n",
       "<p>246091 rows × 8 columns</p>\n",
       "</div>"
      ],
      "text/plain": [
       "                        State Name  Crop_Year       Season  \\\n",
       "0      Andaman and Nicobar Islands       2000  Kharif        \n",
       "1      Andaman and Nicobar Islands       2000  Kharif        \n",
       "2      Andaman and Nicobar Islands       2000  Kharif        \n",
       "3      Andaman and Nicobar Islands       2000  Whole Year    \n",
       "4      Andaman and Nicobar Islands       2000  Whole Year    \n",
       "...                            ...        ...          ...   \n",
       "59247                  West Bengal       2012  Winter        \n",
       "59248                  West Bengal       2013  Winter        \n",
       "59249                  West Bengal       2013  Winter        \n",
       "59250                  West Bengal       2014  Winter        \n",
       "59251                  West Bengal       2014  Winter        \n",
       "\n",
       "                 Crop Name      Area  Production  Rain Fall  \\\n",
       "0                 Arecanut    1254.0      2000.0    604.200   \n",
       "1      Other Kharif pulses       2.0         1.0    604.200   \n",
       "2                     Rice     102.0       321.0    604.200   \n",
       "3                   Banana     176.0       641.0   1381.600   \n",
       "4                Cashewnut     720.0       165.0   1381.600   \n",
       "...                    ...       ...         ...        ...   \n",
       "59247              Sesamum     224.0        88.0     48.400   \n",
       "59248                 Rice  302274.0    730136.0     48.400   \n",
       "59249              Sesamum     208.0       101.0     21.800   \n",
       "59250                 Rice  279151.0    597899.0     21.800   \n",
       "59251              Sesamum     175.0        88.0     44.215   \n",
       "\n",
       "      Market Price\\n(High/Medium/Low)  \n",
       "0                                 Low  \n",
       "1                                High  \n",
       "2                                 Low  \n",
       "3                                 Low  \n",
       "4                                High  \n",
       "...                               ...  \n",
       "59247                            High  \n",
       "59248                             Low  \n",
       "59249                            High  \n",
       "59250                             Low  \n",
       "59251                          Medium  \n",
       "\n",
       "[246091 rows x 8 columns]"
      ]
     },
     "execution_count": 12,
     "metadata": {},
     "output_type": "execute_result"
    }
   ],
   "source": [
    "final_ds=data.drop(['City Name','Input Cost\\n(High/Medium/Low)','Return\\n(High/Moderate/Low)','Production\\nper Area'],axis=1)\n",
    "final_ds"
   ]
  },
  {
   "cell_type": "code",
   "execution_count": 13,
   "metadata": {},
   "outputs": [
    {
     "data": {
      "text/plain": [
       "(246091, 8)"
      ]
     },
     "execution_count": 13,
     "metadata": {},
     "output_type": "execute_result"
    }
   ],
   "source": [
    "final_ds.shape"
   ]
  },
  {
   "cell_type": "code",
   "execution_count": 14,
   "metadata": {},
   "outputs": [
    {
     "name": "stdout",
     "output_type": "stream",
     "text": [
      "<class 'pandas.core.frame.DataFrame'>\n",
      "Int64Index: 246091 entries, 0 to 59251\n",
      "Data columns (total 8 columns):\n",
      " #   Column                          Non-Null Count   Dtype  \n",
      "---  ------                          --------------   -----  \n",
      " 0   State Name                      246091 non-null  object \n",
      " 1   Crop_Year                       246091 non-null  int64  \n",
      " 2   Season                          246091 non-null  object \n",
      " 3   Crop Name                       246091 non-null  object \n",
      " 4   Area                            246091 non-null  float64\n",
      " 5   Production                      242361 non-null  float64\n",
      " 6   Rain Fall                       245854 non-null  float64\n",
      " 7   Market Price\n",
      "(High/Medium/Low)  246091 non-null  object \n",
      "dtypes: float64(3), int64(1), object(4)\n",
      "memory usage: 16.9+ MB\n"
     ]
    }
   ],
   "source": [
    "final_ds.info()"
   ]
  },
  {
   "cell_type": "code",
   "execution_count": 15,
   "metadata": {},
   "outputs": [
    {
     "data": {
      "text/html": [
       "<div>\n",
       "<style scoped>\n",
       "    .dataframe tbody tr th:only-of-type {\n",
       "        vertical-align: middle;\n",
       "    }\n",
       "\n",
       "    .dataframe tbody tr th {\n",
       "        vertical-align: top;\n",
       "    }\n",
       "\n",
       "    .dataframe thead th {\n",
       "        text-align: right;\n",
       "    }\n",
       "</style>\n",
       "<table border=\"1\" class=\"dataframe\">\n",
       "  <thead>\n",
       "    <tr style=\"text-align: right;\">\n",
       "      <th></th>\n",
       "      <th>Crop_Year</th>\n",
       "      <th>Area</th>\n",
       "      <th>Production</th>\n",
       "      <th>Rain Fall</th>\n",
       "    </tr>\n",
       "  </thead>\n",
       "  <tbody>\n",
       "    <tr>\n",
       "      <th>count</th>\n",
       "      <td>246091.000000</td>\n",
       "      <td>2.460910e+05</td>\n",
       "      <td>2.423610e+05</td>\n",
       "      <td>245854.000000</td>\n",
       "    </tr>\n",
       "    <tr>\n",
       "      <th>mean</th>\n",
       "      <td>2005.643018</td>\n",
       "      <td>1.200282e+04</td>\n",
       "      <td>5.825034e+05</td>\n",
       "      <td>936.851313</td>\n",
       "    </tr>\n",
       "    <tr>\n",
       "      <th>std</th>\n",
       "      <td>4.952164</td>\n",
       "      <td>5.052340e+04</td>\n",
       "      <td>1.706581e+07</td>\n",
       "      <td>861.993857</td>\n",
       "    </tr>\n",
       "    <tr>\n",
       "      <th>min</th>\n",
       "      <td>1997.000000</td>\n",
       "      <td>4.000000e-02</td>\n",
       "      <td>0.000000e+00</td>\n",
       "      <td>-72.554000</td>\n",
       "    </tr>\n",
       "    <tr>\n",
       "      <th>25%</th>\n",
       "      <td>2002.000000</td>\n",
       "      <td>8.000000e+01</td>\n",
       "      <td>8.800000e+01</td>\n",
       "      <td>450.800000</td>\n",
       "    </tr>\n",
       "    <tr>\n",
       "      <th>50%</th>\n",
       "      <td>2006.000000</td>\n",
       "      <td>5.820000e+02</td>\n",
       "      <td>7.290000e+02</td>\n",
       "      <td>765.600000</td>\n",
       "    </tr>\n",
       "    <tr>\n",
       "      <th>75%</th>\n",
       "      <td>2010.000000</td>\n",
       "      <td>4.392000e+03</td>\n",
       "      <td>7.023000e+03</td>\n",
       "      <td>1082.396000</td>\n",
       "    </tr>\n",
       "    <tr>\n",
       "      <th>max</th>\n",
       "      <td>2015.000000</td>\n",
       "      <td>8.580100e+06</td>\n",
       "      <td>1.250800e+09</td>\n",
       "      <td>9721.800000</td>\n",
       "    </tr>\n",
       "  </tbody>\n",
       "</table>\n",
       "</div>"
      ],
      "text/plain": [
       "           Crop_Year          Area    Production      Rain Fall\n",
       "count  246091.000000  2.460910e+05  2.423610e+05  245854.000000\n",
       "mean     2005.643018  1.200282e+04  5.825034e+05     936.851313\n",
       "std         4.952164  5.052340e+04  1.706581e+07     861.993857\n",
       "min      1997.000000  4.000000e-02  0.000000e+00     -72.554000\n",
       "25%      2002.000000  8.000000e+01  8.800000e+01     450.800000\n",
       "50%      2006.000000  5.820000e+02  7.290000e+02     765.600000\n",
       "75%      2010.000000  4.392000e+03  7.023000e+03    1082.396000\n",
       "max      2015.000000  8.580100e+06  1.250800e+09    9721.800000"
      ]
     },
     "execution_count": 15,
     "metadata": {},
     "output_type": "execute_result"
    }
   ],
   "source": [
    "final_ds.describe()"
   ]
  },
  {
   "cell_type": "code",
   "execution_count": 16,
   "metadata": {},
   "outputs": [
    {
     "data": {
      "text/plain": [
       "0        False\n",
       "1        False\n",
       "2        False\n",
       "3        False\n",
       "4        False\n",
       "         ...  \n",
       "59247    False\n",
       "59248    False\n",
       "59249    False\n",
       "59250    False\n",
       "59251    False\n",
       "Length: 246091, dtype: bool"
      ]
     },
     "execution_count": 16,
     "metadata": {},
     "output_type": "execute_result"
    }
   ],
   "source": [
    "final_ds.duplicated()"
   ]
  },
  {
   "cell_type": "code",
   "execution_count": 17,
   "metadata": {},
   "outputs": [
    {
     "data": {
      "text/html": [
       "<div>\n",
       "<style scoped>\n",
       "    .dataframe tbody tr th:only-of-type {\n",
       "        vertical-align: middle;\n",
       "    }\n",
       "\n",
       "    .dataframe tbody tr th {\n",
       "        vertical-align: top;\n",
       "    }\n",
       "\n",
       "    .dataframe thead th {\n",
       "        text-align: right;\n",
       "    }\n",
       "</style>\n",
       "<table border=\"1\" class=\"dataframe\">\n",
       "  <thead>\n",
       "    <tr style=\"text-align: right;\">\n",
       "      <th></th>\n",
       "      <th>Crop_Year</th>\n",
       "      <th>Area</th>\n",
       "      <th>Production</th>\n",
       "      <th>Rain Fall</th>\n",
       "    </tr>\n",
       "  </thead>\n",
       "  <tbody>\n",
       "    <tr>\n",
       "      <th>Crop_Year</th>\n",
       "      <td>1.000000</td>\n",
       "      <td>-0.026022</td>\n",
       "      <td>0.006989</td>\n",
       "      <td>-0.007488</td>\n",
       "    </tr>\n",
       "    <tr>\n",
       "      <th>Area</th>\n",
       "      <td>-0.026022</td>\n",
       "      <td>1.000000</td>\n",
       "      <td>0.040587</td>\n",
       "      <td>-0.022138</td>\n",
       "    </tr>\n",
       "    <tr>\n",
       "      <th>Production</th>\n",
       "      <td>0.006989</td>\n",
       "      <td>0.040587</td>\n",
       "      <td>1.000000</td>\n",
       "      <td>0.143970</td>\n",
       "    </tr>\n",
       "    <tr>\n",
       "      <th>Rain Fall</th>\n",
       "      <td>-0.007488</td>\n",
       "      <td>-0.022138</td>\n",
       "      <td>0.143970</td>\n",
       "      <td>1.000000</td>\n",
       "    </tr>\n",
       "  </tbody>\n",
       "</table>\n",
       "</div>"
      ],
      "text/plain": [
       "            Crop_Year      Area  Production  Rain Fall\n",
       "Crop_Year    1.000000 -0.026022    0.006989  -0.007488\n",
       "Area        -0.026022  1.000000    0.040587  -0.022138\n",
       "Production   0.006989  0.040587    1.000000   0.143970\n",
       "Rain Fall   -0.007488 -0.022138    0.143970   1.000000"
      ]
     },
     "execution_count": 17,
     "metadata": {},
     "output_type": "execute_result"
    }
   ],
   "source": [
    "final_ds.corr()"
   ]
  },
  {
   "cell_type": "code",
   "execution_count": 18,
   "metadata": {},
   "outputs": [
    {
     "data": {
      "text/plain": [
       "<matplotlib.axes._subplots.AxesSubplot at 0x2a28fbd2130>"
      ]
     },
     "execution_count": 18,
     "metadata": {},
     "output_type": "execute_result"
    },
    {
     "data": {
      "image/png": "[encoded data removed]",
      "text/plain": [
       "<Figure size 432x288 with 2 Axes>"
      ]
     },
     "metadata": {
      "needs_background": "light"
     },
     "output_type": "display_data"
    }
   ],
   "source": [
    "sns.heatmap(final_ds.corr(),annot=True)"
   ]
  },
  {
   "cell_type": "code",
   "execution_count": 19,
   "metadata": {
    "scrolled": true
   },
   "outputs": [
    {
     "data": {
      "text/plain": [
       "State Name                            0\n",
       "Crop_Year                             0\n",
       "Season                                0\n",
       "Crop Name                             0\n",
       "Area                                  0\n",
       "Production                         3730\n",
       "Rain Fall                           237\n",
       "Market Price\\n(High/Medium/Low)       0\n",
       "dtype: int64"
      ]
     },
     "execution_count": 19,
     "metadata": {},
     "output_type": "execute_result"
    }
   ],
   "source": [
    "## Checking missing values in the dataset\n",
    "final_ds.isnull().sum()"
   ]
  },
  {
   "cell_type": "code",
   "execution_count": 20,
   "metadata": {},
   "outputs": [],
   "source": [
    "## Filling the missing values with the median of respective columns.\n",
    "final_ds[\"Production\"].fillna(final_ds[\"Production\"].median(),inplace=True)\n",
    "final_ds[\"Rain Fall\"].fillna(final_ds[\"Rain Fall\"].median(),inplace=True)"
   ]
  },
  {
   "cell_type": "code",
   "execution_count": 21,
   "metadata": {},
   "outputs": [
    {
     "data": {
      "text/plain": [
       "State Name                         0\n",
       "Crop_Year                          0\n",
       "Season                             0\n",
       "Crop Name                          0\n",
       "Area                               0\n",
       "Production                         0\n",
       "Rain Fall                          0\n",
       "Market Price\\n(High/Medium/Low)    0\n",
       "dtype: int64"
      ]
     },
     "execution_count": 21,
     "metadata": {},
     "output_type": "execute_result"
    }
   ],
   "source": [
    "final_ds.isnull().sum()"
   ]
  },
  {
   "cell_type": "code",
   "execution_count": 22,
   "metadata": {},
   "outputs": [
    {
     "data": {
      "image/png": "[encoded data removed]",
      "text/plain": [
       "<Figure size 432x288 with 1 Axes>"
      ]
     },
     "metadata": {
      "needs_background": "light"
     },
     "output_type": "display_data"
    }
   ],
   "source": [
    "num=final_ds.select_dtypes(include=[\"int64\"])\n",
    "for i in num.columns:\n",
    "    sns.boxplot(final_ds[i])\n",
    "    plt.show()\n"
   ]
  },
  {
   "cell_type": "code",
   "execution_count": 23,
   "metadata": {},
   "outputs": [
    {
     "data": {
      "text/plain": [
       "<matplotlib.axes._subplots.AxesSubplot at 0x2a291977bb0>"
      ]
     },
     "execution_count": 23,
     "metadata": {},
     "output_type": "execute_result"
    },
    {
     "data": {
      "image/png": "[encoded data removed]",
      "text/plain": [
       "<Figure size 432x288 with 1 Axes>"
      ]
     },
     "metadata": {
      "needs_background": "light"
     },
     "output_type": "display_data"
    }
   ],
   "source": [
    "sns.boxplot(final_ds[\"Production\"])"
   ]
  },
  {
   "cell_type": "code",
   "execution_count": 24,
   "metadata": {},
   "outputs": [
    {
     "data": {
      "text/plain": [
       "0.01         0.000\n",
       "0.03         1.000\n",
       "0.05         3.000\n",
       "0.07         5.000\n",
       "0.09         8.000\n",
       "0.11        12.000\n",
       "0.13        18.000\n",
       "0.15        25.000\n",
       "0.17        33.000\n",
       "0.19        43.000\n",
       "0.21        56.000\n",
       "0.23        72.000\n",
       "0.25        91.000\n",
       "0.27       100.000\n",
       "0.29       124.000\n",
       "0.31       152.000\n",
       "0.33       187.000\n",
       "0.35       215.000\n",
       "0.37       261.000\n",
       "0.39       304.000\n",
       "0.41       370.000\n",
       "0.43       433.000\n",
       "0.45       510.650\n",
       "0.47       601.000\n",
       "0.49       712.000\n",
       "0.51       748.000\n",
       "0.53       897.000\n",
       "0.55      1039.000\n",
       "0.57      1234.000\n",
       "0.59      1478.213\n",
       "0.61      1766.450\n",
       "0.63      2100.000\n",
       "0.65      2539.000\n",
       "0.67      3035.000\n",
       "0.69      3686.000\n",
       "0.71      4455.000\n",
       "0.73      5442.820\n",
       "0.75      6769.000\n",
       "0.77      8434.300\n",
       "0.79     10715.100\n",
       "0.81     13755.900\n",
       "0.83     17984.000\n",
       "0.85     23852.000\n",
       "0.87     32819.300\n",
       "0.89     46967.400\n",
       "0.91     70200.000\n",
       "0.93    109405.600\n",
       "0.95    178085.000\n",
       "0.97    315000.000\n",
       "0.99    965015.500\n",
       "Name: Production, dtype: float64"
      ]
     },
     "execution_count": 24,
     "metadata": {},
     "output_type": "execute_result"
    }
   ],
   "source": [
    "final_ds[\"Production\"].quantile([i/100 for i in range(1,101,2)])"
   ]
  },
  {
   "cell_type": "code",
   "execution_count": 25,
   "metadata": {},
   "outputs": [
    {
     "data": {
      "text/plain": [
       "<matplotlib.axes._subplots.AxesSubplot at 0x2a29956bf70>"
      ]
     },
     "execution_count": 25,
     "metadata": {},
     "output_type": "execute_result"
    },
    {
     "data": {
      "image/png": "[encoded data removed]",
      "text/plain": [
       "<Figure size 432x288 with 1 Axes>"
      ]
     },
     "metadata": {
      "needs_background": "light"
     },
     "output_type": "display_data"
    }
   ],
   "source": [
    "## Checking for Outliers \n",
    "sns.boxplot(final_ds[\"Production\"])"
   ]
  },
  {
   "cell_type": "code",
   "execution_count": 26,
   "metadata": {},
   "outputs": [],
   "source": [
    "### Here ,97 % of data is under  315000.000 and remaining 3% is the outliers.\n",
    "final_ds[\"Production\"]=np.where(final_ds[\"Production\"]> 315000.000, 315000.000,final_ds[\"Production\"])"
   ]
  },
  {
   "cell_type": "code",
   "execution_count": 27,
   "metadata": {},
   "outputs": [
    {
     "data": {
      "text/plain": [
       "<matplotlib.axes._subplots.AxesSubplot at 0x2a28e7ca430>"
      ]
     },
     "execution_count": 27,
     "metadata": {},
     "output_type": "execute_result"
    },
    {
     "data": {
      "image/png": "[encoded data removed]",
      "text/plain": [
       "<Figure size 432x288 with 1 Axes>"
      ]
     },
     "metadata": {
      "needs_background": "light"
     },
     "output_type": "display_data"
    }
   ],
   "source": [
    "sns.boxplot(final_ds[\"Production\"]) "
   ]
  },
  {
   "cell_type": "code",
   "execution_count": 28,
   "metadata": {},
   "outputs": [
    {
     "data": {
      "text/plain": [
       "<matplotlib.axes._subplots.AxesSubplot at 0x2a29532ed00>"
      ]
     },
     "execution_count": 28,
     "metadata": {},
     "output_type": "execute_result"
    },
    {
     "data": {
      "image/png": "[encoded data removed]",
      "text/plain": [
       "<Figure size 432x288 with 1 Axes>"
      ]
     },
     "metadata": {
      "needs_background": "light"
     },
     "output_type": "display_data"
    }
   ],
   "source": [
    "sns.boxplot(final_ds['Rain Fall'])"
   ]
  },
  {
   "cell_type": "code",
   "execution_count": 29,
   "metadata": {},
   "outputs": [
    {
     "data": {
      "text/plain": [
       "0.01     106.198\n",
       "0.03     200.100\n",
       "0.05     200.100\n",
       "0.07     291.500\n",
       "0.09     348.500\n",
       "0.11     348.500\n",
       "0.13     348.500\n",
       "0.15     358.200\n",
       "0.17     362.738\n",
       "0.19     394.800\n",
       "0.21     399.948\n",
       "0.23     429.440\n",
       "0.25     450.800\n",
       "0.27     464.600\n",
       "0.29     475.951\n",
       "0.31     495.400\n",
       "0.33     534.821\n",
       "0.35     562.446\n",
       "0.37     591.338\n",
       "0.39     636.100\n",
       "0.41     686.322\n",
       "0.43     721.678\n",
       "0.45     741.200\n",
       "0.47     741.900\n",
       "0.49     758.700\n",
       "0.51     781.335\n",
       "0.53     810.500\n",
       "0.55     839.283\n",
       "0.57     865.399\n",
       "0.59     896.900\n",
       "0.61     912.800\n",
       "0.63     926.500\n",
       "0.65     928.500\n",
       "0.67     960.227\n",
       "0.69     997.438\n",
       "0.71    1034.120\n",
       "0.73    1064.266\n",
       "0.75    1082.396\n",
       "0.77    1116.900\n",
       "0.79    1155.400\n",
       "0.81    1192.800\n",
       "0.83    1225.309\n",
       "0.85    1309.600\n",
       "0.87    1385.800\n",
       "0.89    1473.690\n",
       "0.91    1603.700\n",
       "0.93    1848.800\n",
       "0.95    2227.300\n",
       "0.97    2944.600\n",
       "0.99    5262.700\n",
       "Name: Rain Fall, dtype: float64"
      ]
     },
     "execution_count": 29,
     "metadata": {},
     "output_type": "execute_result"
    }
   ],
   "source": [
    "final_ds[\"Rain Fall\"].quantile([i/100 for i in range(1,101,2)])"
   ]
  },
  {
   "cell_type": "code",
   "execution_count": 30,
   "metadata": {},
   "outputs": [],
   "source": [
    "## ## Here, 99% of data falls under 997.438 and the remaining 1 % is an outliers\n",
    "final_ds[\"Rain Fall\"]=np.where(final_ds[\"Rain Fall\"]>997.438,997.438,final_ds[\"Rain Fall\"])"
   ]
  },
  {
   "cell_type": "code",
   "execution_count": 31,
   "metadata": {},
   "outputs": [
    {
     "data": {
      "text/plain": [
       "<matplotlib.axes._subplots.AxesSubplot at 0x2a291af16d0>"
      ]
     },
     "execution_count": 31,
     "metadata": {},
     "output_type": "execute_result"
    },
    {
     "data": {
      "image/png": "[encoded data removed]",
      "text/plain": [
       "<Figure size 432x288 with 1 Axes>"
      ]
     },
     "metadata": {
      "needs_background": "light"
     },
     "output_type": "display_data"
    }
   ],
   "source": [
    "sns.boxplot(final_ds[\"Rain Fall\"])"
   ]
  },
  {
   "cell_type": "code",
   "execution_count": 32,
   "metadata": {},
   "outputs": [
    {
     "data": {
      "text/plain": [
       "<matplotlib.axes._subplots.AxesSubplot at 0x2a28fff52b0>"
      ]
     },
     "execution_count": 32,
     "metadata": {},
     "output_type": "execute_result"
    },
    {
     "data": {
      "image/png": "[encoded data removed]",
      "text/plain": [
       "<Figure size 432x288 with 1 Axes>"
      ]
     },
     "metadata": {
      "needs_background": "light"
     },
     "output_type": "display_data"
    }
   ],
   "source": [
    "sns.boxplot(final_ds[\"Area\"])"
   ]
  },
  {
   "cell_type": "code",
   "execution_count": 33,
   "metadata": {},
   "outputs": [
    {
     "data": {
      "text/plain": [
       "0.01         1.0\n",
       "0.03         2.0\n",
       "0.05         4.0\n",
       "0.07         7.0\n",
       "0.09        10.0\n",
       "0.11        14.0\n",
       "0.13        19.0\n",
       "0.15        25.0\n",
       "0.17        33.0\n",
       "0.19        42.0\n",
       "0.21        53.0\n",
       "0.23        66.0\n",
       "0.25        80.0\n",
       "0.27        98.0\n",
       "0.29       108.0\n",
       "0.31       130.0\n",
       "0.33       156.0\n",
       "0.35       186.0\n",
       "0.37       210.0\n",
       "0.39       250.0\n",
       "0.41       295.0\n",
       "0.43       335.0\n",
       "0.45       398.0\n",
       "0.47       460.0\n",
       "0.49       534.0\n",
       "0.51       620.0\n",
       "0.53       725.0\n",
       "0.55       849.0\n",
       "0.57      1000.0\n",
       "0.59      1135.0\n",
       "0.61      1331.9\n",
       "0.63      1571.0\n",
       "0.65      1859.0\n",
       "0.67      2156.0\n",
       "0.69      2578.0\n",
       "0.71      3042.0\n",
       "0.73      3653.0\n",
       "0.75      4392.0\n",
       "0.77      5331.3\n",
       "0.79      6529.1\n",
       "0.81      8097.0\n",
       "0.83     10257.0\n",
       "0.85     13140.0\n",
       "0.87     17052.5\n",
       "0.89     23120.4\n",
       "0.91     32400.0\n",
       "0.93     46542.2\n",
       "0.95     67534.5\n",
       "0.97    104000.0\n",
       "0.99    189268.1\n",
       "Name: Area, dtype: float64"
      ]
     },
     "execution_count": 33,
     "metadata": {},
     "output_type": "execute_result"
    }
   ],
   "source": [
    "final_ds['Area'].quantile([i/100 for i in range(1,101,2)])"
   ]
  },
  {
   "cell_type": "code",
   "execution_count": 34,
   "metadata": {},
   "outputs": [],
   "source": [
    "### 95% data is under  67534.5\n",
    "final_ds[\"Area\"]=np.where(final_ds[\"Area\"]>67534.5,67534.5,final_ds[\"Area\"])"
   ]
  },
  {
   "cell_type": "code",
   "execution_count": 35,
   "metadata": {},
   "outputs": [
    {
     "data": {
      "text/plain": [
       "<matplotlib.axes._subplots.AxesSubplot at 0x2a28f2d4190>"
      ]
     },
     "execution_count": 35,
     "metadata": {},
     "output_type": "execute_result"
    },
    {
     "data": {
      "image/png": "[encoded data removed]",
      "text/plain": [
       "<Figure size 432x288 with 1 Axes>"
      ]
     },
     "metadata": {
      "needs_background": "light"
     },
     "output_type": "display_data"
    }
   ],
   "source": [
    "sns.boxplot(final_ds[\"Area\"])"
   ]
  },
  {
   "cell_type": "code",
   "execution_count": 36,
   "metadata": {},
   "outputs": [],
   "source": [
    "## reaplcing low with 1 and remaining value with 2\n",
    "# final_ds[\"Market Price\\n(High/Medium/Low)\"]=np.where(final_ds[\"Market Price\\n(High/Medium/Low)\"]=='Low',0,1)"
   ]
  },
  {
   "cell_type": "code",
   "execution_count": 37,
   "metadata": {},
   "outputs": [],
   "source": [
    "###final_ds[\"Market Price\\n(High/Medium/Low)\"].replace('Low',1)"
   ]
  },
  {
   "cell_type": "code",
   "execution_count": 38,
   "metadata": {},
   "outputs": [
    {
     "data": {
      "text/html": [
       "<div>\n",
       "<style scoped>\n",
       "    .dataframe tbody tr th:only-of-type {\n",
       "        vertical-align: middle;\n",
       "    }\n",
       "\n",
       "    .dataframe tbody tr th {\n",
       "        vertical-align: top;\n",
       "    }\n",
       "\n",
       "    .dataframe thead th {\n",
       "        text-align: right;\n",
       "    }\n",
       "</style>\n",
       "<table border=\"1\" class=\"dataframe\">\n",
       "  <thead>\n",
       "    <tr style=\"text-align: right;\">\n",
       "      <th></th>\n",
       "      <th>Crop_Year</th>\n",
       "      <th>Area</th>\n",
       "      <th>Production</th>\n",
       "      <th>Rain Fall</th>\n",
       "    </tr>\n",
       "  </thead>\n",
       "  <tbody>\n",
       "    <tr>\n",
       "      <th>Crop_Year</th>\n",
       "      <td>1.000000</td>\n",
       "      <td>-0.032692</td>\n",
       "      <td>0.001043</td>\n",
       "      <td>-0.006956</td>\n",
       "    </tr>\n",
       "    <tr>\n",
       "      <th>Area</th>\n",
       "      <td>-0.032692</td>\n",
       "      <td>1.000000</td>\n",
       "      <td>0.703628</td>\n",
       "      <td>-0.014665</td>\n",
       "    </tr>\n",
       "    <tr>\n",
       "      <th>Production</th>\n",
       "      <td>0.001043</td>\n",
       "      <td>0.703628</td>\n",
       "      <td>1.000000</td>\n",
       "      <td>0.003338</td>\n",
       "    </tr>\n",
       "    <tr>\n",
       "      <th>Rain Fall</th>\n",
       "      <td>-0.006956</td>\n",
       "      <td>-0.014665</td>\n",
       "      <td>0.003338</td>\n",
       "      <td>1.000000</td>\n",
       "    </tr>\n",
       "  </tbody>\n",
       "</table>\n",
       "</div>"
      ],
      "text/plain": [
       "            Crop_Year      Area  Production  Rain Fall\n",
       "Crop_Year    1.000000 -0.032692    0.001043  -0.006956\n",
       "Area        -0.032692  1.000000    0.703628  -0.014665\n",
       "Production   0.001043  0.703628    1.000000   0.003338\n",
       "Rain Fall   -0.006956 -0.014665    0.003338   1.000000"
      ]
     },
     "execution_count": 38,
     "metadata": {},
     "output_type": "execute_result"
    }
   ],
   "source": [
    "final_ds.corr()"
   ]
  },
  {
   "cell_type": "code",
   "execution_count": 39,
   "metadata": {},
   "outputs": [
    {
     "data": {
      "text/html": [
       "<div>\n",
       "<style scoped>\n",
       "    .dataframe tbody tr th:only-of-type {\n",
       "        vertical-align: middle;\n",
       "    }\n",
       "\n",
       "    .dataframe tbody tr th {\n",
       "        vertical-align: top;\n",
       "    }\n",
       "\n",
       "    .dataframe thead th {\n",
       "        text-align: right;\n",
       "    }\n",
       "</style>\n",
       "<table border=\"1\" class=\"dataframe\">\n",
       "  <thead>\n",
       "    <tr style=\"text-align: right;\">\n",
       "      <th></th>\n",
       "      <th>State Name</th>\n",
       "      <th>Crop_Year</th>\n",
       "      <th>Season</th>\n",
       "      <th>Crop Name</th>\n",
       "      <th>Area</th>\n",
       "      <th>Production</th>\n",
       "      <th>Rain Fall</th>\n",
       "      <th>Market Price\\n(High/Medium/Low)</th>\n",
       "    </tr>\n",
       "  </thead>\n",
       "  <tbody>\n",
       "    <tr>\n",
       "      <th>0</th>\n",
       "      <td>Andaman and Nicobar Islands</td>\n",
       "      <td>2000</td>\n",
       "      <td>Kharif</td>\n",
       "      <td>Arecanut</td>\n",
       "      <td>1254.0</td>\n",
       "      <td>2000.0</td>\n",
       "      <td>604.200</td>\n",
       "      <td>Low</td>\n",
       "    </tr>\n",
       "    <tr>\n",
       "      <th>1</th>\n",
       "      <td>Andaman and Nicobar Islands</td>\n",
       "      <td>2000</td>\n",
       "      <td>Kharif</td>\n",
       "      <td>Other Kharif pulses</td>\n",
       "      <td>2.0</td>\n",
       "      <td>1.0</td>\n",
       "      <td>604.200</td>\n",
       "      <td>High</td>\n",
       "    </tr>\n",
       "    <tr>\n",
       "      <th>2</th>\n",
       "      <td>Andaman and Nicobar Islands</td>\n",
       "      <td>2000</td>\n",
       "      <td>Kharif</td>\n",
       "      <td>Rice</td>\n",
       "      <td>102.0</td>\n",
       "      <td>321.0</td>\n",
       "      <td>604.200</td>\n",
       "      <td>Low</td>\n",
       "    </tr>\n",
       "    <tr>\n",
       "      <th>3</th>\n",
       "      <td>Andaman and Nicobar Islands</td>\n",
       "      <td>2000</td>\n",
       "      <td>Whole Year</td>\n",
       "      <td>Banana</td>\n",
       "      <td>176.0</td>\n",
       "      <td>641.0</td>\n",
       "      <td>997.438</td>\n",
       "      <td>Low</td>\n",
       "    </tr>\n",
       "    <tr>\n",
       "      <th>4</th>\n",
       "      <td>Andaman and Nicobar Islands</td>\n",
       "      <td>2000</td>\n",
       "      <td>Whole Year</td>\n",
       "      <td>Cashewnut</td>\n",
       "      <td>720.0</td>\n",
       "      <td>165.0</td>\n",
       "      <td>997.438</td>\n",
       "      <td>High</td>\n",
       "    </tr>\n",
       "    <tr>\n",
       "      <th>...</th>\n",
       "      <td>...</td>\n",
       "      <td>...</td>\n",
       "      <td>...</td>\n",
       "      <td>...</td>\n",
       "      <td>...</td>\n",
       "      <td>...</td>\n",
       "      <td>...</td>\n",
       "      <td>...</td>\n",
       "    </tr>\n",
       "    <tr>\n",
       "      <th>59247</th>\n",
       "      <td>West Bengal</td>\n",
       "      <td>2012</td>\n",
       "      <td>Winter</td>\n",
       "      <td>Sesamum</td>\n",
       "      <td>224.0</td>\n",
       "      <td>88.0</td>\n",
       "      <td>48.400</td>\n",
       "      <td>High</td>\n",
       "    </tr>\n",
       "    <tr>\n",
       "      <th>59248</th>\n",
       "      <td>West Bengal</td>\n",
       "      <td>2013</td>\n",
       "      <td>Winter</td>\n",
       "      <td>Rice</td>\n",
       "      <td>67534.5</td>\n",
       "      <td>315000.0</td>\n",
       "      <td>48.400</td>\n",
       "      <td>Low</td>\n",
       "    </tr>\n",
       "    <tr>\n",
       "      <th>59249</th>\n",
       "      <td>West Bengal</td>\n",
       "      <td>2013</td>\n",
       "      <td>Winter</td>\n",
       "      <td>Sesamum</td>\n",
       "      <td>208.0</td>\n",
       "      <td>101.0</td>\n",
       "      <td>21.800</td>\n",
       "      <td>High</td>\n",
       "    </tr>\n",
       "    <tr>\n",
       "      <th>59250</th>\n",
       "      <td>West Bengal</td>\n",
       "      <td>2014</td>\n",
       "      <td>Winter</td>\n",
       "      <td>Rice</td>\n",
       "      <td>67534.5</td>\n",
       "      <td>315000.0</td>\n",
       "      <td>21.800</td>\n",
       "      <td>Low</td>\n",
       "    </tr>\n",
       "    <tr>\n",
       "      <th>59251</th>\n",
       "      <td>West Bengal</td>\n",
       "      <td>2014</td>\n",
       "      <td>Winter</td>\n",
       "      <td>Sesamum</td>\n",
       "      <td>175.0</td>\n",
       "      <td>88.0</td>\n",
       "      <td>44.215</td>\n",
       "      <td>Medium</td>\n",
       "    </tr>\n",
       "  </tbody>\n",
       "</table>\n",
       "<p>246091 rows × 8 columns</p>\n",
       "</div>"
      ],
      "text/plain": [
       "                        State Name  Crop_Year       Season  \\\n",
       "0      Andaman and Nicobar Islands       2000  Kharif        \n",
       "1      Andaman and Nicobar Islands       2000  Kharif        \n",
       "2      Andaman and Nicobar Islands       2000  Kharif        \n",
       "3      Andaman and Nicobar Islands       2000  Whole Year    \n",
       "4      Andaman and Nicobar Islands       2000  Whole Year    \n",
       "...                            ...        ...          ...   \n",
       "59247                  West Bengal       2012  Winter        \n",
       "59248                  West Bengal       2013  Winter        \n",
       "59249                  West Bengal       2013  Winter        \n",
       "59250                  West Bengal       2014  Winter        \n",
       "59251                  West Bengal       2014  Winter        \n",
       "\n",
       "                 Crop Name     Area  Production  Rain Fall  \\\n",
       "0                 Arecanut   1254.0      2000.0    604.200   \n",
       "1      Other Kharif pulses      2.0         1.0    604.200   \n",
       "2                     Rice    102.0       321.0    604.200   \n",
       "3                   Banana    176.0       641.0    997.438   \n",
       "4                Cashewnut    720.0       165.0    997.438   \n",
       "...                    ...      ...         ...        ...   \n",
       "59247              Sesamum    224.0        88.0     48.400   \n",
       "59248                 Rice  67534.5    315000.0     48.400   \n",
       "59249              Sesamum    208.0       101.0     21.800   \n",
       "59250                 Rice  67534.5    315000.0     21.800   \n",
       "59251              Sesamum    175.0        88.0     44.215   \n",
       "\n",
       "      Market Price\\n(High/Medium/Low)  \n",
       "0                                 Low  \n",
       "1                                High  \n",
       "2                                 Low  \n",
       "3                                 Low  \n",
       "4                                High  \n",
       "...                               ...  \n",
       "59247                            High  \n",
       "59248                             Low  \n",
       "59249                            High  \n",
       "59250                             Low  \n",
       "59251                          Medium  \n",
       "\n",
       "[246091 rows x 8 columns]"
      ]
     },
     "execution_count": 39,
     "metadata": {},
     "output_type": "execute_result"
    }
   ],
   "source": [
    "final_ds"
   ]
  },
  {
   "cell_type": "code",
   "execution_count": 40,
   "metadata": {
    "scrolled": true
   },
   "outputs": [
    {
     "data": {
      "image/png": "[encoded data removed]",
      "text/plain": [
       "<Figure size 720x720 with 2 Axes>"
      ]
     },
     "metadata": {
      "needs_background": "light"
     },
     "output_type": "display_data"
    }
   ],
   "source": [
    "plt.figure(figsize=(10,10))\n",
    "cor=final_ds.corr()\n",
    "sns.heatmap(cor,annot=True) \n",
    "plt.show()"
   ]
  },
  {
   "cell_type": "code",
   "execution_count": 41,
   "metadata": {},
   "outputs": [],
   "source": [
    "x=final_ds.drop([\"Market Price\\n(High/Medium/Low)\"],axis=1)"
   ]
  },
  {
   "cell_type": "code",
   "execution_count": 42,
   "metadata": {},
   "outputs": [
    {
     "data": {
      "text/html": [
       "<div>\n",
       "<style scoped>\n",
       "    .dataframe tbody tr th:only-of-type {\n",
       "        vertical-align: middle;\n",
       "    }\n",
       "\n",
       "    .dataframe tbody tr th {\n",
       "        vertical-align: top;\n",
       "    }\n",
       "\n",
       "    .dataframe thead th {\n",
       "        text-align: right;\n",
       "    }\n",
       "</style>\n",
       "<table border=\"1\" class=\"dataframe\">\n",
       "  <thead>\n",
       "    <tr style=\"text-align: right;\">\n",
       "      <th></th>\n",
       "      <th>State Name</th>\n",
       "      <th>Crop_Year</th>\n",
       "      <th>Season</th>\n",
       "      <th>Crop Name</th>\n",
       "      <th>Area</th>\n",
       "      <th>Production</th>\n",
       "      <th>Rain Fall</th>\n",
       "    </tr>\n",
       "  </thead>\n",
       "  <tbody>\n",
       "    <tr>\n",
       "      <th>0</th>\n",
       "      <td>Andaman and Nicobar Islands</td>\n",
       "      <td>2000</td>\n",
       "      <td>Kharif</td>\n",
       "      <td>Arecanut</td>\n",
       "      <td>1254.0</td>\n",
       "      <td>2000.0</td>\n",
       "      <td>604.200</td>\n",
       "    </tr>\n",
       "    <tr>\n",
       "      <th>1</th>\n",
       "      <td>Andaman and Nicobar Islands</td>\n",
       "      <td>2000</td>\n",
       "      <td>Kharif</td>\n",
       "      <td>Other Kharif pulses</td>\n",
       "      <td>2.0</td>\n",
       "      <td>1.0</td>\n",
       "      <td>604.200</td>\n",
       "    </tr>\n",
       "    <tr>\n",
       "      <th>2</th>\n",
       "      <td>Andaman and Nicobar Islands</td>\n",
       "      <td>2000</td>\n",
       "      <td>Kharif</td>\n",
       "      <td>Rice</td>\n",
       "      <td>102.0</td>\n",
       "      <td>321.0</td>\n",
       "      <td>604.200</td>\n",
       "    </tr>\n",
       "    <tr>\n",
       "      <th>3</th>\n",
       "      <td>Andaman and Nicobar Islands</td>\n",
       "      <td>2000</td>\n",
       "      <td>Whole Year</td>\n",
       "      <td>Banana</td>\n",
       "      <td>176.0</td>\n",
       "      <td>641.0</td>\n",
       "      <td>997.438</td>\n",
       "    </tr>\n",
       "    <tr>\n",
       "      <th>4</th>\n",
       "      <td>Andaman and Nicobar Islands</td>\n",
       "      <td>2000</td>\n",
       "      <td>Whole Year</td>\n",
       "      <td>Cashewnut</td>\n",
       "      <td>720.0</td>\n",
       "      <td>165.0</td>\n",
       "      <td>997.438</td>\n",
       "    </tr>\n",
       "    <tr>\n",
       "      <th>...</th>\n",
       "      <td>...</td>\n",
       "      <td>...</td>\n",
       "      <td>...</td>\n",
       "      <td>...</td>\n",
       "      <td>...</td>\n",
       "      <td>...</td>\n",
       "      <td>...</td>\n",
       "    </tr>\n",
       "    <tr>\n",
       "      <th>59247</th>\n",
       "      <td>West Bengal</td>\n",
       "      <td>2012</td>\n",
       "      <td>Winter</td>\n",
       "      <td>Sesamum</td>\n",
       "      <td>224.0</td>\n",
       "      <td>88.0</td>\n",
       "      <td>48.400</td>\n",
       "    </tr>\n",
       "    <tr>\n",
       "      <th>59248</th>\n",
       "      <td>West Bengal</td>\n",
       "      <td>2013</td>\n",
       "      <td>Winter</td>\n",
       "      <td>Rice</td>\n",
       "      <td>67534.5</td>\n",
       "      <td>315000.0</td>\n",
       "      <td>48.400</td>\n",
       "    </tr>\n",
       "    <tr>\n",
       "      <th>59249</th>\n",
       "      <td>West Bengal</td>\n",
       "      <td>2013</td>\n",
       "      <td>Winter</td>\n",
       "      <td>Sesamum</td>\n",
       "      <td>208.0</td>\n",
       "      <td>101.0</td>\n",
       "      <td>21.800</td>\n",
       "    </tr>\n",
       "    <tr>\n",
       "      <th>59250</th>\n",
       "      <td>West Bengal</td>\n",
       "      <td>2014</td>\n",
       "      <td>Winter</td>\n",
       "      <td>Rice</td>\n",
       "      <td>67534.5</td>\n",
       "      <td>315000.0</td>\n",
       "      <td>21.800</td>\n",
       "    </tr>\n",
       "    <tr>\n",
       "      <th>59251</th>\n",
       "      <td>West Bengal</td>\n",
       "      <td>2014</td>\n",
       "      <td>Winter</td>\n",
       "      <td>Sesamum</td>\n",
       "      <td>175.0</td>\n",
       "      <td>88.0</td>\n",
       "      <td>44.215</td>\n",
       "    </tr>\n",
       "  </tbody>\n",
       "</table>\n",
       "<p>246091 rows × 7 columns</p>\n",
       "</div>"
      ],
      "text/plain": [
       "                        State Name  Crop_Year       Season  \\\n",
       "0      Andaman and Nicobar Islands       2000  Kharif        \n",
       "1      Andaman and Nicobar Islands       2000  Kharif        \n",
       "2      Andaman and Nicobar Islands       2000  Kharif        \n",
       "3      Andaman and Nicobar Islands       2000  Whole Year    \n",
       "4      Andaman and Nicobar Islands       2000  Whole Year    \n",
       "...                            ...        ...          ...   \n",
       "59247                  West Bengal       2012  Winter        \n",
       "59248                  West Bengal       2013  Winter        \n",
       "59249                  West Bengal       2013  Winter        \n",
       "59250                  West Bengal       2014  Winter        \n",
       "59251                  West Bengal       2014  Winter        \n",
       "\n",
       "                 Crop Name     Area  Production  Rain Fall  \n",
       "0                 Arecanut   1254.0      2000.0    604.200  \n",
       "1      Other Kharif pulses      2.0         1.0    604.200  \n",
       "2                     Rice    102.0       321.0    604.200  \n",
       "3                   Banana    176.0       641.0    997.438  \n",
       "4                Cashewnut    720.0       165.0    997.438  \n",
       "...                    ...      ...         ...        ...  \n",
       "59247              Sesamum    224.0        88.0     48.400  \n",
       "59248                 Rice  67534.5    315000.0     48.400  \n",
       "59249              Sesamum    208.0       101.0     21.800  \n",
       "59250                 Rice  67534.5    315000.0     21.800  \n",
       "59251              Sesamum    175.0        88.0     44.215  \n",
       "\n",
       "[246091 rows x 7 columns]"
      ]
     },
     "execution_count": 42,
     "metadata": {},
     "output_type": "execute_result"
    }
   ],
   "source": [
    "x"
   ]
  },
  {
   "cell_type": "code",
   "execution_count": 43,
   "metadata": {},
   "outputs": [
    {
     "data": {
      "text/plain": [
       "0           Low\n",
       "1          High\n",
       "2           Low\n",
       "3           Low\n",
       "4          High\n",
       "          ...  \n",
       "59247      High\n",
       "59248       Low\n",
       "59249      High\n",
       "59250       Low\n",
       "59251    Medium\n",
       "Name: Market Price\\n(High/Medium/Low), Length: 246091, dtype: object"
      ]
     },
     "execution_count": 43,
     "metadata": {},
     "output_type": "execute_result"
    }
   ],
   "source": [
    "y=final_ds[\"Market Price\\n(High/Medium/Low)\"]\n",
    "y"
   ]
  },
  {
   "cell_type": "code",
   "execution_count": 44,
   "metadata": {},
   "outputs": [],
   "source": [
    "from sklearn.preprocessing import OrdinalEncoder\n",
    "from sklearn.preprocessing import LabelEncoder"
   ]
  },
  {
   "cell_type": "code",
   "execution_count": 45,
   "metadata": {},
   "outputs": [],
   "source": [
    "#### ordinal encode target variable\n",
    "ordinal_encoder=OrdinalEncoder()\n",
    "ordinal_encoder.fit(x)\n",
    "x=ordinal_encoder.transform(x)"
   ]
  },
  {
   "cell_type": "code",
   "execution_count": 46,
   "metadata": {},
   "outputs": [
    {
     "data": {
      "text/plain": [
       "array([[0.0000e+00, 3.0000e+00, 1.0000e+00, ..., 2.0260e+03, 5.6840e+03,\n",
       "        1.9320e+03],\n",
       "       [0.0000e+00, 3.0000e+00, 1.0000e+00, ..., 3.1000e+01, 2.6000e+01,\n",
       "        1.9320e+03],\n",
       "       [0.0000e+00, 3.0000e+00, 1.0000e+00, ..., 3.5700e+02, 2.2060e+03,\n",
       "        1.9320e+03],\n",
       "       ...,\n",
       "       [3.2000e+01, 1.6000e+01, 5.0000e+00, ..., 5.5900e+02, 9.9400e+02,\n",
       "        1.2700e+02],\n",
       "       [3.2000e+01, 1.7000e+01, 5.0000e+00, ..., 2.8513e+04, 4.5050e+04,\n",
       "        1.2700e+02],\n",
       "       [3.2000e+01, 1.7000e+01, 5.0000e+00, ..., 4.9900e+02, 8.9300e+02,\n",
       "        2.3300e+02]])"
      ]
     },
     "execution_count": 46,
     "metadata": {},
     "output_type": "execute_result"
    }
   ],
   "source": [
    "x"
   ]
  },
  {
   "cell_type": "code",
   "execution_count": 47,
   "metadata": {},
   "outputs": [],
   "source": [
    "lencoder=LabelEncoder()\n",
    "lencoder.fit(y)\n",
    "y=lencoder.transform(y)"
   ]
  },
  {
   "cell_type": "code",
   "execution_count": 48,
   "metadata": {},
   "outputs": [
    {
     "data": {
      "text/plain": [
       "array([1, 0, 1, ..., 0, 1, 2])"
      ]
     },
     "execution_count": 48,
     "metadata": {},
     "output_type": "execute_result"
    }
   ],
   "source": [
    "y"
   ]
  },
  {
   "cell_type": "code",
   "execution_count": 49,
   "metadata": {},
   "outputs": [],
   "source": [
    "from sklearn.model_selection import train_test_split\n",
    "x_train,x_test,y_train,y_test=train_test_split(x,y,test_size=0.2,random_state=1)\n",
    " "
   ]
  },
  {
   "cell_type": "code",
   "execution_count": 50,
   "metadata": {},
   "outputs": [
    {
     "name": "stdout",
     "output_type": "stream",
     "text": [
      "(196872, 7)\n",
      "(49219, 7)\n",
      "(196872,)\n",
      "(49219,)\n"
     ]
    }
   ],
   "source": [
    "print(x_train.shape)\n",
    "print(x_test.shape)\n",
    "print(y_train.shape)\n",
    "print(y_test.shape)"
   ]
  },
  {
   "cell_type": "code",
   "execution_count": 51,
   "metadata": {},
   "outputs": [
    {
     "data": {
      "text/plain": [
       "RandomForestClassifier()"
      ]
     },
     "execution_count": 51,
     "metadata": {},
     "output_type": "execute_result"
    }
   ],
   "source": [
    "from sklearn.ensemble import RandomForestClassifier\n",
    "clf=RandomForestClassifier()\n",
    "clf.fit(x_train,y_train)"
   ]
  },
  {
   "cell_type": "code",
   "execution_count": 58,
   "metadata": {},
   "outputs": [],
   "source": [
    "pred=clf.predict(x_test)"
   ]
  },
  {
   "cell_type": "code",
   "execution_count": 59,
   "metadata": {},
   "outputs": [
    {
     "name": "stdout",
     "output_type": "stream",
     "text": [
      "Accuracy: 0.9532497612710539\n"
     ]
    }
   ],
   "source": [
    "from sklearn import metrics\n",
    "print(\"Accuracy:\",metrics.accuracy_score(y_test,pred))"
   ]
  },
  {
   "cell_type": "code",
   "execution_count": 60,
   "metadata": {},
   "outputs": [
    {
     "data": {
      "text/plain": [
       "array([[3.0000e+00, 4.0000e+00, 1.0000e+00, ..., 1.7000e+02, 2.0200e+02,\n",
       "        2.7770e+03],\n",
       "       [1.6000e+01, 1.1000e+01, 4.0000e+00, ..., 5.2400e+02, 9.3500e+02,\n",
       "        2.9920e+03],\n",
       "       [2.2000e+01, 6.0000e+00, 1.0000e+00, ..., 2.6880e+04, 3.6381e+04,\n",
       "        2.9920e+03],\n",
       "       ...,\n",
       "       [1.4000e+01, 4.0000e+00, 1.0000e+00, ..., 3.1330e+03, 8.4060e+03,\n",
       "        2.9160e+03],\n",
       "       [2.7000e+01, 5.0000e+00, 4.0000e+00, ..., 8.8000e+01, 1.6900e+02,\n",
       "        2.8910e+03],\n",
       "       [2.4000e+01, 1.6000e+01, 4.0000e+00, ..., 1.7120e+03, 3.1806e+04,\n",
       "        1.4950e+03]])"
      ]
     },
     "execution_count": 60,
     "metadata": {},
     "output_type": "execute_result"
    }
   ],
   "source": [
    "x_train"
   ]
  },
  {
   "cell_type": "code",
   "execution_count": 55,
   "metadata": {},
   "outputs": [
    {
     "data": {
      "text/plain": [
       "array([[2.7000e+01, 1.0000e+00, 4.0000e+00, ..., 3.6490e+03, 4.5050e+04,\n",
       "        2.9920e+03],\n",
       "       [1.4000e+01, 1.5000e+01, 1.0000e+00, ..., 8.8000e+01, 1.1100e+02,\n",
       "        2.9920e+03],\n",
       "       [3.0000e+01, 1.4000e+01, 2.0000e+00, ..., 1.9883e+04, 4.5050e+04,\n",
       "        2.9920e+03],\n",
       "       ...,\n",
       "       [3.0000e+00, 1.2000e+01, 2.0000e+00, ..., 1.3170e+03, 2.4680e+03,\n",
       "        2.9920e+03],\n",
       "       [1.6000e+01, 9.0000e+00, 2.0000e+00, ..., 2.8513e+04, 4.5050e+04,\n",
       "        1.8950e+03],\n",
       "       [1.4000e+01, 9.0000e+00, 1.0000e+00, ..., 3.7000e+02, 2.0200e+02,\n",
       "        2.2500e+03]])"
      ]
     },
     "execution_count": 55,
     "metadata": {},
     "output_type": "execute_result"
    }
   ],
   "source": [
    "x_test"
   ]
  },
  {
   "cell_type": "code",
   "execution_count": 56,
   "metadata": {},
   "outputs": [
    {
     "data": {
      "text/plain": [
       "array([0, 0, 1, ..., 1, 2, 1])"
      ]
     },
     "execution_count": 56,
     "metadata": {},
     "output_type": "execute_result"
    }
   ],
   "source": [
    "y_train"
   ]
  },
  {
   "cell_type": "code",
   "execution_count": 57,
   "metadata": {},
   "outputs": [
    {
     "data": {
      "text/plain": [
       "array([1, 2, 1, ..., 2, 1, 0])"
      ]
     },
     "execution_count": 57,
     "metadata": {},
     "output_type": "execute_result"
    }
   ],
   "source": [
    "y_test"
   ]
  },
  {
   "cell_type": "code",
   "execution_count": null,
   "metadata": {},
   "outputs": [],
   "source": []
  }
 ],
 "metadata": {
  "kernelspec": {
   "display_name": "Python 3",
   "language": "python",
   "name": "python3"
  },
  "language_info": {
   "codemirror_mode": {
    "name": "ipython",
    "version": 3
   },
   "file_extension": ".py",
   "mimetype": "text/x-python",
   "name": "python",
   "nbconvert_exporter": "python",
   "pygments_lexer": "ipython3",
   "version": "3.8.3"
  }
 },
 "nbformat": 4,
 "nbformat_minor": 4
}
