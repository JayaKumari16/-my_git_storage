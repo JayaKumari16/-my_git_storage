{
 "cells": [
  {
   "cell_type": "markdown",
   "metadata": {},
   "source": [
    "#### Single line comment\n",
    "The first line starting with # is a single line comment.\n",
    "#### Multi line comment\n",
    "'''\n",
    "this is \n",
    "multi-line string and servers as a comment\n",
    "'''\n",
    "\n",
    "\n",
    "#### Python Datatypes\n",
    "int\n",
    "float\n",
    "complex\n",
    "bytes\n",
    "string"
   ]
  },
  {
   "cell_type": "markdown",
   "metadata": {},
   "source": [
    "### Type Casting\n",
    "* In Python, Type Casting is a process in which we convert a literal of one type to another.\n",
    "* Inbuilt functions int(), float() and str() shall be used for typecasting."
   ]
  },
  {
   "cell_type": "code",
   "execution_count": 2,
   "metadata": {},
   "outputs": [
    {
     "data": {
      "text/plain": [
       "123.0"
      ]
     },
     "execution_count": 2,
     "metadata": {},
     "output_type": "execute_result"
    }
   ],
   "source": [
    "## int to string to float\n",
    "\n",
    "a= 123\n",
    "\n",
    "# Float\n",
    "f=float(a)\n",
    "f"
   ]
  },
  {
   "cell_type": "code",
   "execution_count": 4,
   "metadata": {},
   "outputs": [
    {
     "data": {
      "text/plain": [
       "'123'"
      ]
     },
     "execution_count": 4,
     "metadata": {},
     "output_type": "execute_result"
    }
   ],
   "source": [
    "# string\n",
    "s=str(a)\n",
    "s"
   ]
  },
  {
   "cell_type": "code",
   "execution_count": 10,
   "metadata": {},
   "outputs": [
    {
     "data": {
      "text/plain": [
       "123.0"
      ]
     },
     "execution_count": 10,
     "metadata": {},
     "output_type": "execute_result"
    }
   ],
   "source": [
    "## Converting string to int and float\n",
    "b = \"123.0\"\n",
    "f = float(b)\n",
    "f\n"
   ]
  },
  {
   "cell_type": "code",
   "execution_count": 16,
   "metadata": {},
   "outputs": [
    {
     "data": {
      "text/plain": [
       "1230"
      ]
     },
     "execution_count": 16,
     "metadata": {},
     "output_type": "execute_result"
    }
   ],
   "source": [
    "b = \"1230\"\n",
    "c=int(b)\n",
    "c"
   ]
  },
  {
   "cell_type": "markdown",
   "metadata": {},
   "source": [
    "#### Python Conditional Statements\n",
    "* Python If\n",
    "* Python If Else\n",
    "* Python Elif\n",
    "* Python if and\n",
    "* Python if or\n",
    "* Python if not\n",
    "* Python Ternary Operator"
   ]
  },
  {
   "cell_type": "markdown",
   "metadata": {},
   "source": [
    "###  Python Ternary operator\n",
    "* Python Ternary operator is used to select one of the two values based on a condition. \n",
    "* It is a miniature of if-else statement that assigns one of the two values to a variable.\n",
    "* The syntax of Python Ternary Operator is:\n",
    "\n",
    "[statement_1] if [expression] else [statement_2]"
   ]
  },
  {
   "cell_type": "markdown",
   "metadata": {},
   "source": [
    "#### Nested Python Ternary Operator\n",
    "* You can nest a ternary operator in another statement with ternary operator.\n"
   ]
  },
  {
   "cell_type": "code",
   "execution_count": 18,
   "metadata": {},
   "outputs": [
    {
     "name": "stdout",
     "output_type": "stream",
     "text": [
      "22\n"
     ]
    }
   ],
   "source": [
    "a, b, c = 15, 93, 22\n",
    "\n",
    "#nested ternary operator\n",
    "max = a if a > b and a>c else c if b>c else b\n",
    "\n",
    "print(max)"
   ]
  },
  {
   "cell_type": "markdown",
   "metadata": {},
   "source": [
    "### Python For Loop\n",
    "Python For Loop can be used to iterate a set of statements once for each item of a sequence or collection."
   ]
  },
  {
   "cell_type": "markdown",
   "metadata": {},
   "source": [
    "###  Python For Loop with Range"
   ]
  },
  {
   "cell_type": "code",
   "execution_count": 1,
   "metadata": {},
   "outputs": [
    {
     "name": "stdout",
     "output_type": "stream",
     "text": [
      "25\n",
      "26\n",
      "27\n",
      "28\n"
     ]
    }
   ],
   "source": [
    "for i in range(25,29):\n",
    "\tprint(i)"
   ]
  },
  {
   "cell_type": "code",
   "execution_count": 2,
   "metadata": {},
   "outputs": [
    {
     "name": "stdout",
     "output_type": "stream",
     "text": [
      "python\n",
      "programming\n",
      "examples\n",
      "programs\n"
     ]
    }
   ],
   "source": [
    "##For Loop with List\n",
    "mylist = ['python', 'programming', 'examples', 'programs']\n",
    "\n",
    "for x in mylist:\n",
    "\tprint(x)"
   ]
  },
  {
   "cell_type": "code",
   "execution_count": 3,
   "metadata": {},
   "outputs": [
    {
     "data": {
      "text/plain": [
       "['a', 'b', 'c', 'd', 'e']"
      ]
     },
     "execution_count": 3,
     "metadata": {},
     "output_type": "execute_result"
    }
   ],
   "source": [
    "li=list('abcde')\n",
    "li"
   ]
  },
  {
   "cell_type": "code",
   "execution_count": 8,
   "metadata": {},
   "outputs": [
    {
     "name": "stdout",
     "output_type": "stream",
     "text": [
      "name : jaya\n",
      "course : BCA\n",
      "year : 2021\n"
     ]
    }
   ],
   "source": [
    "### For Loop with Dictionary\n",
    "dict={'name':'jaya','course':'BCA','year':'2021'}\n",
    "for i in dict:\n",
    "    print(i,':',dict[i])"
   ]
  },
  {
   "cell_type": "code",
   "execution_count": 12,
   "metadata": {},
   "outputs": [
    {
     "name": "stdout",
     "output_type": "stream",
     "text": [
      "1\n",
      "4\n",
      "5\n",
      "9\n",
      "23\n"
     ]
    }
   ],
   "source": [
    "### For Loop with set\n",
    "data={1,23,4,5,9}\n",
    "for i in data:\n",
    "    print(i)"
   ]
  },
  {
   "cell_type": "markdown",
   "metadata": {},
   "source": [
    "### break statement\n",
    "From the syntax and flow diagram, we know that for loop will be over only after executing statement(s) for all the elements in the iterable. But, we can break the for loop and end it before it has actually run for all the elements in the iterable using break statement."
   ]
  },
  {
   "cell_type": "code",
   "execution_count": 17,
   "metadata": {},
   "outputs": [
    {
     "name": "stdout",
     "output_type": "stream",
     "text": [
      "1\n",
      "23\n",
      "47\n",
      "7\n"
     ]
    }
   ],
   "source": [
    "list=[1,23,47,7,8,90]\n",
    "for i in list:\n",
    "    print(i)\n",
    "    if i==7:\n",
    "        break\n",
    "   \n",
    "        \n",
    "        "
   ]
  },
  {
   "cell_type": "markdown",
   "metadata": {},
   "source": [
    "### continue\n",
    "We can skip the execution of further statements in the for loop body, \n",
    "during that iteration, using continue statement. When continue statement is executed, the for loop\n",
    "continues with the execution of next element in the iterable,\n",
    "rather than completing all the statements in the for loop body.\n",
    "\n",
    " * When x is 7, continue statement is executed. The print statement after the continue statement \n",
    " * in the for loop has been skipped and \n",
    " * continued with the next element in the loop, which is 8."
   ]
  },
  {
   "cell_type": "code",
   "execution_count": 23,
   "metadata": {},
   "outputs": [
    {
     "name": "stdout",
     "output_type": "stream",
     "text": [
      "1\n",
      "23\n",
      "47\n",
      "8\n",
      "90\n"
     ]
    }
   ],
   "source": [
    "list=[1,23,47,7,8,90]\n",
    "for i in list:\n",
    "   \n",
    "    if i==7:\n",
    "        continue\n",
    "    print(i)\n",
    "   "
   ]
  },
  {
   "cell_type": "markdown",
   "metadata": {},
   "source": [
    "### Python Nested For Loop\n",
    "* For loop inside another for loop is called Nested For Loop.\n",
    "\n",
    "Python For Loop is just like another Python command or statement. \n",
    "So, can write a for loop inside another for loop and this is called nesting."
   ]
  },
  {
   "cell_type": "code",
   "execution_count": 33,
   "metadata": {},
   "outputs": [
    {
     "name": "stdout",
     "output_type": "stream",
     "text": [
      "0 0 0 0 \n",
      "1 1 1 1 \n",
      "2 2 2 2 \n"
     ]
    }
   ],
   "source": [
    "for i in range(3):\n",
    "    for a in range(4):\n",
    "        print(i,end=' ')\n",
    "    print()  "
   ]
  },
  {
   "cell_type": "markdown",
   "metadata": {},
   "source": [
    "### Python Type Conversion\n",
    "To convert integer to float in python, you can use the float() class with the int passed as argument to it.\n"
   ]
  },
  {
   "cell_type": "code",
   "execution_count": 35,
   "metadata": {},
   "outputs": [
    {
     "name": "stdout",
     "output_type": "stream",
     "text": [
      "5 is a type of <class 'int'>\n",
      "5.0 is a type of <class 'float'>\n"
     ]
    }
   ],
   "source": [
    "### Typecast Int to Float\n",
    "a=5\n",
    "print(a,'is a type of', type(a) )\n",
    "f=float(a)\n",
    "print(f,'is a type of',type(f))"
   ]
  },
  {
   "cell_type": "markdown",
   "metadata": {},
   "source": [
    "### Python Convert Int to Complex\n",
    "To convert int to complex in python, you can use complex() class with the int passed as an argument to it \n",
    "or add imaginary part to the integer so that the variable would typecast implicitly to complex datatype."
   ]
  },
  {
   "cell_type": "code",
   "execution_count": 38,
   "metadata": {},
   "outputs": [
    {
     "name": "stdout",
     "output_type": "stream",
     "text": [
      "type a <class 'int'>\n",
      "(2+0j)\n"
     ]
    }
   ],
   "source": [
    "a=2\n",
    "print(\"type a\",type(a))\n",
    "com=complex(a)\n",
    "print(com)"
   ]
  },
  {
   "cell_type": "code",
   "execution_count": 39,
   "metadata": {},
   "outputs": [],
   "source": [
    "st='1234'\n",
    "a=int(st)"
   ]
  },
  {
   "cell_type": "markdown",
   "metadata": {},
   "source": [
    "#### Python Identity Operators"
   ]
  },
  {
   "cell_type": "code",
   "execution_count": 48,
   "metadata": {},
   "outputs": [],
   "source": [
    "## Is operator in python\n",
    "###Python is keyword is used to check if the memory reference of two Python objects are same or not.\n",
    "##Python is operator takes two operands and returns True if both the objects have same memory reference and False if not."
   ]
  },
  {
   "cell_type": "code",
   "execution_count": 49,
   "metadata": {},
   "outputs": [
    {
     "data": {
      "text/plain": [
       "[2, 3]"
      ]
     },
     "execution_count": 49,
     "metadata": {},
     "output_type": "execute_result"
    }
   ],
   "source": [
    "a = [2,3]\n",
    "b = [2,3]\n",
    "c=a\n",
    "a"
   ]
  },
  {
   "cell_type": "code",
   "execution_count": 50,
   "metadata": {},
   "outputs": [
    {
     "data": {
      "text/plain": [
       "[2, 3]"
      ]
     },
     "execution_count": 50,
     "metadata": {},
     "output_type": "execute_result"
    }
   ],
   "source": [
    "c"
   ]
  },
  {
   "cell_type": "code",
   "execution_count": 51,
   "metadata": {},
   "outputs": [
    {
     "data": {
      "text/plain": [
       "[2, 3]"
      ]
     },
     "execution_count": 51,
     "metadata": {},
     "output_type": "execute_result"
    }
   ],
   "source": [
    "b"
   ]
  },
  {
   "cell_type": "code",
   "execution_count": 52,
   "metadata": {},
   "outputs": [
    {
     "name": "stdout",
     "output_type": "stream",
     "text": [
      "a is not b\n",
      "a is c\n"
     ]
    }
   ],
   "source": [
    "### the contents of a and b are same, but a and b are different objects having a different memory allocation.\n",
    "if a is b:\n",
    "\tprint('a is b')\n",
    "else:\n",
    "\tprint('a is not b')\n",
    "\n",
    "if a is c:\n",
    "\tprint('a is c')\n",
    "else:\n",
    "\tprint('a is not c')"
   ]
  },
  {
   "cell_type": "markdown",
   "metadata": {},
   "source": [
    "### Python IS NOT\n",
    "Python is not operation is simply the opposite of Python is.\n",
    "\n",
    "Python is not checks if the two operands refer to the same memory reference.\n",
    "If they do not have the same memory reference, python is not returns True, else it returns False."
   ]
  },
  {
   "cell_type": "code",
   "execution_count": 55,
   "metadata": {},
   "outputs": [
    {
     "name": "stdout",
     "output_type": "stream",
     "text": [
      "a is b\n",
      "a is not c\n"
     ]
    }
   ],
   "source": [
    "if a is not b:\n",
    "\tprint('a is b')\n",
    "else:\n",
    "\tprint('a is not b')\n",
    "\n",
    "if a is not c:\n",
    "\tprint('a is c')\n",
    "else:\n",
    "\tprint('a is not c')"
   ]
  },
  {
   "cell_type": "markdown",
   "metadata": {},
   "source": [
    "### Python Comparison Operators /  Python Relational Operators\n",
    "\n",
    "Python Comparison Operators compare two operands and return a boolean value based on the comparison made.\n",
    "\n",
    "There are six comparison operators in Python. They are\n",
    "\n",
    "* Equal\n",
    "* Not equal\n",
    "* Greater than\n",
    "* Less than\n",
    "* Greater than or equal to\n",
    "* Less than or equal to"
   ]
  },
  {
   "cell_type": "markdown",
   "metadata": {},
   "source": [
    "### Bitwise\n",
    "bitwise operators are used to performing bitwise calculations on integers. The integers are first converted into binary and then operations are performed on bit by bit,\n",
    "hence the name bitwise operators. Then the result is returned in decimal format."
   ]
  },
  {
   "cell_type": "markdown",
   "metadata": {},
   "source": [
    "* Bitwise AND operator: Returns 1 if both the bits are 1 else 0.\n",
    "* Bitwise or operator: Returns 1 if either of the bit is 1 else 0.\n",
    "* Bitwise not operator: Returns one’s complement of the number."
   ]
  },
  {
   "cell_type": "code",
   "execution_count": null,
   "metadata": {},
   "outputs": [],
   "source": [
    "## Example\n",
    "a = 10 = 1010 (Binary)\n",
    "b = 4 =  0100 (Binary)\n",
    "\n",
    "a & b = 1010\n",
    "         &\n",
    "        0100\n",
    "      = 0000\n",
    "      = 0 (Decimal)"
   ]
  },
  {
   "cell_type": "markdown",
   "metadata": {},
   "source": [
    "### Python Functions"
   ]
  },
  {
   "cell_type": "markdown",
   "metadata": {},
   "source": [
    "###  *args (Non Keyword Arguments)\n",
    "\n",
    "Python *args parameter in a function definition allows the function to accept multiple arguments.\n",
    "It can take n number of inputs.\n",
    "The asterisk symbol is called unpacking operator.\n",
    "\n"
   ]
  },
  {
   "cell_type": "code",
   "execution_count": 75,
   "metadata": {},
   "outputs": [
    {
     "name": "stdout",
     "output_type": "stream",
     "text": [
      "21\n"
     ]
    }
   ],
   "source": [
    "\n",
    "def add(*args):\n",
    "    res=0\n",
    "    for i in args:\n",
    "        res+=i\n",
    "    print(res)\n",
    " \n",
    "add(4,9,8)    "
   ]
  },
  {
   "cell_type": "markdown",
   "metadata": {},
   "source": [
    "### **kwargs (Keyword Arguments)\n",
    "Python **kwargs allows function call to pass variable number of keyword (named) arguments to the function.\n",
    "The datatype of kwargs is dictionary.\n",
    "So, keywords and respective argument values come as key:value pairs. The number of key:value pairs in kwargs is determined only by the function call at the runtime."
   ]
  },
  {
   "cell_type": "code",
   "execution_count": 2,
   "metadata": {},
   "outputs": [],
   "source": [
    "def sub(**kwargs):\n",
    "    \n",
    "    for x,y in kwargs.items():\n",
    "        print(\"{} is {}\".format(x,y))\n",
    "        \n",
    "sub()       \n",
    "       "
   ]
  },
  {
   "cell_type": "code",
   "execution_count": 3,
   "metadata": {},
   "outputs": [
    {
     "name": "stdout",
     "output_type": "stream",
     "text": [
      "0 1 1 2 3 5 8 13 21 34 "
     ]
    }
   ],
   "source": [
    "def fibo(n):\n",
    "    if n>1:\n",
    "        return fibo(n-1)+fibo(n-2)\n",
    "    else:\n",
    "        return n\n",
    "for i in range(10):\n",
    "    \n",
    "    print(fibo(i),end=\" \")\n",
    "        "
   ]
  },
  {
   "cell_type": "code",
   "execution_count": 10,
   "metadata": {},
   "outputs": [
    {
     "data": {
      "text/plain": [
       "120"
      ]
     },
     "execution_count": 10,
     "metadata": {},
     "output_type": "execute_result"
    }
   ],
   "source": [
    "def fact(n):\n",
    "    if n>1:\n",
    "        return n*fact(n-1)\n",
    "    else:\n",
    "        return 1\n",
    "fact(5)  "
   ]
  },
  {
   "cell_type": "code",
   "execution_count": 16,
   "metadata": {},
   "outputs": [
    {
     "name": "stdout",
     "output_type": "stream",
     "text": [
      "number26\n",
      "no\n"
     ]
    }
   ],
   "source": [
    "\n",
    "num=int(input(\"number\"))\n",
    "s=str(num)\n",
    "l=len(s)\n",
    "sum=0\n",
    "temp=num\n",
    "while temp>0:\n",
    "    a=temp%10\n",
    "    sum+=a**l \n",
    "    temp//=10\n",
    "if num==sum:\n",
    "    print('yes')\n",
    "else:\n",
    "    print(\"no\")\n",
    "\n",
    "  \n",
    "    "
   ]
  },
  {
   "cell_type": "code",
   "execution_count": 18,
   "metadata": {},
   "outputs": [
    {
     "name": "stdout",
     "output_type": "stream",
     "text": [
      " *   \n",
      " *   *   \n",
      " *   *   *   \n",
      " *   *   *   *   \n",
      " *   *   *   *   *   \n"
     ]
    }
   ],
   "source": [
    "def angle(n):\n",
    "    for i in range(0,n):\n",
    "        for j in range(i+1):\n",
    "             print (\" * \",end=\" \")\n",
    "        print(' ')\n",
    "angle(5)"
   ]
  },
  {
   "cell_type": "code",
   "execution_count": 3,
   "metadata": {},
   "outputs": [
    {
     "name": "stdout",
     "output_type": "stream",
     "text": [
      "             *  \n",
      "          *  *  *  \n",
      "       *  *  *  *  *  \n",
      "    *  *  *  *  *  *  *  \n"
     ]
    }
   ],
   "source": [
    "def py(n):\n",
    "    for i in range(0,n):\n",
    "        for j in range(0,(n-i)):\n",
    "            print('   ',end=\"\")\n",
    "        for j in range(0,2*i+1):   \n",
    "            print(\" * \",end='')\n",
    "        print(' ')\n",
    "py(4)"
   ]
  },
  {
   "cell_type": "code",
   "execution_count": 27,
   "metadata": {},
   "outputs": [
    {
     "name": "stdout",
     "output_type": "stream",
     "text": [
      "1 \n",
      "1 1 \n",
      "1 2 1 \n",
      "1 3 3 1 \n",
      "1 4 6 4 1 \n"
     ]
    }
   ],
   "source": [
    "def pascal(n):\n",
    "    for i in range(1,n+1):\n",
    "        c=1\n",
    "        for j in range(1,i+1):\n",
    "            print(c,end=\" \")\n",
    "            c=int(c*(i-j)/j)\n",
    "        print(\"\")\n",
    "pascal(5)"
   ]
  },
  {
   "cell_type": "code",
   "execution_count": 1,
   "metadata": {},
   "outputs": [
    {
     "name": "stdout",
     "output_type": "stream",
     "text": [
      "60\n"
     ]
    }
   ],
   "source": [
    "\n",
    "## LCM\n",
    "a=12\n",
    "b=5\n",
    "res=max(a,b)\n",
    "while True:\n",
    "    if ((res%a==0) and (res%b==0) ):  \n",
    "        break\n",
    "    res+=1\n",
    "print(res)"
   ]
  },
  {
   "cell_type": "code",
   "execution_count": 2,
   "metadata": {},
   "outputs": [
    {
     "name": "stdout",
     "output_type": "stream",
     "text": [
      "200\n"
     ]
    }
   ],
   "source": [
    "def hcf(x,y):\n",
    "    while y:\n",
    "        x,y=y,x%y\n",
    "    return x\n",
    "hcf1=hcf(200,400)\n",
    "print(hcf1)"
   ]
  },
  {
   "cell_type": "code",
   "execution_count": null,
   "metadata": {},
   "outputs": [],
   "source": []
  }
 ],
 "metadata": {
  "kernelspec": {
   "display_name": "Python 3",
   "language": "python",
   "name": "python3"
  },
  "language_info": {
   "codemirror_mode": {
    "name": "ipython",
    "version": 3
   },
   "file_extension": ".py",
   "mimetype": "text/x-python",
   "name": "python",
   "nbconvert_exporter": "python",
   "pygments_lexer": "ipython3",
   "version": "3.8.3"
  }
 },
 "nbformat": 4,
 "nbformat_minor": 4
}
